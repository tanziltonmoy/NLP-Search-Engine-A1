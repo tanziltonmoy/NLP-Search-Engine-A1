{
 "cells": [
  {
   "attachments": {},
   "cell_type": "markdown",
   "metadata": {},
   "source": [
    "# Word2Vec (Skipgram )"
   ]
  },
  {
   "cell_type": "markdown",
   "metadata": {},
   "source": [
    "### Importing Library"
   ]
  },
  {
   "cell_type": "code",
   "execution_count": 1,
   "metadata": {},
   "outputs": [
    {
     "name": "stdout",
     "output_type": "stream",
     "text": [
      "Note: you may need to restart the kernel to use updated packages.\n"
     ]
    },
    {
     "name": "stderr",
     "output_type": "stream",
     "text": [
      "\n",
      "[notice] A new release of pip is available: 23.2.1 -> 24.0\n",
      "[notice] To update, run: python.exe -m pip install --upgrade pip\n"
     ]
    },
    {
     "name": "stdout",
     "output_type": "stream",
     "text": [
      "Requirement already satisfied: nltk in c:\\users\\asus\\appdata\\local\\programs\\python\\python310\\lib\\site-packages (3.8.1)\n",
      "Requirement already satisfied: click in c:\\users\\asus\\appdata\\local\\programs\\python\\python310\\lib\\site-packages (from nltk) (8.1.7)\n",
      "Requirement already satisfied: joblib in c:\\users\\asus\\appdata\\local\\programs\\python\\python310\\lib\\site-packages (from nltk) (1.3.2)\n",
      "Requirement already satisfied: regex>=2021.8.3 in c:\\users\\asus\\appdata\\local\\programs\\python\\python310\\lib\\site-packages (from nltk) (2023.12.25)\n",
      "Requirement already satisfied: tqdm in c:\\users\\asus\\appdata\\local\\programs\\python\\python310\\lib\\site-packages (from nltk) (4.66.1)\n",
      "Requirement already satisfied: colorama in c:\\users\\asus\\appdata\\local\\programs\\python\\python310\\lib\\site-packages (from click->nltk) (0.4.6)\n"
     ]
    }
   ],
   "source": [
    "pip install nltk"
   ]
  },
  {
   "cell_type": "code",
   "execution_count": 2,
   "metadata": {},
   "outputs": [],
   "source": [
    "import numpy as np\n",
    "import torch\n",
    "import torch.nn as nn\n",
    "import torch.optim as optim\n",
    "import matplotlib\n",
    "import matplotlib.pyplot as plt\n",
    "import json \n",
    "import time\n",
    "import string"
   ]
  },
  {
   "cell_type": "code",
   "execution_count": 3,
   "metadata": {},
   "outputs": [
    {
     "data": {
      "text/plain": [
       "('1.25.2', '2.1.1+cpu')"
      ]
     },
     "execution_count": 3,
     "metadata": {},
     "output_type": "execute_result"
    }
   ],
   "source": [
    "np.__version__, torch.__version__"
   ]
  },
  {
   "cell_type": "code",
   "execution_count": 4,
   "metadata": {},
   "outputs": [
    {
     "data": {
      "text/plain": [
       "'3.7.2'"
      ]
     },
     "execution_count": 4,
     "metadata": {},
     "output_type": "execute_result"
    }
   ],
   "source": [
    "matplotlib.__version__"
   ]
  },
  {
   "attachments": {},
   "cell_type": "markdown",
   "metadata": {},
   "source": [
    "## 1. Load data and download resources"
   ]
  },
  {
   "cell_type": "code",
   "execution_count": 12,
   "metadata": {},
   "outputs": [
    {
     "name": "stderr",
     "output_type": "stream",
     "text": [
      "[nltk_data] Downloading package reuters to\n",
      "[nltk_data]     C:\\Users\\ASUS\\AppData\\Roaming\\nltk_data...\n",
      "[nltk_data]   Package reuters is already up-to-date!\n",
      "[nltk_data] Downloading package punkt to\n",
      "[nltk_data]     C:\\Users\\ASUS\\AppData\\Roaming\\nltk_data...\n",
      "[nltk_data]   Package punkt is already up-to-date!\n"
     ]
    },
    {
     "data": {
      "text/plain": [
       "True"
      ]
     },
     "execution_count": 12,
     "metadata": {},
     "output_type": "execute_result"
    }
   ],
   "source": [
    "import nltk\n",
    "# Download NLTK resources: 'reuters' corpus for text classification and 'punkt' tokenizer model for sentence splitting.\n",
    "\n",
    "nltk.download('reuters')\n",
    "nltk.download('punkt')"
   ]
  },
  {
   "cell_type": "code",
   "execution_count": 13,
   "metadata": {},
   "outputs": [],
   "source": [
    "# Assigning NLTK's Reuters corpus sentences to 'corpus_reuters' for further processing.\n",
    "\n",
    "from nltk.corpus import reuters\n",
    "corpus_reuters = reuters.sents()"
   ]
  },
  {
   "cell_type": "code",
   "execution_count": 14,
   "metadata": {},
   "outputs": [],
   "source": [
    "# Joining each sentence in 'corpus_reuters' into a single string and tokenizing it into words, converting them to lowercase.\n",
    "corpus_reuters = [\" \".join(sent) for sent in corpus_reuters]\n",
    "corpus_reuters = [nltk.word_tokenize(sent.lower()) for sent in corpus_reuters]"
   ]
  },
  {
   "cell_type": "code",
   "execution_count": 15,
   "metadata": {},
   "outputs": [],
   "source": [
    "# Defining a lambda function 'flatten' to flatten a list of lists.\n",
    "flatten = lambda l: [item for sublist in l for item in sublist]\n",
    "\n",
    "# Calculating the total number of tokens in the 'corpus_reuters' by summing the lengths of all sentences.\n",
    "total_tokens = sum(len(sentence) for sentence in corpus_reuters)\n"
   ]
  },
  {
   "cell_type": "code",
   "execution_count": 16,
   "metadata": {},
   "outputs": [
    {
     "name": "stdout",
     "output_type": "stream",
     "text": [
      "Total Passages in the corpus: 54716\n",
      "Total Tokens in the corpus: 1728932\n"
     ]
    }
   ],
   "source": [
    "# Printing the total number of passages and tokens in the corpus_reuters.\n",
    "print(\"Total Passages in the corpus:\", len(corpus_reuters))\n",
    "print(\"Total Tokens in the corpus:\", total_tokens)\n"
   ]
  },
  {
   "cell_type": "code",
   "execution_count": 17,
   "metadata": {},
   "outputs": [],
   "source": [
    "# Subset of 1000 passages created for efficiency, testing, resource constraints, and concise example demonstration.\n",
    "corpus_ss = corpus_reuters[:1000]"
   ]
  },
  {
   "cell_type": "code",
   "execution_count": 18,
   "metadata": {},
   "outputs": [],
   "source": [
    "# Defining a lambda function 'flatten' to flatten a list of lists and creating a vocabulary list.\n",
    "flatten = lambda l: [item for sublist in l for item in sublist]\n",
    "vocabs = list(set(flatten(corpus_ss)))  # 'corpus_ss' contains tokenized sentences"
   ]
  },
  {
   "cell_type": "code",
   "execution_count": 19,
   "metadata": {},
   "outputs": [],
   "source": [
    "#append UNK\n",
    "vocabs.append('<UNK>')"
   ]
  },
  {
   "cell_type": "code",
   "execution_count": 20,
   "metadata": {},
   "outputs": [
    {
     "data": {
      "text/plain": [
       "['deposits', 'ggfh', '854', 'door', 'consortium']"
      ]
     },
     "execution_count": 20,
     "metadata": {},
     "output_type": "execute_result"
    }
   ],
   "source": [
    "vocabs[:5]"
   ]
  },
  {
   "cell_type": "code",
   "execution_count": 21,
   "metadata": {},
   "outputs": [
    {
     "data": {
      "text/plain": [
       "(1000, 4153)"
      ]
     },
     "execution_count": 21,
     "metadata": {},
     "output_type": "execute_result"
    }
   ],
   "source": [
    "len(corpus_ss), len(vocabs)"
   ]
  },
  {
   "cell_type": "code",
   "execution_count": 22,
   "metadata": {},
   "outputs": [
    {
     "data": {
      "text/plain": [
       "(4153, 4153)"
      ]
     },
     "execution_count": 22,
     "metadata": {},
     "output_type": "execute_result"
    }
   ],
   "source": [
    "# Creating word to index and index to word dictionaries\n",
    "word2index = {v: idx for idx, v in enumerate(vocabs)}\n",
    "# Adding '<UNK>' token to word2index\n",
    "word2index['<UNK>'] = len(vocabs) - 1\n",
    "\n",
    "# Creating index to word dictionary\n",
    "index2word = {v: k for k, v in word2index.items()}\n",
    "\n",
    "# Calculating lengths of dictionaries\n",
    "len(word2index), len(index2word)\n"
   ]
  },
  {
   "attachments": {},
   "cell_type": "markdown",
   "metadata": {},
   "source": [
    "## 2. Prepare train data"
   ]
  },
  {
   "cell_type": "code",
   "execution_count": 23,
   "metadata": {},
   "outputs": [],
   "source": [
    "corpus = corpus_ss # for simiplicity of operation \n",
    "\n",
    "def random_batch(batch_size, corpus, window_size=2):\n",
    "    \"\"\"\n",
    "    Generates a random batch of skipgram pairs from a given corpus.\n",
    "\n",
    "    Args:\n",
    "    - batch_size: Number of skipgram pairs to include in the batch.\n",
    "    - corpus: List of tokenized sentences forming the corpus.\n",
    "    - window_size: Size of the context window to consider around each center word.\n",
    "\n",
    "    Returns:\n",
    "    - inputs: Array of center words.\n",
    "    - labels: Array of corresponding outside words.\n",
    "    \"\"\"\n",
    "    skipgrams = []  # List to store skipgram pairs\n",
    "\n",
    "    # Loop over each document in the corpus\n",
    "    for doc in corpus:\n",
    "        # Look from the 2nd word until second last word\n",
    "        for i in range(window_size, len(doc) - window_size):\n",
    "            # Center word\n",
    "            center = word2index.get(doc[i], word2index['<UNK>'])\n",
    "            # Outside words (context words)\n",
    "            outside = [word2index.get(doc[j], word2index['<UNK>']) for j in range(i - window_size, i + window_size + 1) if j != i]\n",
    "            # For each outside word, create a skipgram pair with the center word\n",
    "            for each_out in outside:\n",
    "                skipgrams.append([center, each_out])\n",
    "\n",
    "    # Randomly select skipgram pairs to form a batch\n",
    "    random_index = np.random.choice(range(len(skipgrams)), batch_size, replace=False)\n",
    "    \n",
    "    # Initialize lists to store inputs (center words) and labels (outside words)\n",
    "    inputs, labels = [], []\n",
    "    for index in random_index:\n",
    "        inputs.append([skipgrams[index][0]])\n",
    "        labels.append([skipgrams[index][1]])\n",
    "        \n",
    "    return np.array(inputs), np.array(labels)\n",
    "            \n",
    "# Example usage: Generating a random batch of 2 samples\n",
    "x, y = random_batch(2, corpus)\n"
   ]
  },
  {
   "cell_type": "code",
   "execution_count": 24,
   "metadata": {},
   "outputs": [
    {
     "data": {
      "text/plain": [
       "(2, 1)"
      ]
     },
     "execution_count": 24,
     "metadata": {},
     "output_type": "execute_result"
    }
   ],
   "source": [
    "x.shape  #batch_size, 1"
   ]
  },
  {
   "cell_type": "code",
   "execution_count": 25,
   "metadata": {},
   "outputs": [
    {
     "data": {
      "text/plain": [
       "array([[3067],\n",
       "       [ 919]])"
      ]
     },
     "execution_count": 25,
     "metadata": {},
     "output_type": "execute_result"
    }
   ],
   "source": [
    "x"
   ]
  },
  {
   "cell_type": "code",
   "execution_count": 26,
   "metadata": {},
   "outputs": [
    {
     "data": {
      "text/plain": [
       "(2, 1)"
      ]
     },
     "execution_count": 26,
     "metadata": {},
     "output_type": "execute_result"
    }
   ],
   "source": [
    "y.shape  #batch_size 1"
   ]
  },
  {
   "cell_type": "markdown",
   "metadata": {},
   "source": [
    "## 3. Negative Sampling\n",
    "\n",
    "### Unigram distribution\n",
    "\n",
    "$$P(w)=U(w)^{3/4}/Z$$"
   ]
  },
  {
   "cell_type": "code",
   "execution_count": 27,
   "metadata": {},
   "outputs": [
    {
     "data": {
      "text/plain": [
       "30701"
      ]
     },
     "execution_count": 27,
     "metadata": {},
     "output_type": "execute_result"
    }
   ],
   "source": [
    "z = 0.001\n",
    "#count\n",
    "from collections import Counter\n",
    "\n",
    "word_count = Counter(flatten(corpus))\n",
    "word_count\n",
    "\n",
    "#get the total number of words\n",
    "num_total_words = sum([c for w, c in word_count.items()])\n",
    "num_total_words"
   ]
  },
  {
   "cell_type": "markdown",
   "metadata": {},
   "source": [
    "$$P(w)=U(w)^{3/4}/Z$$"
   ]
  },
  {
   "cell_type": "code",
   "execution_count": 28,
   "metadata": {},
   "outputs": [
    {
     "data": {
      "text/plain": [
       "Counter({'higher': 1,\n",
       "         'trade': 10,\n",
       "         '5': 8,\n",
       "         'bills': 2,\n",
       "         'week': 4,\n",
       "         'most': 1,\n",
       "         'seen': 1,\n",
       "         'semiconductor': 1,\n",
       "         'probably': 1,\n",
       "         'pampa': 1,\n",
       "         'just': 1,\n",
       "         'revenues': 1,\n",
       "         'interstate': 1,\n",
       "         'imports': 4,\n",
       "         'forward': 1,\n",
       "         'takeovers': 1,\n",
       "         'agent': 1,\n",
       "         'l': 2,\n",
       "         'britain': 1,\n",
       "         'acquired': 2,\n",
       "         'group': 5,\n",
       "         'by': 18,\n",
       "         'director': 1,\n",
       "         'brito': 1,\n",
       "         'u': 17,\n",
       "         'fall': 2,\n",
       "         'legislation': 1,\n",
       "         'a': 43,\n",
       "         'kuwait': 1,\n",
       "         'plant': 2,\n",
       "         'treasury': 1,\n",
       "         'full': 1,\n",
       "         'without': 1,\n",
       "         'levels': 1,\n",
       "         'saw': 1,\n",
       "         'you': 1,\n",
       "         'prior': 2,\n",
       "         'purchase': 2,\n",
       "         'years': 3,\n",
       "         '3rd': 1,\n",
       "         'holdings': 1,\n",
       "         'china': 3,\n",
       "         'malaysia': 1,\n",
       "         'building': 1,\n",
       "         'data': 2,\n",
       "         '/': 8,\n",
       "         '60': 3,\n",
       "         'look': 1,\n",
       "         'or': 7,\n",
       "         'increase': 4,\n",
       "         'ruling': 1,\n",
       "         '>': 18,\n",
       "         'saying': 1,\n",
       "         'several': 2,\n",
       "         'fed': 2,\n",
       "         '&': 18,\n",
       "         '(': 8,\n",
       "         'stauffer': 1,\n",
       "         'tunisia': 1,\n",
       "         'product': 1,\n",
       "         'number': 1,\n",
       "         'gain': 2,\n",
       "         'need': 1,\n",
       "         'london': 2,\n",
       "         'officers': 1,\n",
       "         'selling': 1,\n",
       "         'feb': 3,\n",
       "         'measures': 1,\n",
       "         'investors': 2,\n",
       "         'level': 2,\n",
       "         'pressure': 1,\n",
       "         'trump': 1,\n",
       "         'eight': 1,\n",
       "         'francs': 1,\n",
       "         'hold': 2,\n",
       "         'had': 8,\n",
       "         '88': 1,\n",
       "         'soriano': 1,\n",
       "         'european': 2,\n",
       "         'industry': 5,\n",
       "         'leading': 1,\n",
       "         'burlington': 3,\n",
       "         'stocks': 1,\n",
       "         'does': 1,\n",
       "         'mln': 33,\n",
       "         'situation': 1,\n",
       "         'production': 3,\n",
       "         'lower': 1,\n",
       "         'lead': 2,\n",
       "         'problems': 2,\n",
       "         'harvest': 1,\n",
       "         'facilities': 2,\n",
       "         'national': 2,\n",
       "         'into': 4,\n",
       "         'mills': 1,\n",
       "         'unchanged': 1,\n",
       "         'another': 1,\n",
       "         'slow': 1,\n",
       "         'daily': 2,\n",
       "         'line': 1,\n",
       "         'biggest': 1,\n",
       "         'being': 2,\n",
       "         'div': 2,\n",
       "         'part': 1,\n",
       "         'datron': 2,\n",
       "         'declined': 2,\n",
       "         'heiwa': 1,\n",
       "         'budget': 1,\n",
       "         'people': 2,\n",
       "         'around': 5,\n",
       "         'related': 1,\n",
       "         '90': 2,\n",
       "         'against': 4,\n",
       "         'system': 2,\n",
       "         'end': 4,\n",
       "         'publishing': 1,\n",
       "         'sale': 2,\n",
       "         'meeting': 3,\n",
       "         'chief': 1,\n",
       "         'off': 2,\n",
       "         'seven': 3,\n",
       "         'japanese': 6,\n",
       "         'electric': 1,\n",
       "         'october': 2,\n",
       "         'already': 2,\n",
       "         '750': 1,\n",
       "         'least': 1,\n",
       "         'likely': 3,\n",
       "         'b': 3,\n",
       "         'cost': 1,\n",
       "         'yield': 1,\n",
       "         'be': 15,\n",
       "         'cut': 2,\n",
       "         '30': 4,\n",
       "         'home': 1,\n",
       "         'employers': 1,\n",
       "         'improvement': 1,\n",
       "         'offer': 2,\n",
       "         'disclosed': 1,\n",
       "         'currently': 1,\n",
       "         'kind': 1,\n",
       "         'holds': 1,\n",
       "         'debt': 3,\n",
       "         'cash': 1,\n",
       "         'tender': 4,\n",
       "         'assets': 1,\n",
       "         'recently': 1,\n",
       "         'investment': 4,\n",
       "         'tariffs': 3,\n",
       "         'moves': 1,\n",
       "         'seeking': 1,\n",
       "         'called': 2,\n",
       "         'act': 1,\n",
       "         '49': 1,\n",
       "         'short': 1,\n",
       "         'plans': 1,\n",
       "         'wheat': 2,\n",
       "         'only': 3,\n",
       "         '78': 1,\n",
       "         'earlier': 4,\n",
       "         'losses': 2,\n",
       "         'effect': 1,\n",
       "         '4': 10,\n",
       "         'would': 12,\n",
       "         'gold': 2,\n",
       "         'trying': 1,\n",
       "         'plc': 2,\n",
       "         'agreement': 4,\n",
       "         'continued': 1,\n",
       "         'west': 4,\n",
       "         'atlas': 2,\n",
       "         '17': 2,\n",
       "         'branch': 1,\n",
       "         'world': 3,\n",
       "         't': 3,\n",
       "         '25': 3,\n",
       "         'pretax': 2,\n",
       "         'keep': 1,\n",
       "         'rumors': 1,\n",
       "         'whose': 1,\n",
       "         'our': 2,\n",
       "         'commodity': 2,\n",
       "         'believe': 1,\n",
       "         'i': 3,\n",
       "         'important': 1,\n",
       "         'security': 2,\n",
       "         'expects': 2,\n",
       "         'finance': 1,\n",
       "         'placed': 1,\n",
       "         'fell': 2,\n",
       "         'spending': 1,\n",
       "         'hard': 1,\n",
       "         'producer': 2,\n",
       "         'ended': 1,\n",
       "         '358': 1,\n",
       "         'company': 12,\n",
       "         'what': 2,\n",
       "         'icch': 1,\n",
       "         'metals': 1,\n",
       "         'ucpb': 1,\n",
       "         'series': 1,\n",
       "         'maintain': 1,\n",
       "         'sequestered': 2,\n",
       "         'but': 11,\n",
       "         'countries': 2,\n",
       "         'september': 1,\n",
       "         'marketer': 1,\n",
       "         '29': 2,\n",
       "         'better': 1,\n",
       "         'sold': 2,\n",
       "         '118': 1,\n",
       "         'are': 11,\n",
       "         'quality': 1,\n",
       "         'affairs': 1,\n",
       "         'well': 2,\n",
       "         'australia': 3,\n",
       "         'improved': 2,\n",
       "         '150': 1,\n",
       "         'relations': 1,\n",
       "         'board': 3,\n",
       "         'dosher': 1,\n",
       "         'than': 4,\n",
       "         'five': 5,\n",
       "         'capacity': 2,\n",
       "         'split': 2,\n",
       "         'resources': 1,\n",
       "         'extension': 2,\n",
       "         'addition': 1,\n",
       "         'use': 1,\n",
       "         'rains': 1,\n",
       "         'official': 4,\n",
       "         'reduce': 3,\n",
       "         '67': 1,\n",
       "         'real': 1,\n",
       "         'now': 3,\n",
       "         'changes': 1,\n",
       "         'issued': 1,\n",
       "         'alexanders': 1,\n",
       "         'supply': 2,\n",
       "         'second': 1,\n",
       "         '18': 3,\n",
       "         'diaz': 1,\n",
       "         'funds': 1,\n",
       "         'workers': 1,\n",
       "         'management': 1,\n",
       "         'representative': 1,\n",
       "         'community': 1,\n",
       "         'service': 1,\n",
       "         'each': 1,\n",
       "         'ordinary': 1,\n",
       "         'kuroda': 2,\n",
       "         'award': 1,\n",
       "         'excessive': 1,\n",
       "         'local': 1,\n",
       "         'export': 3,\n",
       "         'can': 3,\n",
       "         'when': 4,\n",
       "         'result': 2,\n",
       "         'has': 14,\n",
       "         'above': 2,\n",
       "         '21': 2,\n",
       "         'were': 7,\n",
       "         'fiscal': 1,\n",
       "         'unit': 2,\n",
       "         'metal': 1,\n",
       "         'pre': 1,\n",
       "         'manager': 1,\n",
       "         'europe': 1,\n",
       "         'managing': 1,\n",
       "         'owned': 2,\n",
       "         'j': 2,\n",
       "         'general': 2,\n",
       "         '65': 2,\n",
       "         'bond': 2,\n",
       "         'hong': 2,\n",
       "         'shrs': 2,\n",
       "         'nickel': 1,\n",
       "         'spain': 1,\n",
       "         '16': 3,\n",
       "         'farm': 2,\n",
       "         '45': 1,\n",
       "         'consumer': 1,\n",
       "         'move': 2,\n",
       "         'philippines': 1,\n",
       "         'putting': 1,\n",
       "         'six': 2,\n",
       "         'loan': 2,\n",
       "         's': 33,\n",
       "         'record': 5,\n",
       "         'growers': 1,\n",
       "         'strong': 2,\n",
       "         'approximately': 1,\n",
       "         'various': 1,\n",
       "         'energy': 2,\n",
       "         'whim': 1,\n",
       "         'sources': 4,\n",
       "         'agriculture': 2,\n",
       "         'disrupted': 1,\n",
       "         'oper': 1,\n",
       "         'firm': 2,\n",
       "         'earnings': 4,\n",
       "         'delivery': 1,\n",
       "         'which': 9,\n",
       "         'minimum': 1,\n",
       "         'benefit': 1,\n",
       "         'quoted': 1,\n",
       "         'cpa': 1,\n",
       "         'low': 2,\n",
       "         '35': 2,\n",
       "         'maximum': 1,\n",
       "         'power': 1,\n",
       "         'president': 2,\n",
       "         'not': 12,\n",
       "         'estimates': 2,\n",
       "         '14': 4,\n",
       "         'almost': 1,\n",
       "         'january': 1,\n",
       "         'reasonable': 1,\n",
       "         'subject': 1,\n",
       "         'limit': 1,\n",
       "         'during': 2,\n",
       "         'markets': 4,\n",
       "         'effective': 1,\n",
       "         '50': 4,\n",
       "         'bank': 8,\n",
       "         'us': 1,\n",
       "         'entered': 1,\n",
       "         'dealers': 1,\n",
       "         'customer': 1,\n",
       "         'reuter': 1,\n",
       "         'approval': 1,\n",
       "         '27': 3,\n",
       "         'natural': 1,\n",
       "         'new': 6,\n",
       "         'band': 1,\n",
       "         'began': 2,\n",
       "         'compaq': 2,\n",
       "         '800': 1,\n",
       "         'looking': 1,\n",
       "         'sectors': 1,\n",
       "         'allowed': 1,\n",
       "         'sown': 2,\n",
       "         'citibank': 1,\n",
       "         'commission': 2,\n",
       "         'initial': 2,\n",
       "         'sugar': 4,\n",
       "         'study': 1,\n",
       "         'dlrs': 23,\n",
       "         'at': 16,\n",
       "         'insurance': 1,\n",
       "         'get': 1,\n",
       "         'food': 1,\n",
       "         'position': 2,\n",
       "         '2': 13,\n",
       "         'from': 16,\n",
       "         'how': 1,\n",
       "         'was': 15,\n",
       "         '1': 18,\n",
       "         'parent': 1,\n",
       "         '24': 3,\n",
       "         'reagan': 1,\n",
       "         'continental': 1,\n",
       "         'don': 1,\n",
       "         'distribution': 2,\n",
       "         'want': 2,\n",
       "         'place': 1,\n",
       "         'ago': 2,\n",
       "         'repurchases': 1,\n",
       "         'within': 1,\n",
       "         '500': 4,\n",
       "         'price': 5,\n",
       "         'among': 2,\n",
       "         'failure': 1,\n",
       "         'days': 2,\n",
       "         'los': 1,\n",
       "         'qtr': 8,\n",
       "         'make': 2,\n",
       "         'kim': 1,\n",
       "         'white': 2,\n",
       "         'ecus': 1,\n",
       "         '95': 1,\n",
       "         'development': 2,\n",
       "         'rose': 4,\n",
       "         '51': 1,\n",
       "         'chairman': 4,\n",
       "         'dominion': 3,\n",
       "         'parties': 1,\n",
       "         'turning': 1,\n",
       "         'profit': 8,\n",
       "         'meet': 1,\n",
       "         'sides': 1,\n",
       "         'talks': 4,\n",
       "         'grain': 2,\n",
       "         'comment': 2,\n",
       "         'through': 3,\n",
       "         'suit': 1,\n",
       "         'action': 1,\n",
       "         '000': 21,\n",
       "         'note': 3,\n",
       "         'reach': 1,\n",
       "         'much': 2,\n",
       "         'stand': 1,\n",
       "         'tokyo': 1,\n",
       "         'trend': 1,\n",
       "         'south': 4,\n",
       "         'time': 3,\n",
       "         'report': 4,\n",
       "         'paper': 1,\n",
       "         'average': 2,\n",
       "         'prepared': 1,\n",
       "         'out': 4,\n",
       "         'factors': 1,\n",
       "         '20': 6,\n",
       "         'bonus': 1,\n",
       "         'semiconductors': 1,\n",
       "         'tough': 1,\n",
       "         'could': 4,\n",
       "         'ports': 2,\n",
       "         'western': 1,\n",
       "         'universal': 1,\n",
       "         '12': 3,\n",
       "         '73': 1,\n",
       "         'franc': 1,\n",
       "         'congress': 1,\n",
       "         'bowater': 1,\n",
       "         '48': 1,\n",
       "         'businessmen': 1,\n",
       "         'planned': 1,\n",
       "         'kong': 2,\n",
       "         'york': 1,\n",
       "         'ec': 3,\n",
       "         '15': 5,\n",
       "         'exchange': 5,\n",
       "         '6': 7,\n",
       "         'taking': 2,\n",
       "         'including': 3,\n",
       "         'armacost': 1,\n",
       "         'fund': 2,\n",
       "         'payable': 1,\n",
       "         'reduced': 1,\n",
       "         'avg': 3,\n",
       "         'smaller': 1,\n",
       "         'consolidated': 2,\n",
       "         'if': 4,\n",
       "         'produce': 1,\n",
       "         'remove': 1,\n",
       "         'washington': 1,\n",
       "         '.-': 1,\n",
       "         'must': 1,\n",
       "         'unemployment': 1,\n",
       "         'operations': 2,\n",
       "         'miguel': 2,\n",
       "         'small': 1,\n",
       "         'chesebrough': 1,\n",
       "         'savings': 1,\n",
       "         'manufacturers': 1,\n",
       "         'however': 2,\n",
       "         'purchased': 1,\n",
       "         'enough': 1,\n",
       "         'all': 3,\n",
       "         '32': 1,\n",
       "         'first': 8,\n",
       "         'early': 2,\n",
       "         'expectations': 1,\n",
       "         'de': 2,\n",
       "         'set': 1,\n",
       "         '-': 27,\n",
       "         'currency': 3,\n",
       "         'directors': 1,\n",
       "         'mark': 2,\n",
       "         'costs': 1,\n",
       "         'dividends': 1,\n",
       "         'put': 1,\n",
       "         'sun': 1,\n",
       "         'cutting': 1,\n",
       "         'beef': 2,\n",
       "         'harcourt': 1,\n",
       "         'believed': 1,\n",
       "         'term': 3,\n",
       "         'indonesian': 1,\n",
       "         'import': 1,\n",
       "         'rumor': 1,\n",
       "         'chemicals': 1,\n",
       "         'considering': 1,\n",
       "         'settlement': 1,\n",
       "         '250': 1,\n",
       "         'compared': 3,\n",
       "         'unilever': 1,\n",
       "         'possibly': 1,\n",
       "         'impose': 1,\n",
       "         'australian': 3,\n",
       "         '19': 2,\n",
       "         'economic': 4,\n",
       "         'stockholders': 1,\n",
       "         'area': 2,\n",
       "         'possible': 2,\n",
       "         'lot': 1,\n",
       "         'poehl': 2,\n",
       "         'increased': 2,\n",
       "         '33': 2,\n",
       "         'season': 2,\n",
       "         'cpo': 1,\n",
       "         'order': 1,\n",
       "         'liquidity': 1,\n",
       "         'both': 1,\n",
       "         'maize': 2,\n",
       "         'near': 1,\n",
       "         'provide': 1,\n",
       "         'ministry': 3,\n",
       "         'some': 7,\n",
       "         'existing': 1,\n",
       "         'industries': 3,\n",
       "         'santa': 1,\n",
       "         'vieille': 1,\n",
       "         '84': 1,\n",
       "         'kilos': 1,\n",
       "         'buttrose': 1,\n",
       "         'used': 1,\n",
       "         'says': 2,\n",
       "         'margin': 1,\n",
       "         'that': 16,\n",
       "         'buenos': 1,\n",
       "         'acquisition': 3,\n",
       "         'offshore': 1,\n",
       "         'it': 21,\n",
       "         'so': 2,\n",
       "         'units': 1,\n",
       "         'barrel': 1,\n",
       "         '3': 10,\n",
       "         'trading': 5,\n",
       "         'smc': 3,\n",
       "         'boost': 2,\n",
       "         '1987': 5,\n",
       "         'indonesia': 2,\n",
       "         '100': 4,\n",
       "         'presidential': 1,\n",
       "         'yen': 2,\n",
       "         'told': 4,\n",
       "         'profits': 2,\n",
       "         'little': 1,\n",
       "         'domestic': 3,\n",
       "         'cane': 1,\n",
       "         'non': 2,\n",
       "         'amount': 1,\n",
       "         'see': 1,\n",
       "         '496': 1,\n",
       "         'crops': 2,\n",
       "         'rate': 3,\n",
       "         'transaction': 2,\n",
       "         'bundesbank': 2,\n",
       "         'sumitomo': 3,\n",
       "         'materials': 1,\n",
       "         'february': 2,\n",
       "         'redland': 1,\n",
       "         'beet': 1,\n",
       "         'lt': 18,\n",
       "         'stake': 2,\n",
       "         'to': 55,\n",
       "         'earned': 1,\n",
       "         'sharply': 1,\n",
       "         'michael': 1,\n",
       "         'petrochemical': 1,\n",
       "         'shareholders': 4,\n",
       "         'under': 2,\n",
       "         'here': 3,\n",
       "         'gormley': 1,\n",
       "         '52': 2,\n",
       "         'requirement': 1,\n",
       "         ';': 18,\n",
       "         \"'\": 25,\n",
       "         'point': 1,\n",
       "         'range': 1,\n",
       "         '.': 115,\n",
       "         'reported': 4,\n",
       "         'canada': 3,\n",
       "         'traders': 3,\n",
       "         'disclose': 1,\n",
       "         '53': 1,\n",
       "         'f': 1,\n",
       "         'further': 4,\n",
       "         'in': 46,\n",
       "         'steps': 2,\n",
       "         'added': 4,\n",
       "         'bid': 3,\n",
       "         'vs': 26,\n",
       "         'cargo': 1,\n",
       "         'as': 11,\n",
       "         'terms': 2,\n",
       "         '2nd': 2,\n",
       "         'will': 13,\n",
       "         'stg': 5,\n",
       "         'sanctions': 1,\n",
       "         'last': 11,\n",
       "         'take': 3,\n",
       "         'over': 3,\n",
       "         '145': 1,\n",
       "         '0': 4,\n",
       "         'although': 2,\n",
       "         'said': 43,\n",
       "         'la': 1,\n",
       "         '300': 2,\n",
       "         'left': 1,\n",
       "         'committee': 1,\n",
       "         'negotiations': 1,\n",
       "         'revs': 6,\n",
       "         'demand': 4,\n",
       "         '200': 1,\n",
       "         'central': 2,\n",
       "         'business': 4,\n",
       "         'hoechst': 1,\n",
       "         '44': 1,\n",
       "         'billion': 12,\n",
       "         'common': 2,\n",
       "         '06': 1,\n",
       "         'figures': 1,\n",
       "         'helped': 1,\n",
       "         'held': 2,\n",
       "         'buyer': 1,\n",
       "         'policy': 2,\n",
       "         '37': 2,\n",
       "         'started': 1,\n",
       "         'party': 1,\n",
       "         'particularly': 1,\n",
       "         'television': 1,\n",
       "         'target': 1,\n",
       "         'class': 1,\n",
       "         'steel': 2,\n",
       "         'monier': 1,\n",
       "         'named': 1,\n",
       "         'komatsu': 2,\n",
       "         'filed': 1,\n",
       "         'licences': 1,\n",
       "         'decline': 1,\n",
       "         'month': 3,\n",
       "         'payout': 1,\n",
       "         '72': 1,\n",
       "         '09': 1,\n",
       "         'court': 1,\n",
       "         'agreements': 1,\n",
       "         'soybean': 2,\n",
       "         'tonnes': 9,\n",
       "         'inflation': 2,\n",
       "         'call': 1,\n",
       "         'next': 2,\n",
       "         'matheson': 1,\n",
       "         'following': 1,\n",
       "         'badly': 1,\n",
       "         'have': 8,\n",
       "         'offset': 1,\n",
       "         'germany': 2,\n",
       "         'very': 2,\n",
       "         'press': 1,\n",
       "         'dollar': 5,\n",
       "         'bankers': 3,\n",
       "         '31': 3,\n",
       "         'japan': 9,\n",
       "         'noted': 2,\n",
       "         'reserves': 2,\n",
       "         'sci': 1,\n",
       "         'given': 2,\n",
       "         'inc': 10,\n",
       "         'based': 2,\n",
       "         '55': 1,\n",
       "         'country': 3,\n",
       "         'taiwan': 1,\n",
       "         'imposed': 1,\n",
       "         'ending': 1,\n",
       "         'able': 1,\n",
       "         '43': 1,\n",
       "         'back': 2,\n",
       "         'one': 6,\n",
       "         'moisture': 1,\n",
       "         '68': 1,\n",
       "         'total': 3,\n",
       "         'hectares': 2,\n",
       "         'approved': 2,\n",
       "         'previously': 2,\n",
       "         'been': 8,\n",
       "         'give': 1,\n",
       "         'calls': 1,\n",
       "         '80': 2,\n",
       "         'buyers': 1,\n",
       "         'return': 1,\n",
       "         'current': 4,\n",
       "         'korea': 2,\n",
       "         'producers': 2,\n",
       "         'open': 3,\n",
       "         'financial': 3,\n",
       "         'dow': 1,\n",
       "         '40': 2,\n",
       "         'public': 2,\n",
       "         'aires': 1,\n",
       "         'long': 2,\n",
       "         'continue': 2,\n",
       "         'w': 1,\n",
       "         ':': 5,\n",
       "         'those': 1,\n",
       "         'go': 1,\n",
       "         'fe': 1,\n",
       "         'of': 59,\n",
       "         'damage': 1,\n",
       "         'any': 2,\n",
       "         'mining': 2,\n",
       "         'deputy': 1,\n",
       "         'agrimont': 1,\n",
       "         'same': 1,\n",
       "         'an': 12,\n",
       "         'morgan': 2,\n",
       "         'previous': 2,\n",
       "         '130': 1,\n",
       "         'proposed': 2,\n",
       "         'exporters': 1,\n",
       "         'adjusted': 1,\n",
       "         'meetings': 1,\n",
       "         'future': 1,\n",
       "         '82': 1,\n",
       "         '39': 1,\n",
       "         'think': 1,\n",
       "         '8': 10,\n",
       "         'august': 1,\n",
       "         'guilders': 1,\n",
       "         'they': 10,\n",
       "         'loss': 10,\n",
       "         'bell': 2,\n",
       "         'medium': 1,\n",
       "         '1985': 6,\n",
       "         'account': 1,\n",
       "         'association': 2,\n",
       "         'angeles': 1,\n",
       "         'paris': 2,\n",
       "         'fleet': 2,\n",
       "         'other': 5,\n",
       "         'calendar': 1,\n",
       "         'crop': 4,\n",
       "         'prices': 5,\n",
       "         'plants': 1,\n",
       "         'while': 2,\n",
       "         'information': 2,\n",
       "         'expand': 1,\n",
       "         'ltd': 5,\n",
       "         'manufacturing': 2,\n",
       "         'may': 5,\n",
       "         'celanese': 2,\n",
       "         'dlr': 3,\n",
       "         'marks': 3,\n",
       "         'period': 2,\n",
       "         'per': 4,\n",
       "         'standard': 1,\n",
       "         'hanover': 1,\n",
       "         'many': 1,\n",
       "         'accrual': 1,\n",
       "         'accord': 1,\n",
       "         'nil': 1,\n",
       "         'paid': 1,\n",
       "         'say': 3,\n",
       "         'pct': 18,\n",
       "         'jardine': 2,\n",
       "         'meanwhile': 1,\n",
       "         'services': 3,\n",
       "         'italian': 1,\n",
       "         'industrial': 3,\n",
       "         'buying': 2,\n",
       "         'conrac': 1,\n",
       "         'because': 4,\n",
       "         'chemical': 4,\n",
       "         'german': 2,\n",
       "         'union': 1,\n",
       "         'dutch': 2,\n",
       "         'auxton': 1,\n",
       "         'ban': 1,\n",
       "         'his': 2,\n",
       "         'house': 1,\n",
       "         'such': 2,\n",
       "         'miti': 2,\n",
       "         'oil': 8,\n",
       "         'question': 1,\n",
       "         'norway': 1,\n",
       "         'there': 4,\n",
       "         'deficit': 2,\n",
       "         'french': 2,\n",
       "         'high': 3,\n",
       "         'nearly': 1,\n",
       "         'former': 1,\n",
       "         'top': 2,\n",
       "         'med': 1,\n",
       "         'textile': 3,\n",
       "         'rubber': 2,\n",
       "         'yesterday': 3,\n",
       "         '38': 2,\n",
       "         '...': 1,\n",
       "         'bristol': 1,\n",
       "         'credit': 2,\n",
       "         'cts': 17,\n",
       "         'who': 2,\n",
       "         'this': 9,\n",
       "         'monetary': 1,\n",
       "         'federal': 2,\n",
       "         'include': 2,\n",
       "         'whether': 2,\n",
       "         'sec': 1,\n",
       "         'good': 2,\n",
       "         'is': 18,\n",
       "         '70': 2,\n",
       "         'nsw': 2,\n",
       "         'three': 4,\n",
       "         '86': 1,\n",
       "         'program': 1,\n",
       "         'exports': 4,\n",
       "         'investor': 1,\n",
       "         'montagne': 1,\n",
       "         'largest': 3,\n",
       "         '23': 3,\n",
       "         'council': 1,\n",
       "         'includes': 2,\n",
       "         'too': 2,\n",
       "         'income': 2,\n",
       "         'soon': 1,\n",
       "         'tin': 2,\n",
       "         'gave': 1,\n",
       "         'spokesman': 6,\n",
       "         'june': 3,\n",
       "         'agency': 1,\n",
       "         'effort': 1,\n",
       "         '66': 1,\n",
       "         '--': 1,\n",
       "         'later': 2,\n",
       "         'know': 1,\n",
       "         'major': 4,\n",
       "         'reflect': 1,\n",
       "         'joint': 1,\n",
       "         'on': 21,\n",
       "         '69': 1,\n",
       "         'since': 2,\n",
       "         'estimated': 3,\n",
       "         'march': 6,\n",
       "         'half': 3,\n",
       "         'department': 1,\n",
       "         'weeks': 1,\n",
       "         'received': 1,\n",
       "         'vw': 1,\n",
       "         'hit': 2,\n",
       "         'shipping': 1,\n",
       "         'sogo': 1,\n",
       "         'prevent': 1,\n",
       "         'cuts': 1,\n",
       "         'outlook': 1,\n",
       "         'having': 1,\n",
       "         'private': 1,\n",
       "         'spa': 1,\n",
       "         'virtually': 1,\n",
       "         'zinc': 1,\n",
       "         'rebate': 1,\n",
       "         '47': 1,\n",
       "         '600': 1,\n",
       "         'results': 1,\n",
       "         'decision': 2,\n",
       "         'subsidiary': 2,\n",
       "         'members': 1,\n",
       "         'help': 1,\n",
       "         'takeover': 3,\n",
       "         'remain': 1,\n",
       "         'main': 1,\n",
       "         'two': 6,\n",
       "         'bill': 2,\n",
       "         'own': 2,\n",
       "         'k': 2,\n",
       "         'past': 2,\n",
       "         'restrictions': 1,\n",
       "         'market': 8,\n",
       "         'despite': 2,\n",
       "         'below': 2,\n",
       "         'analyst': 1,\n",
       "         'output': 3,\n",
       "         'cain': 1,\n",
       "         'political': 1,\n",
       "         'expect': 1,\n",
       "         'dispute': 2,\n",
       "         'down': 3,\n",
       "         'work': 1,\n",
       "         'raytheon': 1,\n",
       "         'banking': 2,\n",
       "         'gains': 1,\n",
       "         'officials': 4,\n",
       "         'loans': 2,\n",
       "         'analysts': 4,\n",
       "         'stoltenberg': 2,\n",
       "         'acquisitions': 1,\n",
       "         'properties': 1,\n",
       "         'cocoa': 3,\n",
       "         'problem': 1,\n",
       "         'partners': 2,\n",
       "         '350': 2,\n",
       "         'harvesting': 1,\n",
       "         'securities': 4,\n",
       "         'san': 2,\n",
       "         'he': 14,\n",
       "         'basis': 2,\n",
       "         'tonnage': 1,\n",
       "         'view': 1,\n",
       "         'provided': 1,\n",
       "         'acquire': 1,\n",
       "         'outstanding': 1,\n",
       "         'cordoba': 1,\n",
       "         'before': 2,\n",
       "         'united': 2,\n",
       "         'anheuser': 1,\n",
       "         'sees': 1,\n",
       "         'fully': 1,\n",
       "         'gaf': 1,\n",
       "         'coffee': 1,\n",
       "         'goods': 1,\n",
       "         'growing': 1,\n",
       "         'drop': 1,\n",
       "         'did': 2,\n",
       "         'shearson': 1,\n",
       "         'areas': 1,\n",
       "         'interested': 1,\n",
       "         'economists': 1,\n",
       "         'beginning': 1,\n",
       "         'lire': 2,\n",
       "         'followed': 1,\n",
       "         'them': 1,\n",
       "         'certain': 1,\n",
       "         'buy': 2,\n",
       "         'repurchase': 1,\n",
       "         '7': 8,\n",
       "         'and': 42,\n",
       "         'port': 2,\n",
       "         'confirmed': 1,\n",
       "         'companies': 3,\n",
       "         'value': 2,\n",
       "         'louvre': 1,\n",
       "         'statement': 4,\n",
       "         'reached': 1,\n",
       "         'government': 5,\n",
       "         'nine': 3,\n",
       "         'recent': 2,\n",
       "         'went': 1,\n",
       "         'opening': 1,\n",
       "         'created': 1,\n",
       "         'where': 2,\n",
       "         'banks': 2,\n",
       "         'overnight': 1,\n",
       "         'substantial': 1,\n",
       "         'tomorrow': 1,\n",
       "         'sales': 6,\n",
       "         'co': 6,\n",
       "         'figure': 2,\n",
       "         'its': 15,\n",
       "         'mead': 1,\n",
       "         'nippon': 1,\n",
       "         'interest': 4,\n",
       "         'concern': 1,\n",
       "         'expected': 6,\n",
       "         'economy': 3,\n",
       "         'qtly': 2,\n",
       "         'mainly': 1,\n",
       "         '9': 9,\n",
       "         'also': 8,\n",
       "         'commercial': 1,\n",
       "         'trust': 2,\n",
       "         '59': 1,\n",
       "         'still': 2,\n",
       "         'more': 5,\n",
       "         '``': 18,\n",
       "         'houston': 1,\n",
       "         'products': 5,\n",
       "         'share': 7,\n",
       "         '102': 1,\n",
       "         'secretary': 2,\n",
       "         'reserve': 3,\n",
       "         'primary': 1,\n",
       "         '1st': 5,\n",
       "         'completion': 1,\n",
       "         '4th': 1,\n",
       "         'provisions': 1,\n",
       "         'net': 16,\n",
       "         'due': 4,\n",
       "         'quickly': 1,\n",
       "         'holding': 1,\n",
       "         'available': 1,\n",
       "         '87': 2,\n",
       "         'issue': 2,\n",
       "         'tonne': 2,\n",
       "         'ldp': 1,\n",
       "         'should': 1,\n",
       "         ')': 8,\n",
       "         'friday': 1,\n",
       "         'shortage': 1,\n",
       "         'difficult': 1,\n",
       "         'intervention': 1,\n",
       "         'senior': 1,\n",
       "         'adding': 1,\n",
       "         'pay': 3,\n",
       "         'their': 5,\n",
       "         'year': 16,\n",
       "         'annual': 2,\n",
       "         'competitive': 1,\n",
       "         'support': 1,\n",
       "         'do': 2,\n",
       "         ...})"
      ]
     },
     "execution_count": 28,
     "metadata": {},
     "output_type": "execute_result"
    }
   ],
   "source": [
    "unigram_table = []\n",
    "\n",
    "for v in vocabs:\n",
    "    uw = word_count[v] / num_total_words\n",
    "    uw_alpha = int((uw ** 0.75) / z)\n",
    "    unigram_table.extend([v] * uw_alpha)\n",
    "    \n",
    "Counter(unigram_table)"
   ]
  },
  {
   "attachments": {},
   "cell_type": "markdown",
   "metadata": {},
   "source": [
    "## 4. Model\n",
    "\n",
    "$$\\mathbf{J}_{\\text{neg-sample}}(\\mathbf{v}_c,o,\\mathbf{U})=-\\log(\\sigma(\\mathbf{u}_o^T\\mathbf{v}_c))-\\sum_{k=1}^K\\log(\\sigma(-\\mathbf{u}_k^T\\mathbf{v}_c))$$"
   ]
  },
  {
   "cell_type": "code",
   "execution_count": 29,
   "metadata": {},
   "outputs": [],
   "source": [
    "def prepare_sequence(seq, word2index):\n",
    "    idxs = list(map(lambda w: word2index[w] if word2index.get(w) is not None else word2index['<UNK>'], seq))\n",
    "    return torch.LongTensor(idxs)"
   ]
  },
  {
   "cell_type": "code",
   "execution_count": 30,
   "metadata": {},
   "outputs": [],
   "source": [
    "import random\n",
    "\n",
    "def negative_sampling(targets, unigram_table, k):\n",
    "    batch_size = targets.shape[0]\n",
    "    neg_samples = []\n",
    "    for i in range(batch_size):  #(1, k)\n",
    "        target_index = targets[i].item()\n",
    "        nsample      = []\n",
    "        while (len(nsample) < k):\n",
    "            neg = random.choice(unigram_table)\n",
    "            if word2index[neg] == target_index:\n",
    "                continue\n",
    "            nsample.append(neg)\n",
    "        neg_samples.append(prepare_sequence(nsample, word2index).reshape(1, -1))\n",
    "        \n",
    "    return torch.cat(neg_samples) #batch_size, k"
   ]
  },
  {
   "cell_type": "code",
   "execution_count": 31,
   "metadata": {},
   "outputs": [],
   "source": [
    "batch_size = 2\n",
    "x, y = random_batch(batch_size, corpus)\n",
    "x_tensor = torch.LongTensor(x)\n",
    "y_tensor = torch.LongTensor(y)"
   ]
  },
  {
   "cell_type": "code",
   "execution_count": 32,
   "metadata": {},
   "outputs": [],
   "source": [
    "k = 5\n",
    "neg_samples = negative_sampling(y_tensor, unigram_table, k)"
   ]
  },
  {
   "cell_type": "code",
   "execution_count": 33,
   "metadata": {},
   "outputs": [
    {
     "data": {
      "text/plain": [
       "tensor([842])"
      ]
     },
     "execution_count": 33,
     "metadata": {},
     "output_type": "execute_result"
    }
   ],
   "source": [
    "y_tensor[1]"
   ]
  },
  {
   "cell_type": "code",
   "execution_count": 34,
   "metadata": {},
   "outputs": [
    {
     "data": {
      "text/plain": [
       "tensor([  91,   21,  857, 2564, 3772])"
      ]
     },
     "execution_count": 34,
     "metadata": {},
     "output_type": "execute_result"
    }
   ],
   "source": [
    "neg_samples[1]"
   ]
  },
  {
   "cell_type": "code",
   "execution_count": 32,
   "metadata": {},
   "outputs": [
    {
     "data": {
      "text/plain": [
       "tensor(9.7209, grad_fn=<NegBackward0>)"
      ]
     },
     "execution_count": 32,
     "metadata": {},
     "output_type": "execute_result"
    }
   ],
   "source": [
    "loss"
   ]
  },
  {
   "cell_type": "markdown",
   "metadata": {},
   "source": [
    "$$\\mathbf{J}_{\\text{neg-sample}}(\\mathbf{v}_c,o,\\mathbf{U})=-\\log(\\sigma(\\mathbf{u}_o^T\\mathbf{v}_c))-\\sum_{k=1}^K\\log(\\sigma(-\\mathbf{u}_k^T\\mathbf{v}_c))$$"
   ]
  },
  {
   "cell_type": "code",
   "execution_count": 35,
   "metadata": {},
   "outputs": [],
   "source": [
    "class SkipgramNeg(nn.Module):\n",
    "    \n",
    "    def __init__(self, voc_size, emb_size):\n",
    "        super(SkipgramNeg, self).__init__()\n",
    "        self.embedding_center  = nn.Embedding(voc_size, emb_size)\n",
    "        self.embedding_outside = nn.Embedding(voc_size, emb_size)\n",
    "        self.logsigmoid        = nn.LogSigmoid()\n",
    "    \n",
    "    def forward(self, center, outside, negative):\n",
    "        #center, outside:  (bs, 1)\n",
    "        #negative       :  (bs, k)\n",
    "        \n",
    "        center_embed   = self.embedding_center(center) #(bs, 1, emb_size)\n",
    "        outside_embed  = self.embedding_outside(outside) #(bs, 1, emb_size)\n",
    "        negative_embed = self.embedding_outside(negative) #(bs, k, emb_size)\n",
    "        \n",
    "        uovc           = outside_embed.bmm(center_embed.transpose(1, 2)).squeeze(2) #(bs, 1)\n",
    "        ukvc           = -negative_embed.bmm(center_embed.transpose(1, 2)).squeeze(2) #(bs, k)\n",
    "        ukvc_sum       = torch.sum(ukvc, 1).reshape(-1, 1) #(bs, 1)\n",
    "        \n",
    "        loss           = self.logsigmoid(uovc) + self.logsigmoid(ukvc_sum)\n",
    "        \n",
    "        return -torch.mean(loss)"
   ]
  },
  {
   "cell_type": "code",
   "execution_count": 36,
   "metadata": {},
   "outputs": [],
   "source": [
    "emb_size = 2\n",
    "voc_size = len(vocabs)\n",
    "model = SkipgramNeg(voc_size, emb_size)"
   ]
  },
  {
   "cell_type": "code",
   "execution_count": 37,
   "metadata": {},
   "outputs": [],
   "source": [
    "loss = model(x_tensor, y_tensor, neg_samples)"
   ]
  },
  {
   "cell_type": "code",
   "execution_count": 38,
   "metadata": {},
   "outputs": [
    {
     "data": {
      "text/plain": [
       "tensor(1.4383, grad_fn=<NegBackward0>)"
      ]
     },
     "execution_count": 38,
     "metadata": {},
     "output_type": "execute_result"
    }
   ],
   "source": [
    "loss\n"
   ]
  },
  {
   "attachments": {},
   "cell_type": "markdown",
   "metadata": {},
   "source": [
    "## 4. Training"
   ]
  },
  {
   "cell_type": "code",
   "execution_count": 39,
   "metadata": {},
   "outputs": [],
   "source": [
    "optimizer = optim.Adam(model.parameters(), lr=0.001)"
   ]
  },
  {
   "cell_type": "code",
   "execution_count": 43,
   "metadata": {},
   "outputs": [
    {
     "name": "stdout",
     "output_type": "stream",
     "text": [
      "Epoch   1000 | Loss: 1.951165\n",
      "Epoch   2000 | Loss: 1.808082\n",
      "Epoch   3000 | Loss: 0.913027\n",
      "Epoch   4000 | Loss: 2.805448\n",
      "Epoch   5000 | Loss: 0.673137\n",
      "Epoch   6000 | Loss: 1.393650\n",
      "Epoch   7000 | Loss: 2.381951\n",
      "Epoch   8000 | Loss: 1.312733\n",
      "Epoch   9000 | Loss: 2.160897\n",
      "Epoch  10000 | Loss: 1.233165\n",
      "Total training time: 29m 22s\n",
      "Average training loss: 1.905731\n"
     ]
    }
   ],
   "source": [
    "import time\n",
    "\n",
    "num_epochs = 10000\n",
    "start_time = time.time()\n",
    "\n",
    "total_loss = 0.0\n",
    "\n",
    "for epoch in range(num_epochs):\n",
    "    \n",
    "    #get batch\n",
    "    input_batch, label_batch = random_batch(batch_size, corpus)\n",
    "    input_tensor = torch.LongTensor(input_batch)\n",
    "    label_tensor = torch.LongTensor(label_batch)\n",
    "    \n",
    "    #predict\n",
    "    neg_samples = negative_sampling(label_tensor, unigram_table, k)\n",
    "    loss = model(input_tensor, label_tensor, neg_samples)\n",
    "    \n",
    "    #backpropagate\n",
    "    optimizer.zero_grad()\n",
    "    loss.backward()\n",
    "    \n",
    "    #update weights\n",
    "    optimizer.step()\n",
    "    \n",
    "    total_loss += loss.item()\n",
    "    \n",
    "    #print the loss\n",
    "    if (epoch + 1) % 1000 == 0:\n",
    "        print(f\"Epoch {epoch+1:6.0f} | Loss: {loss.item():2.6f}\")\n",
    "\n",
    "end_time = time.time()\n",
    "total_time = end_time - start_time\n",
    "total_mins = total_time // 60\n",
    "total_secs = total_time % 60\n",
    "\n",
    "avgloss = total_loss / num_epochs\n",
    "\n",
    "print(f\"Total training time: {total_mins:.0f}m {total_secs:.0f}s\")\n",
    "print(f\"Average training loss: {avgloss:.6f}\")\n"
   ]
  },
  {
   "attachments": {},
   "cell_type": "markdown",
   "metadata": {},
   "source": [
    "## 5. Plot the embeddings\n"
   ]
  },
  {
   "cell_type": "code",
   "execution_count": 44,
   "metadata": {},
   "outputs": [],
   "source": [
    "def get_embed(word):\n",
    "    try:\n",
    "        index = word2index[word]  # Get the index of the word from word2index dictionary\n",
    "    except KeyError:\n",
    "        index = word2index['<UNK>']  # If word is not found, use index for '<UNK>' token\n",
    "    \n",
    "    word_tensor = torch.LongTensor([index])  # Convert index to tensor\n",
    "    \n",
    "    # Get embeddings for center and outside words\n",
    "    embed_c = model.embedding_center(word_tensor)\n",
    "    embed_o = model.embedding_outside(word_tensor)\n",
    "    \n",
    "    # Compute average embedding\n",
    "    embed = (embed_c + embed_o) / 2\n",
    "    \n",
    "    # Return the embedding as a tuple of two values (embedding dimensions)\n",
    "    return embed[0][0].item(), embed[0][1].item()\n"
   ]
  },
  {
   "cell_type": "code",
   "execution_count": 45,
   "metadata": {},
   "outputs": [
    {
     "data": {
      "image/png": "[encoded data removed]",
      "text/plain": [
       "<Figure size 2000x600 with 1 Axes>"
      ]
     },
     "metadata": {},
     "output_type": "display_data"
    }
   ],
   "source": [
    "plt.figure(figsize=(20, 6))\n",
    "for i, word in enumerate(vocabs[:100]):\n",
    "    x, y = get_embed(word)\n",
    "    plt.scatter(x, y)\n",
    "    plt.annotate(word, xy=(x, y), xytext=(5, 2), textcoords='offset points')\n",
    "plt.show()"
   ]
  },
  {
   "attachments": {},
   "cell_type": "markdown",
   "metadata": {},
   "source": [
    "## 6. Cosine similarity"
   ]
  },
  {
   "cell_type": "code",
   "execution_count": 46,
   "metadata": {},
   "outputs": [
    {
     "data": {
      "text/plain": [
       "(0.43196311593055725, -1.1730244159698486)"
      ]
     },
     "execution_count": 46,
     "metadata": {},
     "output_type": "execute_result"
    }
   ],
   "source": [
    "agent = get_embed('agent')\n",
    "agent"
   ]
  },
  {
   "cell_type": "code",
   "execution_count": 47,
   "metadata": {},
   "outputs": [
    {
     "data": {
      "text/plain": [
       "(0.5896140933036804, 0.3705478310585022)"
      ]
     },
     "execution_count": 47,
     "metadata": {},
     "output_type": "execute_result"
    }
   ],
   "source": [
    "lawsuit = get_embed('lawsuit')\n",
    "lawsuit"
   ]
  },
  {
   "cell_type": "code",
   "execution_count": 48,
   "metadata": {},
   "outputs": [
    {
     "data": {
      "text/plain": [
       "(0.5896140933036804, 0.3705478310585022)"
      ]
     },
     "execution_count": 48,
     "metadata": {},
     "output_type": "execute_result"
    }
   ],
   "source": [
    "unk = get_embed('<UNK>')\n",
    "unk"
   ]
  },
  {
   "cell_type": "code",
   "execution_count": 49,
   "metadata": {},
   "outputs": [
    {
     "data": {
      "text/plain": [
       "-0.17997011217626557"
      ]
     },
     "execution_count": 49,
     "metadata": {},
     "output_type": "execute_result"
    }
   ],
   "source": [
    "np.array(agent) @ np.array(unk)"
   ]
  },
  {
   "cell_type": "code",
   "execution_count": 50,
   "metadata": {},
   "outputs": [
    {
     "data": {
      "text/plain": [
       "-0.17997011217626557"
      ]
     },
     "execution_count": 50,
     "metadata": {},
     "output_type": "execute_result"
    }
   ],
   "source": [
    "np.array(agent) @ np.array(lawsuit)"
   ]
  },
  {
   "cell_type": "code",
   "execution_count": 51,
   "metadata": {},
   "outputs": [
    {
     "name": "stdout",
     "output_type": "stream",
     "text": [
      "-0.20674298525843687\n",
      "-0.20674298525843687\n"
     ]
    }
   ],
   "source": [
    "#more formally is to divide by its norm\n",
    "def cosine_similarity(A, B):\n",
    "    dot_product = np.dot(A, B)\n",
    "    norm_a = np.linalg.norm(A)\n",
    "    norm_b = np.linalg.norm(B)\n",
    "    similarity = dot_product / (norm_a * norm_b)\n",
    "    return similarity\n",
    "\n",
    "print(cosine_similarity(np.array(agent), np.array(unk)))\n",
    "print(cosine_similarity(np.array(agent), np.array(lawsuit)))"
   ]
  },
  {
   "cell_type": "markdown",
   "metadata": {},
   "source": [
    "## 7. Save"
   ]
  },
  {
   "cell_type": "markdown",
   "metadata": {},
   "source": [
    "The purpose of saving the word2index and index2word dictionaries to JSON files is to preserve them for future use. These dictionaries contain mappings between words and their corresponding indices, and vice versa. "
   ]
  },
  {
   "cell_type": "code",
   "execution_count": 52,
   "metadata": {},
   "outputs": [],
   "source": [
    "word2index_path = './model/word2index_skipgram_neg.json'  \n",
    "index2word_path = './model/index2word_skipgram_neg.json'  \n",
    "\n",
    "with open(word2index_path, 'w') as file:\n",
    "    json.dump(word2index, file)  \n",
    "\n",
    "with open(index2word_path, 'w') as file:\n",
    "    json.dump(index2word, file)  "
   ]
  },
  {
   "cell_type": "code",
   "execution_count": 53,
   "metadata": {},
   "outputs": [],
   "source": [
    "# The purpose of saving the corpus is to preserve it for future use, \n",
    "# allowing easy access to the preprocessed text data without the need to tokenize again.corpus_path = './mode/corpus.txt'\n",
    "corpus_path = './model/corpus_neg.txt'\n",
    "\n",
    "with open(corpus_path, 'w') as file:\n",
    "    for sentence in corpus:\n",
    "        # Join the tokens of the sentence into a single string with spaces and write it to the file\n",
    "        file.write(' '.join(sentence) + '\\n')\n"
   ]
  },
  {
   "cell_type": "code",
   "execution_count": 54,
   "metadata": {},
   "outputs": [
    {
     "name": "stdout",
     "output_type": "stream",
     "text": [
      "Model saved to ./model/word2vec_model_skipgram_neg.pth\n",
      "Configuration saved to ./model/word2vec_config_skipgram_neg.json\n"
     ]
    }
   ],
   "source": [
    "# Define the vocabulary size and embedding size\n",
    "voc_size_w2i = len(word2index)\n",
    "emb_size = emb_size  #  emb_size is previously defined in the code\n",
    "\n",
    "# Define paths for saving model state and configuration\n",
    "model_path = './model/word2vec_model_skipgram_neg.pth'\n",
    "config_path = './model/word2vec_config_skipgram_neg.json'\n",
    "\n",
    "# Save the model state to a file\n",
    "torch.save(model.state_dict(), model_path)\n",
    "\n",
    "# Save the model configuration to a JSON file\n",
    "with open(config_path, 'w') as config_file:\n",
    "    config = {'voc_size': voc_size_w2i , 'emb_size': emb_size}\n",
    "    json.dump(config, config_file)\n",
    "\n",
    "# Print messages indicating successful saving of model and configuration\n",
    "print(f\"Model saved to {model_path}\")\n",
    "print(f\"Configuration saved to {config_path}\")\n"
   ]
  },
  {
   "cell_type": "markdown",
   "metadata": {},
   "source": [
    "Model File (word2vec_model_skipgram_neg.pth):\n",
    "\n",
    "This file saves the state of the word2vec model. It includes the trained parameters of the model, such as weights and biases, which define the learned embeddings. Saving the model state allows you to load the trained model later for inference or further training without needing to retrain it from scratch.\n",
    "\n",
    "Config File (word2vec_config_skipgram_neg.json):\n",
    "\n",
    "This file saves the configuration of the word2vec model. It typically includes important parameters or settings used during training, such as the vocabulary size (voc_size) and the embedding size (emb_size). Saving the model configuration allows you to reproduce the training setup and settings when loading the model for future use."
   ]
  },
  {
   "cell_type": "markdown",
   "metadata": {},
   "source": [
    "## 8. Inference \n"
   ]
  },
  {
   "cell_type": "code",
   "execution_count": 55,
   "metadata": {},
   "outputs": [
    {
     "name": "stdout",
     "output_type": "stream",
     "text": [
      "Word to Index Dictionary:\n",
      "{'deposits': 0, 'ggfh': 1, '854': 2, 'door': 3, 'consortium': 4, 'knowing': 5, 'higher': 6, 'opportunities': 7, 'insider': 8, 'willing': 9, 'repeating': 10, 'trade': 11, 'discord': 12, 'beverage': 13, '5': 14, 'bills': 15, 'week': 16, 'most': 17, 'productions': 18, 'seen': 19, 'led': 20, 'semiconductor': 21, 'bail': 22, 'probably': 23, 'tolerating': 24, 'choose': 25, 'attend': 26, 'fresh': 27, 'reaching': 28, 'pampa': 29, 'thomas': 30, 'clothing': 31, 'charged': 32, 'promised': 33, 'threatens': 34, 'just': 35, 'mayfair': 36, 'dcn': 37, 'compensation': 38, 'hasrul': 39, 'known': 40, 'bmy': 41, 'concerns': 42, 'operate': 43, 'condition': 44, 'stvtf': 45, '79': 46, 'tennis': 47, 'located': 48, 'charge': 49, 'pull': 50, 'industrywide': 51, 'revenues': 52, 'interstate': 53, 'imports': 54, 'affecting': 55, 'metalurgicos': 56, 'forward': 57, 'takeovers': 58, 'intend': 59, 'weather': 60, 'watered': 61, 'agent': 62, 'presently': 63, 'transporting': 64, 'proposing': 65, 'excellent': 66, 'l': 67, 'stop': 68, 'britain': 69, 'vessels': 70, 'drought': 71, 'extended': 72, 'chances': 73, 'acquired': 74, 'group': 75, 'crowns': 76, 'intended': 77, 'glut': 78, '392': 79, 'virtual': 80, 'describes': 81, 'lawsuits': 82, 'fid': 83, 'by': 84, 'defense': 85, 'amaa': 86, 'director': 87, 'jewelry': 88, 'brito': 89, 'ditch': 90, 'u': 91, 'fall': 92, 'lehman': 93, 'styrene': 94, 'peak': 95, 'helen': 96, 'legislation': 97, 'trillion': 98, '646': 99, 'a': 100, 'boom': 101, 'kuwait': 102, 'francisco': 103, 'coast': 104, 'plant': 105, 'treasury': 106, 'full': 107, 'without': 108, 'divesting': 109, 'safely': 110, 'controlled': 111, 'cheap': 112, 'wood': 113, 'levels': 114, 'caused': 115, 'protectionist': 116, 'saw': 117, 'ensure': 118, 'you': 119, '427': 120, 'terminal': 121, 'prior': 122, 'purchase': 123, 'resolved': 124, 'agrees': 125, 'wouldn': 126, 'accelerated': 127, 'years': 128, 'items': 129, 'celt': 130, 'something': 131, '3rd': 132, 'risky': 133, 'locke': 134, 'holdings': 135, 'cold': 136, 'china': 137, 'petitioning': 138, 'jump': 139, 'malaysia': 140, 'building': 141, 'targeted': 142, 'miyazawa': 143, 'oslo': 144, 'advertisement': 145, 'quick': 146, 'reducing': 147, 'rolling': 148, 'coming': 149, '087': 150, 'overshoot': 151, 'display': 152, 'data': 153, '/': 154, 'intermittently': 155, '60': 156, 'br': 157, 'infant': 158, 'look': 159, 'or': 160, 'territory': 161, 'embraced': 162, 'amicable': 163, '520': 164, 'increase': 165, 'history': 166, '551': 167, 'ruling': 168, '>': 169, 'saying': 170, '393': 171, 'inaccurate': 172, 'pulp': 173, 'tourism': 174, 'several': 175, 'labour': 176, 'commissions': 177, 'wall': 178, 'lifeline': 179, 'allocated': 180, 'broadcast': 181, 'amortization': 182, 'fed': 183, '&': 184, '(': 185, 'disposed': 186, 'entre': 187, 'stauffer': 188, '2315': 189, 'orders': 190, 'tunisia': 191, 'noting': 192, '169': 193, 'product': 194, 'site': 195, 'number': 196, 'present': 197, 'cardiovascular': 198, 'gain': 199, 'stagnated': 200, '117': 201, 'need': 202, 'alleged': 203, 'flow': 204, 'financed': 205, 'junior': 206, '125': 207, 'london': 208, 'rtn': 209, 'officers': 210, '41': 211, 'selling': 212, 'widely': 213, 'finished': 214, 'swell': 215, 'feb': 216, 'greener': 217, 'officer': 218, 'measures': 219, 'gradual': 220, 'pass': 221, 'allotted': 222, 'stimulation': 223, 'parliament': 224, 'border': 225, 'consider': 226, 'communities': 227, 'alberta': 228, 'investors': 229, 'retailing': 230, 'level': 231, 'draw': 232, 'gianfranco': 233, 'pressure': 234, 'proposes': 235, 'usually': 236, 'trump': 237, 'prime': 238, 'incorrect': 239, 'run': 240, 'eight': 241, 'maker': 242, 'francs': 243, 'weakness': 244, 'decreasing': 245, 'british': 246, 'commenting': 247, 'hold': 248, '620': 249, 'had': 250, 'mt': 251, 'instrument': 252, 'soil': 253, '88': 254, 'complete': 255, 'soriano': 256, 'propose': 257, 'european': 258, 'contracts': 259, 'game': 260, 'troy': 261, 'leeway': 262, 'paxar': 263, 'commerce': 264, 'rights': 265, 'erosion': 266, 'industry': 267, 'leading': 268, 'burlington': 269, 'stocks': 270, 'granted': 271, 'zambian': 272, '42': 273, '4thh': 274, 'does': 275, 'mln': 276, 'grades': 277, 'ways': 278, 'situation': 279, 'stage': 280, 'cpq': 281, 'stabilize': 282, 'production': 283, 'lower': 284, 'lead': 285, 'even': 286, '1000': 287, 'problems': 288, 'bidding': 289, 'augurs': 290, 'law': 291, 'died': 292, 'preferred': 293, 'harvest': 294, 'incurring': 295, 'imf': 296, '92': 297, 'disappear': 298, 'citytrust': 299, 'facilities': 300, 'sloshing': 301, 'national': 302, 'loose': 303, 'into': 304, 'answering': 305, 'hefty': 306, 'groups': 307, 'mills': 308, 'unchanged': 309, '925': 310, 'referred': 311, 'another': 312, 'slow': 313, 'eat': 314, 'incoming': 315, 'usual': 316, 'daily': 317, 'line': 318, 'doorstep': 319, 'biggest': 320, 'being': 321, 'thermo': 322, 'fiber': 323, 'div': 324, 'part': 325, 'sanctioned': 326, 'equity': 327, 'datron': 328, 'declined': 329, 'heiwa': 330, 'fsb': 331, 'budget': 332, 'people': 333, 'bright': 334, 'right': 335, 'around': 336, 'gottardo': 337, 'related': 338, 'insists': 339, '275': 340, '90': 341, 'advised': 342, 'against': 343, 'hawaii': 344, 'system': 345, 'length': 346, '017': 347, 'elevator': 348, 'favour': 349, 'end': 350, 'sheen': 351, 'saturday': 352, 'wet': 353, 'coarse': 354, '64': 355, 'fixed': 356, 'publishing': 357, 'movement': 358, 'sale': 359, 'cumulative': 360, 'philippine': 361, '530': 362, 'applying': 363, 'hoped': 364, 'property': 365, 'meeting': 366, 'olii': 367, 'chief': 368, 'off': 369, 'seven': 370, 'reduction': 371, 'kilolitres': 372, 'japanese': 373, 'persuading': 374, 'cxrl': 375, 'buffer': 376, 'electric': 377, 'lifted': 378, 'october': 379, 'troubled': 380, 'exporting': 381, 'thai': 382, 'expanding': 383, 'vegetables': 384, 'downstream': 385, 'england': 386, 'already': 387, 'obstacle': 388, 'diebold': 389, 'programme': 390, '386': 391, '750': 392, 'least': 393, 'serving': 394, 'inefficient': 395, '113': 396, 'farmlands': 397, 'ferruzzi': 398, 'retailer': 399, 'tightness': 400, 'iv': 401, 'speed': 402, 'isum': 403, 'likely': 404, 'island': 405, 'involvement': 406, 'entering': 407, 'proposals': 408, 'higest': 409, 'written': 410, 'actually': 411, 'steady': 412, 'annoucement': 413, 'piecemeal': 414, 'sheikh': 415, 'optimistic': 416, 'specialty': 417, 'complicated': 418, 'johnstown': 419, 'alan': 420, 'cayuga': 421, '477': 422, 'shortly': 423, 'luck': 424, 'rumour': 425, 'offs': 426, 'b': 427, 'cost': 428, 'certainly': 429, 'yield': 430, 'reports': 431, 'be': 432, 'cut': 433, '30': 434, 'harahap': 435, 'mediator': 436, 'motor': 437, 'bob': 438, 'home': 439, 'employers': 440, 'improvement': 441, 'beds': 442, 'carbide': 443, 'letter': 444, 'offer': 445, 'disclosed': 446, 'currently': 447, 'change': 448, 'reliant': 449, 'normally': 450, 'flevoland': 451, 'jacksons': 452, 'r': 453, 'developing': 454, 'monobloc': 455, 'officially': 456, 'kind': 457, 'holds': 458, 'largely': 459, 'minimise': 460, 'sickly': 461, 'debt': 462, 'cash': 463, 'pipeline': 464, 'loses': 465, 'tender': 466, 'assets': 467, 'aggressively': 468, 'economics': 469, 'recently': 470, 'waf': 471, 'investment': 472, 'poor': 473, 'rosario': 474, 'bruce': 475, 'aborted': 476, 'tariffs': 477, 'moves': 478, 'overall': 479, 'seeking': 480, 'raw': 481, 'juice': 482, '144': 483, 'meal': 484, 'quantities': 485, 'enact': 486, 'inches': 487, '782': 488, 'del': 489, 'potential': 490, 'benefited': 491, 'mi': 492, 'revoked': 493, 'cereal': 494, 'firstbanc': 495, 'called': 496, 'nations': 497, 'act': 498, 'recovery': 499, '49': 500, 'short': 501, 'enjoyed': 502, 'entourage': 503, 'rowe': 504, 'barwon': 505, 'instruments': 506, 'plans': 507, 'beach': 508, 'asher': 509, 'wheat': 510, 'my': 511, 'colt': 512, 'only': 513, '109': 514, '147': 515, 'coupons': 516, '78': 517, 'quarters': 518, 'uct': 519, 'earlier': 520, 'methods': 521, 'jovanovich': 522, 'few': 523, 'losses': 524, '890': 525, 'powerhouse': 526, 'signficant': 527, 'effect': 528, 'france': 529, 'team': 530, 'atekf': 531, 'kaunda': 532, '4': 533, 'would': 534, 'trucking': 535, 'gold': 536, 'finally': 537, 'restricted': 538, 'monitoring': 539, 'technical': 540, 'trying': 541, 'ettore': 542, 'regent': 543, 'plc': 544, 'dana': 545, 'agreement': 546, 'cabinet': 547, 'continued': 548, 'initiatives': 549, 'west': 550, 'agricultural': 551, 'doubling': 552, 'expenses': 553, 'matter': 554, 'atlas': 555, 'ali': 556, 'agree': 557, '17': 558, 'depreciation': 559, 'greatest': 560, 'except': 561, 'belgium': 562, '508': 563, 'branch': 564, 'juices': 565, 'manila': 566, 'world': 567, 't': 568, 'appreciation': 569, 'telling': 570, 'attempt': 571, 'completed': 572, 'itself': 573, 'suger': 574, '25': 575, 'cxr': 576, 'absorption': 577, 'darlington': 578, 'nza': 579, 'sells': 580, 'customers': 581, 'pretax': 582, 'stem': 583, 'totalled': 584, 'keep': 585, 'formal': 586, 'case': 587, 'jones': 588, 'boosted': 589, 'themselves': 590, 'jan': 591, 'ones': 592, 'rumors': 593, 'whose': 594, 'our': 595, 'commodity': 596, 'aren': 597, 'believe': 598, 'matures': 599, 'she': 600, '758': 601, 'fluctuate': 602, '810': 603, 'i': 604, 'occur': 605, 'fasting': 606, 'excluded': 607, 'important': 608, 'security': 609, 'unavailable': 610, 'expects': 611, 'sept': 612, 'filipino': 613, 'rebates': 614, '828': 615, 'lawrence': 616, 'finance': 617, 'stimulate': 618, 'placed': 619, '558': 620, 'chancellor': 621, 'fell': 622, 'timing': 623, 'spending': 624, 'weekend': 625, 'hard': 626, 'producer': 627, 'ended': 628, 'kl': 629, 'comparable': 630, 'architectural': 631, '358': 632, 'focus': 633, 'represented': 634, 'abe': 635, 'brothers': 636, 'company': 637, 'what': 638, 'advisory': 639, 'italy': 640, 'icch': 641, '838': 642, 'metals': 643, '89': 644, 'underground': 645, 'achievement': 646, 'johnston': 647, 'ucpb': 648, 'conditioned': 649, 'currencies': 650, '83': 651, 'aluminum': 652, 'rtrs': 653, 'series': 654, 'then': 655, '357': 656, 'vermin': 657, 'maintain': 658, 'spotlight': 659, 'sequestered': 660, '56': 661, 'live': 662, 'yankee': 663, 'but': 664, 'polyester': 665, 'lived': 666, 'senate': 667, 'manufacturer': 668, 'absence': 669, 'countries': 670, 'slackens': 671, 'rdld': 672, 'sul': 673, 'suffering': 674, 'fiduciary': 675, 'neighbourhood': 676, 'september': 677, 'neoy': 678, 'mn': 679, 'diligence': 680, 'compares': 681, 'equivalent': 682, 'marketer': 683, 'gasoline': 684, 'turned': 685, '29': 686, 'loading': 687, 'better': 688, '81': 689, 'times': 690, 'sold': 691, 'getting': 692, 'processor': 693, '118': 694, 'attracting': 695, 'expire': 696, 'flurry': 697, 'honored': 698, 'are': 699, 'quality': 700, 'affairs': 701, 'foresaw': 702, 'millimetres': 703, 'makoto': 704, 'tomato': 705, 'show': 706, 'requirments': 707, 'honduras': 708, 'fly': 709, '730': 710, 'well': 711, 'entirely': 712, 'australia': 713, 'motives': 714, 'increases': 715, '946': 716, 'improved': 717, '628': 718, '150': 719, 'relations': 720, 'board': 721, 'accepted': 722, 'rises': 723, 'brace': 724, 'dosher': 725, 'denmark': 726, 'project': 727, 'northeast': 728, 'tree': 729, 'guaranteed': 730, 'swhi': 731, 'falling': 732, 'carrying': 733, 'enforced': 734, 'banker': 735, 'subsidies': 736, '008': 737, 'than': 738, 'five': 739, 'capacity': 740, 'crisis': 741, 'topics': 742, '617': 743, 'exceptional': 744, 'mc': 745, 'stronger': 746, 'sole': 747, 'acquires': 748, 'split': 749, 'guard': 750, 'resources': 751, '379': 752, 'headed': 753, '378': 754, 'forbidden': 755, 'florida': 756, 'extension': 757, 'mainichi': 758, 'addition': 759, 'strengthening': 760, 'summer': 761, 'peso': 762, 'filipinos': 763, 'use': 764, 'rains': 765, 'official': 766, 'reduce': 767, '67': 768, 'mutsuki': 769, 'real': 770, 'generally': 771, 'rapeseed': 772, 'anything': 773, 'awards': 774, 'wiped': 775, 'anderson': 776, 'poised': 777, 'monsanto': 778, 'dumping': 779, '317': 780, 'ferrous': 781, 'now': 782, '559': 783, 'changes': 784, 'associations': 785, 'atlc': 786, 'neptunia': 787, '3489': 788, 'ibcp': 789, 'safe': 790, 'chance': 791, 'sheer': 792, 'pepper': 793, 'booming': 794, 'declared': 795, 'issued': 796, 'alexanders': 797, 'campaign': 798, 'cause': 799, 'supply': 800, 'second': 801, '515': 802, '213': 803, 'regarding': 804, 'datr': 805, 'demonstrate': 806, 'war': 807, 'hotel': 808, '18': 809, 'forced': 810, 'diaz': 811, 'manhattan': 812, 'unusual': 813, 'elements': 814, '99': 815, 'funds': 816, 'workers': 817, 'management': 818, 'controls': 819, 'projection': 820, '400': 821, 'reconsider': 822, 'representative': 823, 'community': 824, 'geodynamics': 825, 'service': 826, 'biotech': 827, 'builders': 828, 'each': 829, 'modest': 830, 'pouring': 831, 'lose': 832, 'recoveries': 833, 'ordinary': 834, 'kuroda': 835, 'award': 836, 'excessive': 837, 'experts': 838, 'appointed': 839, 'local': 840, 'export': 841, 'can': 842, 'chartered': 843, 'undergoing': 844, 'danger': 845, 'attention': 846, 'violated': 847, 'fields': 848, 'coated': 849, 'enterprises': 850, 'kiichi': 851, 'dupont': 852, 'marble': 853, 'enhance': 854, '155': 855, 'when': 856, 'result': 857, 'demands': 858, 'has': 859, 'above': 860, '21': 861, 'harmoko': 862, 'were': 863, 'fiscal': 864, 'role': 865, 'involved': 866, '680': 867, 'published': 868, 'adhere': 869, 'janunary': 870, 'unit': 871, 'thomson': 872, 'cci': 873, 'metal': 874, 'scaled': 875, 'percentage': 876, '206p': 877, 'par': 878, 'shed': 879, 'eridania': 880, '188': 881, 'calm': 882, 'index': 883, 'partnership': 884, '294': 885, 'vote': 886, '642': 887, 'clients': 888, 'gra': 889, 'authorised': 890, 'deterioration': 891, 'pre': 892, 'volatility': 893, 'smithson': 894, 'entg': 895, 'citr': 896, 'divested': 897, 'lammers': 898, 'wide': 899, '579': 900, 'administrative': 901, 'weak': 902, 'alone': 903, 'setbacks': 904, 'discover': 905, 'receiving': 906, 'manager': 907, 'europe': 908, 'managing': 909, 'soft': 910, 'accelerate': 911, 'challenge': 912, 'owned': 913, 'j': 914, 'book': 915, 'focused': 916, 'geared': 917, '785': 918, 'general': 919, 'rotting': 920, 'seoul': 921, 'male': 922, 'engineers': 923, 'designed': 924, 'head': 925, 'derivative': 926, '65': 927, 'bond': 928, 'hong': 929, 'opens': 930, 'ronald': 931, '249': 932, '020': 933, 'slight': 934, 'shrs': 935, 'nickel': 936, '815': 937, 'spain': 938, 'post': 939, 'unless': 940, '16': 941, 'barge': 942, 'repeatedly': 943, 'runs': 944, 'duck': 945, 'farm': 946, 'producing': 947, '114': 948, 'lme': 949, 'hawaiian': 950, '182': 951, 'fld': 952, '924': 953, 'reason': 954, 'media': 955, '45': 956, 'consumer': 957, 'leonardo': 958, '05': 959, 'polled': 960, 'smls': 961, 'pepperell': 962, 'turn': 963, 'move': 964, 'transfer': 965, 'owners': 966, 'pineapples': 967, 'philippines': 968, 'forestall': 969, 'putting': 970, 'deteriorated': 971, 'mines': 972, 'bwtr': 973, 'bud': 974, 'research': 975, '790': 976, 'damages': 977, 'dollars': 978, 'telephone': 979, 'replacing': 980, 'six': 981, 'found': 982, 'stagnating': 983, 'tries': 984, 'loan': 985, 's': 986, 'record': 987, 'announcement': 988, 'formosa': 989, 'saleh': 990, 'debts': 991, 'hackensack': 992, 'growers': 993, 'neste': 994, 'method': 995, 'wtc': 996, 'accompanying': 997, 'robin': 998, '583': 999, 'insure': 1000, 'county': 1001, 'correct': 1002, 'monopolies': 1003, 'strong': 1004, 'status': 1005, 'icahn': 1006, 'surprise': 1007, 'ixl': 1008, 'approximately': 1009, 'task': 1010, 'various': 1011, 'submit': 1012, 'energy': 1013, 'whim': 1014, '550': 1015, 'activities': 1016, 'predicted': 1017, 'sources': 1018, 'agriculture': 1019, 'provinces': 1020, 'disrupted': 1021, 'decreases': 1022, 'oper': 1023, 'shown': 1024, 'settle': 1025, 'devote': 1026, 'certified': 1027, 'allocates': 1028, 'mexico': 1029, 'attraction': 1030, 'office': 1031, 'firm': 1032, 'jumps': 1033, '474': 1034, 'ohio': 1035, 'helping': 1036, 'easily': 1037, 'earnings': 1038, 'aircraft': 1039, 'relieved': 1040, '485': 1041, '264': 1042, 'coface': 1043, 'warehouse': 1044, 'sait': 1045, 'restart': 1046, '272': 1047, 'copper': 1048, 'delivery': 1049, '194': 1050, 'capitals': 1051, 'which': 1052, 'minimum': 1053, 'picker': 1054, 'follows': 1055, 'benefit': 1056, 'withdraw': 1057, 'quoted': 1058, 'cpa': 1059, 'low': 1060, '35': 1061, 'cities': 1062, 'startup': 1063, 'periods': 1064, 'tightening': 1065, 'came': 1066, 'accompanied': 1067, 'maximum': 1068, '929': 1069, 'power': 1070, 'gdyn': 1071, 'ct': 1072, 'president': 1073, 'gnp': 1074, 'not': 1075, 'quarterly': 1076, 'interim': 1077, '453': 1078, 'infringement': 1079, 'citizen': 1080, 'notificaton': 1081, 'estimates': 1082, 'preparing': 1083, 'edouard': 1084, 'petrol': 1085, 'headquarters': 1086, 'margins': 1087, 'slump': 1088, 'withdrawing': 1089, 'combat': 1090, '081': 1091, 'according': 1092, 'rice': 1093, 'vowg': 1094, 'effectiveness': 1095, '595': 1096, 'creditors': 1097, 'weaker': 1098, '14': 1099, 'almost': 1100, 'kent': 1101, 'sa': 1102, 'saunders': 1103, 'reorganization': 1104, '126': 1105, 'january': 1106, 'reasonable': 1107, 'emirate': 1108, 'subject': 1109, 'containers': 1110, 'scattered': 1111, '105': 1112, 'limit': 1113, 'during': 1114, 'markets': 1115, 'effective': 1116, 'replacement': 1117, 'enormous': 1118, 'ride': 1119, 'infusion': 1120, '874': 1121, 'laid': 1122, '746': 1123, '50': 1124, 'professionals': 1125, 'comments': 1126, 'undervalued': 1127, 'awarded': 1128, 'buoyant': 1129, 'confident': 1130, 'pty': 1131, 'bank': 1132, 'fitzwater': 1133, 'old': 1134, 'pacts': 1135, 'storing': 1136, 'us': 1137, 'represent': 1138, 'claim': 1139, 'entered': 1140, 'ceroni': 1141, 'purchases': 1142, 'fairer': 1143, 'dealers': 1144, 'customer': 1145, 'clarify': 1146, 'reuter': 1147, 'sign': 1148, 'waiting': 1149, 'otto': 1150, 'approval': 1151, 'unnoticed': 1152, '27': 1153, 'preliminary': 1154, 'rationalise': 1155, 'refiner': 1156, 'natural': 1157, 'resulted': 1158, 'new': 1159, 'band': 1160, '412': 1161, 'response': 1162, 'domestically': 1163, 'outgoing': 1164, 'began': 1165, 'pension': 1166, 'financing': 1167, 'compaq': 1168, '957': 1169, '800': 1170, '132': 1171, 'whom': 1172, 'looking': 1173, 'sectors': 1174, 'swing': 1175, 'reliable': 1176, 'strategic': 1177, 'needs': 1178, 'cartel': 1179, 'hk': 1180, 'once': 1181, 'astin': 1182, 'accruing': 1183, 'kg': 1184, 'rapid': 1185, '765': 1186, 'allowed': 1187, 'diversification': 1188, 'sown': 1189, 'cos': 1190, 'subroto': 1191, 'ground': 1192, 'planting': 1193, 'larosiere': 1194, 'questioned': 1195, 'citibank': 1196, 'overdue': 1197, 'stowe': 1198, 'walls': 1199, 'essentially': 1200, 'purpose': 1201, 'expressed': 1202, 'downtrend': 1203, 'wpm': 1204, 'montreal': 1205, 'commission': 1206, 'contempory': 1207, 'proxy': 1208, 'initial': 1209, 'paperboard': 1210, 'widens': 1211, 'arbitragers': 1212, 'lines': 1213, 'shimbun': 1214, 'sugar': 1215, 'wales': 1216, 'study': 1217, 'racket': 1218, 'dlrs': 1219, 'fears': 1220, 'button': 1221, 'goria': 1222, 'performance': 1223, '91': 1224, '286': 1225, 'carpets': 1226, 'considerably': 1227, 'desire': 1228, 'contribute': 1229, 'serves': 1230, 'carolina': 1231, 'extremely': 1232, '183': 1233, 'dated': 1234, '736': 1235, 'jumping': 1236, 'isola': 1237, 'dd': 1238, 'melbourne': 1239, 'futures': 1240, 'at': 1241, 'ashland': 1242, 'machines': 1243, '556': 1244, 'rift': 1245, 'models': 1246, 'rightful': 1247, 'restructured': 1248, 'insurance': 1249, 'get': 1250, 'deal': 1251, '935': 1252, 'e': 1253, 'food': 1254, 'position': 1255, 'confidential': 1256, '2': 1257, '976': 1258, 'from': 1259, '915': 1260, 'how': 1261, 'require': 1262, 'listed': 1263, 'wis': 1264, 'leap': 1265, 'alliance': 1266, 'disruption': 1267, 'progressed': 1268, 'was': 1269, 'won': 1270, 'needed': 1271, 'spokeswoman': 1272, '104': 1273, 'milan': 1274, 'reform': 1275, 'targeting': 1276, '1': 1277, 'like': 1278, 'users': 1279, '616': 1280, 'parent': 1281, 'repoprt': 1282, '24': 1283, 'reagan': 1284, 'continental': 1285, 'packaged': 1286, 'looked': 1287, 'ita': 1288, 'korean': 1289, 'don': 1290, 'rest': 1291, 'distribution': 1292, 'want': 1293, 'place': 1294, 'leaving': 1295, 'stability': 1296, 'drain': 1297, 'activity': 1298, 'closure': 1299, 'ago': 1300, 'repurchases': 1301, 'sense': 1302, '656': 1303, '652': 1304, 'cheaply': 1305, 'wilson': 1306, 'elrc': 1307, 'liberalisation': 1308, 'yasuhiro': 1309, 'regular': 1310, 'approaching': 1311, '157': 1312, 'inadequate': 1313, 'broke': 1314, 'programs': 1315, 'within': 1316, 'parity': 1317, 'spite': 1318, 'trim': 1319, 'blunt': 1320, 'roberts': 1321, '021': 1322, '500': 1323, 'mm': 1324, '123': 1325, 'price': 1326, 'care': 1327, 'version': 1328, 'among': 1329, 'failure': 1330, 'disclosure': 1331, 'revaluation': 1332, 'days': 1333, 'investigate': 1334, 'versus': 1335, 'ratified': 1336, 'craa': 1337, 'violate': 1338, 'terence': 1339, 'collateral': 1340, '97': 1341, 'los': 1342, 'arrive': 1343, 'edt': 1344, 'qtr': 1345, 'legality': 1346, 'malaysian': 1347, 'puts': 1348, 'make': 1349, 'ease': 1350, '684': 1351, '115': 1352, 'electronic': 1353, 'sentiment': 1354, 'ours': 1355, 'kim': 1356, 'white': 1357, 'ecus': 1358, 'giovanni': 1359, '95': 1360, 'region': 1361, 'squeeze': 1362, '494': 1363, 'development': 1364, 'signed': 1365, 'yeutter': 1366, 'rose': 1367, 'metropolitan': 1368, 'seem': 1369, '51': 1370, 'disappearing': 1371, 'meiko': 1372, '910': 1373, 'chairman': 1374, 'ore': 1375, 'raised': 1376, 'dominion': 1377, 'digest': 1378, 'parties': 1379, 'dinar': 1380, 'turning': 1381, 'baton': 1382, 'expenditures': 1383, 'bidders': 1384, '440': 1385, 'profit': 1386, 'rules': 1387, 'meet': 1388, 'depressing': 1389, 'effects': 1390, 'croesus': 1391, '882': 1392, 'sides': 1393, 'treatment': 1394, 'talks': 1395, 'diversified': 1396, '754': 1397, 'balances': 1398, '174': 1399, 'grain': 1400, 'avoiding': 1401, 'highest': 1402, 'comment': 1403, 'makes': 1404, 'reluctant': 1405, 'susbidiaries': 1406, 'ash': 1407, 'through': 1408, 'option': 1409, 'wayne': 1410, 'sends': 1411, 'protective': 1412, '1990': 1413, 'running': 1414, 'maturing': 1415, 'suit': 1416, 'comparisons': 1417, 'joined': 1418, '525': 1419, 'tighter': 1420, 'action': 1421, '000': 1422, 'tile': 1423, 'mij': 1424, 'note': 1425, 'article': 1426, '36': 1427, 'reach': 1428, 'alexander': 1429, 'much': 1430, 'sawn': 1431, 'stand': 1432, '320': 1433, 'lapse': 1434, 'asian': 1435, 'jsbk': 1436, 'tom': 1437, '528': 1438, 'element': 1439, 'federation': 1440, 'waves': 1441, '948': 1442, 'stabilizing': 1443, 'alex': 1444, 'authorities': 1445, 'tokyo': 1446, 'awaiting': 1447, 'trend': 1448, 'asia': 1449, 'south': 1450, 'east': 1451, 'harvested': 1452, 'soybeans': 1453, 'considers': 1454, 'time': 1455, 'explaining': 1456, 'report': 1457, 'recommended': 1458, 'outweighed': 1459, 'base': 1460, 'depends': 1461, 'paper': 1462, 'grl': 1463, 'prompt': 1464, 'best': 1465, 'owed': 1466, 'suspend': 1467, 'average': 1468, 'poison': 1469, 'afterwards': 1470, 'prepared': 1471, 'out': 1472, 'factors': 1473, '050': 1474, 'ferdinand': 1475, 'niche': 1476, 'sapped': 1477, 'representatives': 1478, 'h': 1479, 'direction': 1480, '20': 1481, 'bonus': 1482, 'cbs': 1483, 'huge': 1484, 'cincinnati': 1485, 'injection': 1486, 'semiconductors': 1487, 'tough': 1488, 'could': 1489, 'ports': 1490, 'western': 1491, 'undermine': 1492, 'flag': 1493, 'journalists': 1494, 'universal': 1495, '12': 1496, 'posted': 1497, 'expanded': 1498, 'unrecoverable': 1499, '73': 1500, 'communications': 1501, 'franc': 1502, 'congress': 1503, '953': 1504, 'expense': 1505, 'worried': 1506, 'bowater': 1507, 'tiered': 1508, '48': 1509, 'democratic': 1510, 'giving': 1511, '776': 1512, 'governments': 1513, 'shield': 1514, 'candidate': 1515, 'groundwork': 1516, 'extensive': 1517, 'entire': 1518, 'detailed': 1519, 'employed': 1520, 'businessmen': 1521, 'hand': 1522, 'signs': 1523, 'spring': 1524, 'bancorp': 1525, 'lame': 1526, 'likelihood': 1527, 'anymore': 1528, 'individuals': 1529, 'flight': 1530, 'planned': 1531, 'hsld': 1532, '504': 1533, 'granaries': 1534, 'kong': 1535, 'talking': 1536, 'thirds': 1537, 'blla': 1538, 'vmnb': 1539, 'sums': 1540, 'paian': 1541, '101': 1542, 'york': 1543, 'scheme': 1544, 'ships': 1545, 'introduction': 1546, 'ec': 1547, 'ccl': 1548, '15': 1549, '905': 1550, 'exchange': 1551, '6': 1552, 'expansionary': 1553, 'spread': 1554, 'unsuccessful': 1555, 'taking': 1556, 'including': 1557, 'armacost': 1558, 'committed': 1559, 'cautiously': 1560, 'fund': 1561, 'payable': 1562, 'meaningful': 1563, 'semi': 1564, 'representing': 1565, 'province': 1566, 'biotechnology': 1567, 'd': 1568, 'remarkable': 1569, 'reduced': 1570, 'spokesmen': 1571, 'hele': 1572, 'avg': 1573, 'smaller': 1574, '256': 1575, 'rising': 1576, 'consolidated': 1577, 'query': 1578, 'gecl': 1579, 'if': 1580, 'produce': 1581, 'fuller': 1582, 'night': 1583, 'averaged': 1584, 'eyes': 1585, 'jax': 1586, 'll': 1587, 'supports': 1588, 'swiss': 1589, '067': 1590, 'forcing': 1591, '883': 1592, 'remove': 1593, 'packaging': 1594, 'washington': 1595, 'stick': 1596, 'je': 1597, 'objection': 1598, 'raise': 1599, '.-': 1600, 'must': 1601, 'lanka': 1602, 'unemployment': 1603, 'seasonally': 1604, 'operations': 1605, 'registered': 1606, 'contacts': 1607, 'unstable': 1608, 'miguel': 1609, 'small': 1610, 'iraq': 1611, 'chesebrough': 1612, '103': 1613, 'social': 1614, '742': 1615, 'receive': 1616, 'concerned': 1617, 'savings': 1618, 'manufacturers': 1619, 'however': 1620, 'brings': 1621, 'scandals': 1622, 'redeemable': 1623, 'solid': 1624, 'lean': 1625, 'purchased': 1626, 'barriers': 1627, 'container': 1628, 'telcom': 1629, '787': 1630, 'masland': 1631, 'aware': 1632, 'enough': 1633, 'tertiary': 1634, 'row': 1635, 'served': 1636, 'street': 1637, 'centred': 1638, 'got': 1639, 'southern': 1640, 'careful': 1641, 'all': 1642, '299': 1643, 'approach': 1644, '32': 1645, 'actions': 1646, 'improving': 1647, 'grande': 1648, 'touched': 1649, 'keen': 1650, 'fortunes': 1651, '045': 1652, 'indications': 1653, 'first': 1654, 'resulting': 1655, 'early': 1656, 'instead': 1657, '491p': 1658, 'significance': 1659, 'unable': 1660, 'represents': 1661, 'scaleup': 1662, 'speculation': 1663, 'strategy': 1664, 'expectations': 1665, 'exceed': 1666, 'de': 1667, 'elimination': 1668, 'claims': 1669, 'set': 1670, 'concrete': 1671, 'hayes': 1672, 'factor': 1673, 'communicate': 1674, '1989': 1675, 'starts': 1676, '-': 1677, 'outlines': 1678, 'seventh': 1679, 'estate': 1680, '454': 1681, 'currency': 1682, 'kept': 1683, 'credence': 1684, 'feedstocks': 1685, 'industrialized': 1686, 'notice': 1687, '481p': 1688, 'shrank': 1689, 'listings': 1690, 'directors': 1691, 'mark': 1692, 'impact': 1693, 'returning': 1694, 'unspecified': 1695, 'costs': 1696, 'participating': 1697, 'rescheduling': 1698, 'declare': 1699, 'dividends': 1700, 'extraordinary': 1701, 'communique': 1702, 'affair': 1703, 'cooperative': 1704, 'emergency': 1705, 'canned': 1706, 'steering': 1707, 'put': 1708, 'purees': 1709, 'outflows': 1710, 'together': 1711, '499': 1712, 'christopher': 1713, 'adverse': 1714, 'amsterdam': 1715, 'pills': 1716, 'sun': 1717, 'dairy': 1718, 'cutting': 1719, 'answer': 1720, 'revalue': 1721, '926': 1722, 'assurances': 1723, '432': 1724, 'paul': 1725, 'juggling': 1726, 'limited': 1727, 'beef': 1728, 'tissue': 1729, 'plantings': 1730, '281': 1731, 'harcourt': 1732, 'crews': 1733, 'urged': 1734, 'believed': 1735, 'wmng': 1736, 'equipment': 1737, 'term': 1738, 'indonesian': 1739, 'karl': 1740, 'objections': 1741, 'recording': 1742, 'therefore': 1743, 'zambia': 1744, 'planters': 1745, 'eligible': 1746, 'nominal': 1747, 'sep': 1748, '138': 1749, 'import': 1750, 'feared': 1751, 'confirms': 1752, 'pickens': 1753, 'rumor': 1754, 'bybee': 1755, 'clear': 1756, 'fidata': 1757, 'creating': 1758, 'mrbl': 1759, 'uninsured': 1760, 'chemicals': 1761, 'welsh': 1762, 'recorded': 1763, 'considering': 1764, 'hearing': 1765, 'fayetteville': 1766, 'walk': 1767, 'enables': 1768, 'keidanren': 1769, 'tenn': 1770, 'explanation': 1771, 'erskine': 1772, 'commodities': 1773, 'shareholkders': 1774, 'weighted': 1775, 'david': 1776, 'settlement': 1777, 'meta': 1778, '74': 1779, 'reflects': 1780, 'wish': 1781, '250': 1782, 'datx': 1783, 'latin': 1784, 'rashid': 1785, 'statistics': 1786, 'purchasing': 1787, 'ends': 1788, 'glamorous': 1789, 'compared': 1790, 'unilever': 1791, 'corporation': 1792, 'aug': 1793, 'absorbing': 1794, 'mnra': 1795, 'retractable': 1796, 'possibly': 1797, 'combination': 1798, 'amadeus': 1799, 'impose': 1800, 'unfavourable': 1801, 'australian': 1802, 'aimed': 1803, 'similarly': 1804, 'tolerated': 1805, '19': 1806, '85': 1807, 'mineral': 1808, 'economic': 1809, 'stockholders': 1810, 'diluting': 1811, 'avert': 1812, 'area': 1813, 'possible': 1814, 'lot': 1815, 'exported': 1816, 'dilemma': 1817, 'california': 1818, 'mildly': 1819, 'exporter': 1820, 'unie': 1821, '692': 1822, 'evening': 1823, 'particular': 1824, 'servicing': 1825, 'acquiring': 1826, 'exceeds': 1827, 'ny': 1828, 'poehl': 1829, 'increased': 1830, 'access': 1831, 'tradevest': 1832, '33': 1833, 'fob': 1834, 'season': 1835, 'smith': 1836, 'cpo': 1837, 'order': 1838, 'developments': 1839, 'breakdown': 1840, 'liquidity': 1841, 'perhaps': 1842, 'curb': 1843, 'both': 1844, 'heyman': 1845, 'annually': 1846, 'am': 1847, 'interview': 1848, 'colleagues': 1849, 'personal': 1850, 'reverse': 1851, 'warns': 1852, 'iu': 1853, 'maize': 1854, 'relatively': 1855, 'watch': 1856, 'inventory': 1857, 'computers': 1858, 'near': 1859, 'fast': 1860, 'provide': 1861, 'ministry': 1862, 'bad': 1863, 'emotional': 1864, 'some': 1865, 'sheets': 1866, 'steelmaking': 1867, 'existing': 1868, 'industries': 1869, 'scandal': 1870, 'gordon': 1871, 'marcos': 1872, '739': 1873, 'outcome': 1874, 'santa': 1875, 'offices': 1876, 'depending': 1877, 'profitability': 1878, 'vieille': 1879, '84': 1880, 'independent': 1881, '741': 1882, 'wlbk': 1883, 'bona': 1884, 'stabilise': 1885, 'kilos': 1886, 'sachs': 1887, 'dsmn': 1888, 'nl': 1889, 'delegation': 1890, 'buttrose': 1891, 'used': 1892, 'carryforwards': 1893, 'says': 1894, 'margin': 1895, 'tcjc': 1896, 'that': 1897, 'buenos': 1898, 'economist': 1899, 'reasonably': 1900, 'rank': 1901, 'participate': 1902, 'acquisition': 1903, 'nstc': 1904, 'terminating': 1905, '234': 1906, 'repaid': 1907, 'publish': 1908, 'widened': 1909, 'free': 1910, 'closing': 1911, 'propel': 1912, 'offshore': 1913, 'it': 1914, 'rent': 1915, 'reynolds': 1916, 'fabrics': 1917, 'so': 1918, 'units': 1919, 'economies': 1920, 'unsuccessfully': 1921, 'buys': 1922, 'calculate': 1923, '110': 1924, 'carson': 1925, 'conventional': 1926, 'sauce': 1927, 'favourable': 1928, 'myrtle': 1929, 'applicable': 1930, 'face': 1931, 'barrel': 1932, 'holders': 1933, '3': 1934, 'route': 1935, 'supervisory': 1936, 'delegate': 1937, 'trading': 1938, 'pushed': 1939, 'legal': 1940, 'smc': 1941, 'apr': 1942, 'agenda': 1943, '173': 1944, 'boost': 1945, 'locating': 1946, '1987': 1947, 'indonesia': 1948, '100': 1949, 'democrats': 1950, 'intentions': 1951, '159': 1952, 'circumstances': 1953, 'visits': 1954, 'grow': 1955, 'furniture': 1956, '116': 1957, 'advantages': 1958, 'obvious': 1959, 'presidential': 1960, 'grounds': 1961, 'disappointing': 1962, 'yen': 1963, 'pit': 1964, 'fieldcrest': 1965, 'invest': 1966, 'oct': 1967, 'told': 1968, 'scheduled': 1969, '468': 1970, 'intent': 1971, 'unofficial': 1972, 'lots': 1973, 'profits': 1974, 'little': 1975, 'golden': 1976, 'ivb': 1977, 'homes': 1978, 'domestic': 1979, 'umbiz': 1980, 'samuel': 1981, 'block': 1982, 'picco': 1983, 'systems': 1984, 'cot': 1985, 'cane': 1986, 'employee': 1987, '900': 1988, 'kato': 1989, 'code': 1990, 'microchip': 1991, 'outright': 1992, 'contain': 1993, '476': 1994, 'reasons': 1995, 'completes': 1996, '834': 1997, 'beans': 1998, 'invested': 1999, 'non': 2000, 'your': 2001, 'ratio': 2002, 'play': 2003, 'amount': 2004, 'hamley': 2005, 'inaction': 2006, 'see': 2007, 'locally': 2008, 'formed': 2009, '496': 2010, 'pressures': 2011, 'cover': 2012, 'isuzu': 2013, 'control': 2014, 'woolworth': 2015, 'unrelated': 2016, 'liquefied': 2017, 'equities': 2018, 'hins': 2019, 'projections': 2020, 'bur': 2021, 'incurred': 2022, 'murtha': 2023, 'lb': 2024, 'zeebregts': 2025, 'teams': 2026, 'doubt': 2027, 'abuses': 2028, 'finns': 2029, '54': 2030, 'crops': 2031, 'rate': 2032, 'adds': 2033, 'exile': 2034, 'transaction': 2035, 'context': 2036, 'bundesbank': 2037, 'sumitomo': 2038, 'eskey': 2039, 'materials': 2040, 'everything': 2041, 'upon': 2042, 'february': 2043, 'redland': 2044, '210': 2045, 'beet': 2046, 'lt': 2047, 'stake': 2048, 'to': 2049, 'earned': 2050, 'ethylene': 2051, 'credible': 2052, 'sharply': 2053, '764': 2054, 'michael': 2055, 'stubborn': 2056, 'weekly': 2057, 'petrochemical': 2058, 'shareholders': 2059, 'under': 2060, '71': 2061, 'supplying': 2062, 'here': 2063, 'ailing': 2064, '206': 2065, 'gormley': 2066, 'calling': 2067, '52': 2068, 'requirement': 2069, 'brewing': 2070, 'indicative': 2071, ';': 2072, 'actively': 2073, 'eased': 2074, 'title': 2075, 'immediately': 2076, 'consultants': 2077, 'meyer': 2078, 'backlog': 2079, 'expiry': 2080, '259': 2081, 'bulk': 2082, 'sub': 2083, 'injured': 2084, 'waltham': 2085, 'holt': 2086, '316': 2087, 'distributions': 2088, 'imposition': 2089, 'continues': 2090, 'natg': 2091, 'distributed': 2092, '76': 2093, 'chinese': 2094, 'projected': 2095, 'leave': 2096, '270': 2097, \"'\": 2098, 'crash': 2099, 'point': 2100, 'range': 2101, 'makers': 2102, 'argimont': 2103, 'perfume': 2104, '690': 2105, 'bold': 2106, '.': 2107, 'trees': 2108, 'reported': 2109, 'healthy': 2110, 'explained': 2111, 'fulfilled': 2112, 'gmt': 2113, 'madeira': 2114, 'socialist': 2115, 'canada': 2116, 'traders': 2117, 'shape': 2118, 'intense': 2119, 'disclose': 2120, 'lucky': 2121, '5571': 2122, 'measured': 2123, 'contracted': 2124, '53': 2125, 'discontinued': 2126, 'partly': 2127, 'f': 2128, 'away': 2129, 'further': 2130, 'shift': 2131, 'assistance': 2132, 'quotas': 2133, 'required': 2134, 'scapegoat': 2135, 'judgment': 2136, 'true': 2137, '1980': 2138, 'standing': 2139, 'refined': 2140, 'sunflowers': 2141, 'yale': 2142, 'portugal': 2143, 'prospects': 2144, 'overseas': 2145, 'scratch': 2146, 'in': 2147, 'steps': 2148, 'introduce': 2149, 'mistakes': 2150, 'yielding': 2151, 'sharp': 2152, 'cathode': 2153, 'lyon': 2154, 'redundancy': 2155, 'correspondents': 2156, 'added': 2157, 'bid': 2158, '612': 2159, 'amounted': 2160, 'mothball': 2161, 'execution': 2162, 'park': 2163, 'assumes': 2164, 'vs': 2165, 'dinars': 2166, 'welcomed': 2167, 'bpd': 2168, 'substantially': 2169, 'fraud': 2170, 'rumours': 2171, 'yes': 2172, 'wearhouse': 2173, 'cargo': 2174, 'as': 2175, 'terms': 2176, '2nd': 2177, 'spent': 2178, 'will': 2179, 'boosts': 2180, '187': 2181, 'favorable': 2182, 'stg': 2183, 'investments': 2184, 'urges': 2185, '436': 2186, 'aggregate': 2187, 'sanctions': 2188, 'last': 2189, 'steadier': 2190, 'electrolysis': 2191, 'conoco': 2192, 'take': 2193, 'outpaced': 2194, 'forecasting': 2195, 'recession': 2196, 'over': 2197, 'ivory': 2198, 'moslem': 2199, 'gets': 2200, 'whole': 2201, '539': 2202, '145': 2203, '0': 2204, 'although': 2205, 'pacific': 2206, 'said': 2207, 'jacques': 2208, 'threatened': 2209, 'la': 2210, 'pcgg': 2211, 'competition': 2212, 'health': 2213, '300': 2214, 'left': 2215, 'committee': 2216, 'negotiations': 2217, 'shortfall': 2218, 'revs': 2219, 'demand': 2220, 'separate': 2221, 'corazon': 2222, '200': 2223, 'auto': 2224, 'central': 2225, 'keswick': 2226, 'borg': 2227, 'business': 2228, 'tetra': 2229, 'hoechst': 2230, '872': 2231, '44': 2232, '107': 2233, '77': 2234, 'protesting': 2235, 'billion': 2236, 'suitable': 2237, 'common': 2238, 'stance': 2239, '06': 2240, '047': 2241, 'figures': 2242, 'suiker': 2243, 'helped': 2244, 'held': 2245, 'dean': 2246, 'journal': 2247, 'exceeded': 2248, 'entities': 2249, 'diversify': 2250, 'alarm': 2251, 'buyer': 2252, 'wedgestone': 2253, 'appliances': 2254, 'consume': 2255, 'sri': 2256, 'sufficient': 2257, 'others': 2258, 'pledged': 2259, 'policy': 2260, 'session': 2261, 'outcry': 2262, 'suspected': 2263, 'inflict': 2264, 'blamed': 2265, '111': 2266, '37': 2267, 'complained': 2268, 'started': 2269, 'party': 2270, 'vehicles': 2271, 'discussions': 2272, 'unaudited': 2273, 'approvals': 2274, 'slowing': 2275, 'particularly': 2276, 'reversal': 2277, 'television': 2278, 'target': 2279, 'asking': 2280, 'absb': 2281, 'leduc': 2282, 'class': 2283, 'opportunity': 2284, 'steel': 2285, 'questionable': 2286, 'monier': 2287, 'goodall': 2288, 'named': 2289, 'ariadne': 2290, 'increasingly': 2291, 'rachmat': 2292, 'komatsu': 2293, 'nothing': 2294, 'gallon': 2295, 'green': 2296, 'thailand': 2297, 'plentiful': 2298, 'discouraged': 2299, 'argue': 2300, 'stood': 2301, 'filed': 2302, 'mahn': 2303, 'publicly': 2304, 'dealing': 2305, 'exploration': 2306, '484': 2307, '2743': 2308, 'wmk': 2309, 'single': 2310, 'licences': 2311, 'decline': 2312, 'month': 2313, 'seriously': 2314, 'predict': 2315, 'reiterated': 2316, 'editions': 2317, 'payout': 2318, 'bundaberg': 2319, '72': 2320, 'slightly': 2321, '09': 2322, 'court': 2323, '139': 2324, '655': 2325, 'discussed': 2326, 'agreements': 2327, 'mr': 2328, 'guardian': 2329, 'oreffice': 2330, 'fidelcor': 2331, 'mckinnon': 2332, 'brokers': 2333, 'soybean': 2334, 'threat': 2335, 'pointed': 2336, '839': 2337, 'fabric': 2338, 'tonnes': 2339, 'williams': 2340, 'inflation': 2341, 'call': 2342, 'laws': 2343, 'next': 2344, 'matheson': 2345, 'capel': 2346, '255': 2347, 'residual': 2348, 'following': 2349, 'moving': 2350, '224': 2351, 'kleinwort': 2352, 'advantage': 2353, 'successfully': 2354, 'lack': 2355, 'paks': 2356, 'weakened': 2357, 'badly': 2358, '345': 2359, 'delaying': 2360, 'have': 2361, 'imbalance': 2362, 'boards': 2363, 'spurred': 2364, 'textiles': 2365, 'network': 2366, '1982': 2367, 'shopping': 2368, 'parts': 2369, 'ounces': 2370, 'dispose': 2371, '98': 2372, 'offset': 2373, 'active': 2374, 'traditional': 2375, 'germany': 2376, 'retail': 2377, 'contend': 2378, 'steagall': 2379, 'kentucky': 2380, 'strike': 2381, 'speech': 2382, 'deskpro': 2383, 'housing': 2384, 'very': 2385, 'denies': 2386, '763': 2387, 're': 2388, 'harm': 2389, 'assumption': 2390, 'press': 2391, 'included': 2392, '1993': 2393, 'tube': 2394, 'operators': 2395, '977': 2396, 'merge': 2397, 'dollar': 2398, 'dns': 2399, 'mostly': 2400, 'stn': 2401, 'depositors': 2402, 'depressed': 2403, 'bankers': 2404, '280': 2405, 'ag': 2406, 'transport': 2407, 'century': 2408, '31': 2409, 'associated': 2410, 'wrong': 2411, '1988': 2412, 'ingot': 2413, 'looks': 2414, 'japan': 2415, 'auxt': 2416, 'noted': 2417, 'brisbane': 2418, 'attractive': 2419, 'reserves': 2420, 'sci': 2421, 'given': 2422, '034': 2423, 'inc': 2424, 'reflecting': 2425, 'ashai': 2426, 'based': 2427, '55': 2428, 'optimism': 2429, 'country': 2430, 'taiwan': 2431, 'imposed': 2432, 'ending': 2433, 'grace': 2434, 'solve': 2435, 'hemisphere': 2436, 'proximity': 2437, 'able': 2438, 'acquistion': 2439, 'trouble': 2440, '43': 2441, 'values': 2442, 'rotterdam': 2443, 'entry': 2444, 'declaration': 2445, 'adversely': 2446, 'back': 2447, 'via': 2448, 'tell': 2449, 'one': 2450, 'illustrated': 2451, 'considered': 2452, 'moisture': 2453, 'review': 2454, 'northern': 2455, 'wait': 2456, 'insurer': 2457, 'tug': 2458, '68': 2459, 'osaka': 2460, 'rationalisation': 2461, 'produces': 2462, 'formalise': 2463, 'total': 2464, 'refining': 2465, '175': 2466, 'hour': 2467, 'hectares': 2468, 'rhd': 2469, 'feasibility': 2470, 'ether': 2471, 'basic': 2472, '166': 2473, '120': 2474, 'dbd': 2475, 'withdrawal': 2476, 'hope': 2477, 'approved': 2478, 'previously': 2479, '826': 2480, 'unadjusted': 2481, 'been': 2482, '163': 2483, 'cheques': 2484, 'give': 2485, '486': 2486, 'whites': 2487, 'calls': 2488, '865': 2489, 'mellon': 2490, '505': 2491, 'convincing': 2492, '80': 2493, 'citrus': 2494, 'li': 2495, 'defuse': 2496, 'buyers': 2497, 'return': 2498, 'wdg': 2499, 'friendly': 2500, 'rather': 2501, 'current': 2502, 'pace': 2503, 'korea': 2504, 'mercantile': 2505, 'participation': 2506, 'asahi': 2507, 'denied': 2508, 'threshold': 2509, 'audit': 2510, 'fondiaria': 2511, 'late': 2512, 'regulations': 2513, 'preservation': 2514, 'stopped': 2515, '07': 2516, 'injunction': 2517, 'downturn': 2518, 'producers': 2519, 'open': 2520, 'unobtainable': 2521, 'credited': 2522, 'complaint': 2523, 'financial': 2524, '63': 2525, 'concentrate': 2526, 'benchmark': 2527, 'warning': 2528, 'dow': 2529, 'interesting': 2530, '0p': 2531, 'assurance': 2532, '40': 2533, 'burdekin': 2534, 'broker': 2535, '226': 2536, 'rinehart': 2537, 'ringgit': 2538, 'public': 2539, 'aires': 2540, 'long': 2541, 'continue': 2542, 'w': 2543, 'vice': 2544, 'brands': 2545, 'mid': 2546, 'realized': 2547, ':': 2548, '204': 2549, 'bag': 2550, 'those': 2551, 'go': 2552, 'payment': 2553, 'decade': 2554, 'adjust': 2555, 'ill': 2556, 'subsidiaries': 2557, 'fe': 2558, 'grade': 2559, 'altogether': 2560, 'underwriting': 2561, 'origins': 2562, 'manoeuvres': 2563, 'of': 2564, 'unnamed': 2565, 'damage': 2566, 'any': 2567, 'mining': 2568, 'nursing': 2569, 'murray': 2570, 'deputy': 2571, 'date': 2572, 'fledgling': 2573, 'laydays': 2574, 'buyout': 2575, 'vancouver': 2576, 'agrimont': 2577, 'sifi': 2578, 'seek': 2579, '402': 2580, 'corrientes': 2581, 'same': 2582, '21st': 2583, 'rio': 2584, 'an': 2585, 'appoint': 2586, 'honoring': 2587, 'workforce': 2588, '184': 2589, 'suits': 2590, 'institute': 2591, 'portable': 2592, 'morgan': 2593, 'inventories': 2594, 'seemed': 2595, 'appreciating': 2596, 'merged': 2597, 'grew': 2598, '773': 2599, 'undeveloped': 2600, 'favoured': 2601, 'resume': 2602, 'previous': 2603, 'try': 2604, '130': 2605, 'proposed': 2606, 'repos': 2607, 'issuing': 2608, 'approve': 2609, 'material': 2610, 'requirements': 2611, 'climate': 2612, 'exporters': 2613, 'enter': 2614, 'revenue': 2615, 'adjusted': 2616, 'memorandum': 2617, 'leigh': 2618, 'meetings': 2619, 'restore': 2620, 'fertlizer': 2621, 'clearing': 2622, 'risen': 2623, 'annum': 2624, 'swedish': 2625, 'technology': 2626, 'falls': 2627, 'emergence': 2628, 'arrival': 2629, 'future': 2630, 'flat': 2631, '82': 2632, '39': 2633, 'bring': 2634, 'think': 2635, 'ordinaries': 2636, 'print': 2637, 'liberal': 2638, '673': 2639, 'uses': 2640, '8': 2641, 'tobacco': 2642, 'ecu': 2643, 'salem': 2644, 'august': 2645, 'spree': 2646, 'guilders': 2647, '198': 2648, 'structural': 2649, 'heated': 2650, 'they': 2651, 'loss': 2652, 'constraints': 2653, 'bell': 2654, 'rios': 2655, 'medium': 2656, 'flows': 2657, 'blown': 2658, 'confidence': 2659, '1985': 2660, '864': 2661, 'account': 2662, 'association': 2663, 'angeles': 2664, 'roughly': 2665, 'dell': 2666, 'paris': 2667, 'initially': 2668, 'freer': 2669, 'direct': 2670, 'exaggerated': 2671, 'feet': 2672, 'arabia': 2673, 'fleet': 2674, 'other': 2675, 'pushing': 2676, 'calendar': 2677, 'chip': 2678, '342': 2679, '450': 2680, 'crop': 2681, 'hike': 2682, 'weakening': 2683, 'prices': 2684, 'plants': 2685, 'while': 2686, 'information': 2687, 'riots': 2688, 'walgreen': 2689, 'diluted': 2690, 'telecomputing': 2691, 'expand': 2692, 'ltd': 2693, 'manufacturing': 2694, 'may': 2695, 'fails': 2696, 'division': 2697, 'core': 2698, 'les': 2699, 'broadcasting': 2700, 'celanese': 2701, 'dlr': 2702, 'wheats': 2703, 'succed': 2704, 'marks': 2705, '871': 2706, 'matsushita': 2707, '02': 2708, 'registering': 2709, 'mtc': 2710, 'survey': 2711, 'effectively': 2712, 'period': 2713, 'medical': 2714, 'banca': 2715, 'discounted': 2716, 'seasonal': 2717, 'per': 2718, 'standard': 2719, '180': 2720, 'telecommunications': 2721, 'managements': 2722, 'someone': 2723, 'theoretically': 2724, 'balance': 2725, 'friction': 2726, 'merchanting': 2727, 'florence': 2728, 'contacted': 2729, 'hanover': 2730, 'many': 2731, 'similar': 2732, 'sydney': 2733, 'accrual': 2734, 'table': 2735, 'large': 2736, '273': 2737, 'lorries': 2738, 'accord': 2739, 'nil': 2740, 'inquiries': 2741, 'attempts': 2742, 'formality': 2743, 'volatile': 2744, '219': 2745, '242': 2746, 'paid': 2747, 'expressing': 2748, 'bringing': 2749, 'hurt': 2750, 'sized': 2751, 'briefcase': 2752, 'benefits': 2753, 'say': 2754, 'faster': 2755, 'ridden': 2756, 'pct': 2757, 'blue': 2758, 'plastics': 2759, 'unnecessary': 2760, 'sao': 2761, 'vacancies': 2762, 'jardine': 2763, 'eduardo': 2764, 'restaurant': 2765, 'meanwhile': 2766, 'him': 2767, 'ship': 2768, 'principles': 2769, 'services': 2770, 'carefully': 2771, 'italian': 2772, '303': 2773, 'rot': 2774, 'industrial': 2775, 'buying': 2776, 'determine': 2777, 'nominee': 2778, 'alava': 2779, 'conrac': 2780, 'commented': 2781, 'opened': 2782, 'because': 2783, 'chemical': 2784, '362': 2785, 'german': 2786, 'peanuts': 2787, '842': 2788, '122': 2789, 'laboratories': 2790, 'across': 2791, 'union': 2792, 'ptrk': 2793, 'dutch': 2794, 'moment': 2795, 'translation': 2796, 'auxton': 2797, '912': 2798, 'ban': 2799, 'his': 2800, 've': 2801, 'ingots': 2802, 'house': 2803, 'richard': 2804, 'strikes': 2805, 'pledges': 2806, 'river': 2807, 'such': 2808, 'regions': 2809, 'outlined': 2810, 'elxa': 2811, 'miti': 2812, 'saudi': 2813, 'chicago': 2814, 'accounting': 2815, 'oil': 2816, 'question': 2817, 'norway': 2818, 'amatil': 2819, 'recovered': 2820, '685': 2821, 'fair': 2822, 'describing': 2823, 'there': 2824, 'dsm': 2825, 'sunflowerseed': 2826, 'koh': 2827, 'commercialize': 2828, 'done': 2829, 'deficit': 2830, 'french': 2831, '1983': 2832, 'gulf': 2833, 'satoshi': 2834, 'ethyl': 2835, '975': 2836, 'reactivate': 2837, 'soliciation': 2838, 'high': 2839, 'notification': 2840, 'decisions': 2841, 'recieve': 2842, 'nearly': 2843, 'former': 2844, '537': 2845, 'way': 2846, 'top': 2847, 'redundancies': 2848, 'processed': 2849, 'med': 2850, '1900': 2851, '635': 2852, 'euromarket': 2853, 'tuesday': 2854, 'nainggolan': 2855, 'life': 2856, 'textile': 2857, 'canberra': 2858, 'rubber': 2859, 'naphtha': 2860, 'prevented': 2861, 'yesterday': 2862, 'octane': 2863, 'worth': 2864, 'surpluses': 2865, '38': 2866, 'aquire': 2867, 'lands': 2868, '...': 2869, 'paying': 2870, 'beyond': 2871, 'reaction': 2872, 'upper': 2873, 'bristol': 2874, 'ghana': 2875, 'propsective': 2876, 'johnson': 2877, 'definitive': 2878, 'credit': 2879, 'cts': 2880, 'apparently': 2881, 'who': 2882, 'elders': 2883, 'this': 2884, 'monetary': 2885, 'federal': 2886, 'include': 2887, 'whether': 2888, '233': 2889, 'type': 2890, 'sec': 2891, 'good': 2892, 'hikes': 2893, 'victoria': 2894, 'is': 2895, 'authorisations': 2896, 'aggressive': 2897, 'palms': 2898, 'netherlands': 2899, 'louisville': 2900, 'experimental': 2901, 'revise': 2902, '70': 2903, 'accelerating': 2904, 'ready': 2905, 'barring': 2906, 'nsw': 2907, 'congressional': 2908, 'cent': 2909, 'heavy': 2910, 'iii': 2911, 'notifying': 2912, 'rainfall': 2913, 'three': 2914, 'chaco': 2915, '86': 2916, 'nendick': 2917, 'competitors': 2918, 'program': 2919, 'physicals': 2920, 'station': 2921, 'sometime': 2922, '238': 2923, 'acted': 2924, 'causing': 2925, 'robert': 2926, 'exports': 2927, 'investor': 2928, '00': 2929, 'felt': 2930, 'increasing': 2931, 'elections': 2932, 'montagne': 2933, 'largest': 2934, 'regulated': 2935, 'enhancer': 2936, 'robusta': 2937, 'sunflower': 2938, 'benson': 2939, 'totalling': 2940, 'associates': 2941, 'favor': 2942, 'space': 2943, '23': 2944, 'edmonton': 2945, 'weight': 2946, 'council': 2947, 'boosting': 2948, 'redirect': 2949, 'paulo': 2950, 'along': 2951, 'mail': 2952, 'includes': 2953, 'volume': 2954, 'coconut': 2955, 'too': 2956, 'income': 2957, '143': 2958, 'soon': 2959, '725': 2960, 'story': 2961, 'normal': 2962, 'digesting': 2963, '706': 2964, 'tin': 2965, 'liberalise': 2966, 'gave': 2967, 'spokesman': 2968, 'floating': 2969, 'june': 2970, 'valley': 2971, '332': 2972, '634': 2973, 'railway': 2974, 'petition': 2975, 'ability': 2976, '970': 2977, 'agency': 2978, 'bt': 2979, 'red': 2980, 'effort': 2981, '66': 2982, 'persuade': 2983, '2200': 2984, 'myfra': 2985, 'realty': 2986, '--': 2987, '344': 2988, 'intervened': 2989, 'fertiliser': 2990, '022': 2991, '57': 2992, 'wants': 2993, 'size': 2994, 'notes': 2995, 'later': 2996, 'know': 2997, 'allows': 2998, 'major': 2999, 'gros': 3000, 'offers': 3001, 'women': 3002, 'revised': 3003, 'massive': 3004, 'described': 3005, 'reflect': 3006, '..': 3007, 'joint': 3008, '1991': 3009, 'sudden': 3010, 'kuwaiti': 3011, 'on': 3012, '868': 3013, 'patient': 3014, '69': 3015, 'seeks': 3016, 'sm': 3017, 'warburg': 3018, 'doubled': 3019, 'giant': 3020, 'physical': 3021, 'shareholder': 3022, 'carryforward': 3023, 'since': 3024, 'meant': 3025, 'prompted': 3026, 'sorts': 3027, 'estimated': 3028, 'means': 3029, '387': 3030, 'march': 3031, 'half': 3032, 'unions': 3033, '512': 3034, 'entitling': 3035, 'department': 3036, 'defensive': 3037, 'abolish': 3038, '7p': 3039, 'qtrly': 3040, 'inzi': 3041, 'quotes': 3042, 'wasn': 3043, 'rev': 3044, 'weeks': 3045, 'suppliers': 3046, 'recommendations': 3047, 'practice': 3048, 'bashaw': 3049, 'follow': 3050, 'brasilia': 3051, 'reader': 3052, 'name': 3053, 'welcome': 3054, 'marlin': 3055, 'mounting': 3056, 'enforcement': 3057, 'avoid': 3058, 'minority': 3059, 'balladur': 3060, '381': 3061, 'received': 3062, 'vw': 3063, 'hit': 3064, 'venture': 3065, 'constituents': 3066, 'shipping': 3067, 'taiwanese': 3068, 'enquiries': 3069, 'proper': 3070, 'sogo': 3071, 'prevent': 3072, 'become': 3073, 'drives': 3074, 'plannned': 3075, 'violating': 3076, 'cuts': 3077, 'outlook': 3078, 'having': 3079, 'took': 3080, 'private': 3081, 'plus': 3082, 'myers': 3083, 'spa': 3084, 'taxes': 3085, 'nv': 3086, 'governmental': 3087, 'consultation': 3088, 'setting': 3089, 'virtually': 3090, 'willingness': 3091, 'associate': 3092, 'zinc': 3093, 'america': 3094, 'rebate': 3095, 'institutional': 3096, 'benefitted': 3097, 'avondale': 3098, '47': 3099, 'convinced': 3100, '600': 3101, 'vastly': 3102, 'climbed': 3103, 'results': 3104, 'decision': 3105, 'throughout': 3106, 'subsidiary': 3107, 'deliberations': 3108, 'continuing': 3109, 'hopeful': 3110, 'divert': 3111, 'members': 3112, 'help': 3113, 'newsletter': 3114, 'takeover': 3115, 'coal': 3116, 'final': 3117, 'remain': 3118, 'preparation': 3119, 'main': 3120, 'two': 3121, 'consuming': 3122, 'bill': 3123, 'own': 3124, 'interpreted': 3125, 'lives': 3126, 'productive': 3127, 'payroll': 3128, 'ketchup': 3129, 'add': 3130, 'employer': 3131, 'ever': 3132, 'k': 3133, 'hostile': 3134, 'past': 3135, 'restrictions': 3136, 'damp': 3137, 'market': 3138, 'sought': 3139, 'm': 3140, 'despite': 3141, 'heavily': 3142, 'below': 3143, '490': 3144, 'analyst': 3145, 'plenty': 3146, 'feedgrain': 3147, 'output': 3148, 'amstutz': 3149, 'cain': 3150, 'allowance': 3151, 'negative': 3152, 'starting': 3153, 'opec': 3154, '171': 3155, 'political': 3156, 'expect': 3157, 'expires': 3158, 'dispute': 3159, 'excludes': 3160, 'down': 3161, 'hrw': 3162, 'work': 3163, 'kembla': 3164, 'insures': 3165, 'raytheon': 3166, 'permit': 3167, '5p': 3168, 'banking': 3169, 'default': 3170, 'yet': 3171, 'wells': 3172, 'begining': 3173, 'temporary': 3174, 'gains': 3175, 'mechanisms': 3176, 'jointly': 3177, 'detective': 3178, 'privately': 3179, 'downwards': 3180, 'unsuccesful': 3181, 'speculative': 3182, 'warner': 3183, 'officials': 3184, 'deliveries': 3185, 'severe': 3186, '?': 3187, 'loans': 3188, 'analysts': 3189, 'nakasone': 3190, 'plunge': 3191, 'resolve': 3192, 'create': 3193, 'renato': 3194, 'lyng': 3195, 'rain': 3196, 'recapitalization': 3197, 'stoltenberg': 3198, 'dig': 3199, 'acquisitions': 3200, 'retraction': 3201, 'discussing': 3202, 'properties': 3203, 'cooperation': 3204, 'cocoa': 3205, 'declares': 3206, 'problem': 3207, 'indicating': 3208, 'partners': 3209, 'outside': 3210, 'practices': 3211, 'cannon': 3212, 'abroad': 3213, 'routes': 3214, 'dependence': 3215, 'cax': 3216, 'majority': 3217, 'desposits': 3218, '849': 3219, '141': 3220, 'positive': 3221, 'replied': 3222, 'newspapers': 3223, 'contracting': 3224, '350': 3225, 'shipments': 3226, 'harvesting': 3227, 'hands': 3228, 'edict': 3229, 'replaces': 3230, 'lloyds': 3231, 'procedural': 3232, 'generate': 3233, 'securities': 3234, 'avowed': 3235, 'underway': 3236, 'suspicion': 3237, 'executives': 3238, 'adelaide': 3239, 'han': 3240, 'prolonged': 3241, 'wmc': 3242, 'san': 3243, 'winter': 3244, '588': 3245, 'transactions': 3246, 'portrayed': 3247, 'seriousness': 3248, 'decribes': 3249, 'paramus': 3250, 'viviez': 3251, 'he': 3252, 'either': 3253, 'specified': 3254, 'leach': 3255, 'basis': 3256, 'baker': 3257, 'tonnage': 3258, 'brewer': 3259, 'super': 3260, 'closed': 3261, 'queen': 3262, 'parana': 3263, 'audio': 3264, 'ns': 3265, 'view': 3266, 'provided': 3267, 'gdp': 3268, 'resumption': 3269, 'bd': 3270, 'armen': 3271, 'gaurd': 3272, 'african': 3273, 'fees': 3274, 'contract': 3275, 'acquire': 3276, 'stay': 3277, 'outstanding': 3278, 'timber': 3279, 'electro': 3280, 'arbitration': 3281, 'downward': 3282, 'gamble': 3283, 'victors': 3284, 'disregard': 3285, 'lowered': 3286, 'valid': 3287, 'cordoba': 3288, 'shipment': 3289, 'gives': 3290, 'merit': 3291, 'bjoern': 3292, 'retained': 3293, 'eventually': 3294, 'lending': 3295, 'simon': 3296, 'centre': 3297, 'before': 3298, 'united': 3299, 'apart': 3300, 'anheuser': 3301, 'sees': 3302, 'internal': 3303, 'declines': 3304, 'link': 3305, 'forces': 3306, 'fully': 3307, '498': 3308, 'edward': 3309, 'provision': 3310, 'spell': 3311, 'gaf': 3312, 'coffee': 3313, 'goods': 3314, 'monday': 3315, 'growing': 3316, 'drop': 3317, 'operation': 3318, 'stch': 3319, 'did': 3320, 'shearson': 3321, 'bullish': 3322, 'execute': 3323, 'areas': 3324, '153': 3325, 'trades': 3326, 'interested': 3327, 'garo': 3328, '240': 3329, 'timidity': 3330, 'redress': 3331, 'sejerstad': 3332, 'economists': 3333, 'wholly': 3334, 'refute': 3335, '01': 3336, 'pl': 3337, 'housecleaning': 3338, 'crumbling': 3339, 'lipstick': 3340, 'transportation': 3341, 'beginning': 3342, 'lire': 3343, 'followed': 3344, 'buildup': 3345, '1996': 3346, 'edge': 3347, 'them': 3348, 'bucking': 3349, 'certain': 3350, 'buy': 3351, 'witter': 3352, 'november': 3353, 'never': 3354, '62': 3355, 'personnel': 3356, 'repurchase': 3357, 'delay': 3358, 'happy': 3359, 'managers': 3360, '7': 3361, 'employment': 3362, 'disadvantage': 3363, 'and': 3364, 'backed': 3365, 'port': 3366, 'shintaro': 3367, 'conflict': 3368, 'confirmed': 3369, 'nation': 3370, 'companies': 3371, 'restated': 3372, 'value': 3373, 'winston': 3374, '852': 3375, 'counter': 3376, 'louvre': 3377, 'necessary': 3378, 'advanced': 3379, 'statement': 3380, '633': 3381, 'sunday': 3382, 'reached': 3383, 'big': 3384, 'envases': 3385, 'determining': 3386, 'government': 3387, 'ynk': 3388, 'measure': 3389, 'decrease': 3390, 'nine': 3391, 'amended': 3392, 'shared': 3393, 'recent': 3394, 'soviet': 3395, 'remaining': 3396, 'arrange': 3397, 'went': 3398, 'opening': 3399, 'aims': 3400, 'fee': 3401, 'iniziativa': 3402, 'michel': 3403, 'created': 3404, 'cif': 3405, 'protect': 3406, 'why': 3407, 'rupiah': 3408, 'fashions': 3409, 'where': 3410, 'things': 3411, 'planted': 3412, '271': 3413, 'petrodollar': 3414, 'correction': 3415, 'banks': 3416, 'regret': 3417, 'underestimated': 3418, 'overnight': 3419, 'permanent': 3420, 'pll': 3421, 'substantial': 3422, 'tomorrow': 3423, '625': 3424, 'sowing': 3425, 'middle': 3426, 'methyl': 3427, 'efforts': 3428, 'stricter': 3429, 'find': 3430, 'replace': 3431, '693': 3432, 'northwest': 3433, 'sales': 3434, 'request': 3435, '149': 3436, 'pemberton': 3437, 'sumi': 3438, 'co': 3439, 'john': 3440, 'grant': 3441, 'figure': 3442, 'moni': 3443, 'source': 3444, '653': 3445, 'restraining': 3446, 'its': 3447, 'indication': 3448, 'comprehensive': 3449, 'mead': 3450, 'comprising': 3451, 'nippon': 3452, 'fear': 3453, 'slowly': 3454, 'limits': 3455, 'arriving': 3456, 'form': 3457, 'sentence': 3458, 'brewery': 3459, 'pursuing': 3460, 'newcastle': 3461, 'brian': 3462, 'lengthy': 3463, 'barred': 3464, 'sir': 3465, 'interest': 3466, 'concern': 3467, 'aquino': 3468, 'excess': 3469, 'ownership': 3470, 'external': 3471, 'amertek': 3472, 'automobile': 3473, '952': 3474, 'cents': 3475, 'totaled': 3476, 'importance': 3477, 'pond': 3478, 'city': 3479, 'protein': 3480, 'expected': 3481, '419': 3482, 'agro': 3483, 'canadians': 3484, 'relied': 3485, 'economy': 3486, 'amendments': 3487, 'leveraged': 3488, 'qtly': 3489, 'upturn': 3490, 'mainly': 3491, 'preference': 3492, 'ramadan': 3493, 'holmes': 3494, '9': 3495, 'stable': 3496, 'soya': 3497, 'covered': 3498, 'sixth': 3499, 'evident': 3500, 'divided': 3501, 'successive': 3502, 'distributor': 3503, 'strengthen': 3504, 'also': 3505, 'usda': 3506, 'bids': 3507, 'eileen': 3508, 'commercial': 3509, 'sumatran': 3510, 'informal': 3511, 'retaliation': 3512, 'al': 3513, 'diplomatic': 3514, 'trust': 3515, 'petrochemicals': 3516, '59': 3517, 'jewellery': 3518, 'still': 3519, 'more': 3520, 'bottoming': 3521, 'sumita': 3522, 'showing': 3523, 'utilization': 3524, 'gained': 3525, '``': 3526, '2000': 3527, '937': 3528, 'houston': 3529, 'jpm': 3530, 'sabah': 3531, 'speaking': 3532, 'intervenes': 3533, 'lfdi': 3534, 'stevens': 3535, 'succeeds': 3536, 'products': 3537, 'corporate': 3538, 'showers': 3539, 'operates': 3540, 'concentrated': 3541, 'appear': 3542, 'proposal': 3543, 'share': 3544, '102': 3545, 'disposition': 3546, '129': 3547, 'finland': 3548, '775': 3549, 'encourage': 3550, 'stepped': 3551, 'fla': 3552, '164': 3553, 'membership': 3554, 'edgy': 3555, 'vicious': 3556, 'gerhard': 3557, 'compiled': 3558, 'allen': 3559, 'arbitrager': 3560, 'towards': 3561, 'patent': 3562, 'kerosene': 3563, 'halt': 3564, 'secretary': 3565, '896': 3566, 'advisor': 3567, 'reserve': 3568, 'grower': 3569, 'primary': 3570, 'singapore': 3571, 'elsewhere': 3572, '1550': 3573, 'crush': 3574, '1st': 3575, 'completion': 3576, '4th': 3577, 'yemen': 3578, 'nuclear': 3579, 'khalifa': 3580, 'norwegian': 3581, '002': 3582, 'provisions': 3583, 'harbor': 3584, 'fluctuations': 3585, 'net': 3586, 'barrels': 3587, 'litigation': 3588, 'tendering': 3589, 'efficiency': 3590, 'due': 3591, 'quickly': 3592, 'holding': 3593, 'excluding': 3594, 'available': 3595, 'intervene': 3596, '87': 3597, 'issue': 3598, 'reductions': 3599, 'joins': 3600, 'stream': 3601, 'again': 3602, 'tonne': 3603, 'cheaper': 3604, 'ldp': 3605, 'should': 3606, '278': 3607, 'kill': 3608, 'conference': 3609, 'cmb': 3610, ')': 3611, 'friday': 3612, 'cbio': 3613, 'shortage': 3614, 'especially': 3615, 'difficult': 3616, 'working': 3617, 'nosedive': 3618, 'translated': 3619, 'donald': 3620, 'intervention': 3621, 'senior': 3622, 'warranted': 3623, 'burnell': 3624, 'adding': 3625, 'bti': 3626, '112': 3627, 'pay': 3628, 'ciif': 3629, 'supplies': 3630, 'peaks': 3631, 'breach': 3632, '866': 3633, 'dissemination': 3634, 'authorized': 3635, 'celltronics': 3636, 'understanding': 3637, 'nashville': 3638, 'redbook': 3639, 'their': 3640, 'year': 3641, 'volkswagen': 3642, 'worked': 3643, 'works': 3644, 'annual': 3645, 'competitive': 3646, 'support': 3647, 'bureau': 3648, 'do': 3649, 'brief': 3650, 'attitude': 3651, 'lohn': 3652, '162': 3653, 'csn': 3654, 'plan': 3655, 'ministers': 3656, 'separates': 3657, 'planning': 3658, 'glass': 3659, 'stimulating': 3660, 'favored': 3661, 'played': 3662, 'immediate': 3663, 'cable': 3664, 'lift': 3665, 'north': 3666, 'ask': 3667, 'fnv': 3668, 'foreign': 3669, 'sector': 3670, 'acknowledged': 3671, 'chase': 3672, 'affected': 3673, 'process': 3674, 'announced': 3675, 'autumn': 3676, 'april': 3677, 'enabled': 3678, 'day': 3679, 'reflected': 3680, 'fundamental': 3681, '480': 3682, 'negotiators': 3683, 'faced': 3684, 'ray': 3685, 'issues': 3686, '156': 3687, 'close': 3688, 'heating': 3689, 'contrast': 3690, 'fargo': 3691, 'clayton': 3692, 'colombo': 3693, 'supplementary': 3694, 'rebound': 3695, '876': 3696, 'maintenance': 3697, 'drying': 3698, '34': 3699, 'sell': 3700, 'wisdom': 3701, 'bundey': 3702, 'un': 3703, 'flt': 3704, '08': 3705, 'capital': 3706, 'offsetting': 3707, 'merger': 3708, 'duties': 3709, 'doesn': 3710, 'greater': 3711, 'allocation': 3712, 'subsidy': 3713, 'austwhim': 3714, '10': 3715, 'origin': 3716, 'succeed': 3717, 'gec': 3718, 'sterivet': 3719, 'visit': 3720, 'shr': 3721, 'stressed': 3722, 'profitable': 3723, 'jobless': 3724, 'taken': 3725, 'we': 3726, 'for': 3727, '410': 3728, 'insuring': 3729, 'field': 3730, 'allow': 3731, 'asked': 3732, 'busch': 3733, 'premiums': 3734, 'adversarial': 3735, 'offered': 3736, 'sound': 3737, 'voting': 3738, 'edelman': 3739, 'fertilizer': 3740, 'enlarged': 3741, 'up': 3742, 'contractionary': 3743, 'commissioner': 3744, '75': 3745, 'bought': 3746, 'brown': 3747, 'these': 3748, 'mackay': 3749, 'video': 3750, 'establish': 3751, 'agreed': 3752, 'pulled': 3753, 'gghf': 3754, 'purity': 3755, 'sets': 3756, 'firms': 3757, 'special': 3758, 'key': 3759, 'struggling': 3760, 'montedison': 3761, 'smart': 3762, 'minister': 3763, '598': 3764, 'accounts': 3765, 'kilowatt': 3766, 'bonds': 3767, 'eager': 3768, 'corn': 3769, 'supported': 3770, 'rod': 3771, 'until': 3772, 'roof': 3773, 'sent': 3774, 'telecrafter': 3775, 'newly': 3776, 'conditions': 3777, 'turnover': 3778, 'palm': 3779, 'gross': 3780, 'suspended': 3781, 'hbj': 3782, 'comes': 3783, 'ramon': 3784, 'equal': 3785, '495': 3786, 'masbate': 3787, 'executive': 3788, 'decided': 3789, 'governor': 3790, 'andres': 3791, 'queensland': 3792, '540': 3793, '154': 3794, '572': 3795, 'suspension': 3796, 'lenders': 3797, 'argentine': 3798, 'pesos': 3799, 'queues': 3800, '217': 3801, '1986': 3802, 'butyl': 3803, 'mths': 3804, 'lucrative': 3805, 'toiletry': 3806, 'cebu': 3807, 'takes': 3808, 'rise': 3809, 'pesticides': 3810, '11': 3811, 'receipt': 3812, 'bargain': 3813, 'oilseed': 3814, 'flexibility': 3815, 'aquired': 3816, 'surplus': 3817, 'assuming': 3818, 'proxmire': 3819, 'fruehauf': 3820, 'inevitable': 3821, 'between': 3822, 'properly': 3823, 'reporters': 3824, 'conserv': 3825, 'c': 3826, 'electronics': 3827, 'entails': 3828, 'made': 3829, 'electrical': 3830, 'spelled': 3831, 'sacks': 3832, 'negotiating': 3833, 'iran': 3834, 'american': 3835, 'vital': 3836, 'showed': 3837, 'today': 3838, 'overstressed': 3839, 'dufour': 3840, 'july': 3841, '060': 3842, 'laying': 3843, 'ahead': 3844, 'newspaper': 3845, 'ficr': 3846, 'no': 3847, 'gas': 3848, 'rhodes': 3849, 'james': 3850, 'sterling': 3851, 'mountain': 3852, 'december': 3853, 'fallen': 3854, 'embarked': 3855, 'generating': 3856, 'dramatically': 3857, 'kms': 3858, 'four': 3859, 'avialable': 3860, '429': 3861, '1980s': 3862, 'miscellaneous': 3863, 'goldman': 3864, 'chamber': 3865, 'preston': 3866, 'side': 3867, 'daniel': 3868, '569': 3869, 'carried': 3870, 'making': 3871, 'jard': 3872, 'exist': 3873, 'fboh': 3874, 'credits': 3875, '4p': 3876, 'rates': 3877, 'doubtful': 3878, 'prospectus': 3879, 'baht': 3880, 'extending': 3881, 'win': 3882, 'forecast': 3883, 'dividend': 3884, 'unlikely': 3885, 'recommends': 3886, 'variety': 3887, 'start': 3888, 'paints': 3889, 'rubbermaid': 3890, 'william': 3891, 'sanm': 3892, 'personally': 3893, 'italiana': 3894, 'accept': 3895, 'cautioned': 3896, 'tie': 3897, 'undertook': 3898, '121': 3899, '215': 3900, 'circle': 3901, 'sorghum': 3902, 'stores': 3903, 'self': 3904, 'exchanges': 3905, 'waste': 3906, 'regain': 3907, 'weighing': 3908, 'after': 3909, 'animal': 3910, 'monthly': 3911, 'strategies': 3912, '596': 3913, 'using': 3914, 'produced': 3915, 'begin': 3916, 'esk': 3917, 'quota': 3918, 'protest': 3919, 'termination': 3920, 'maintained': 3921, 'lost': 3922, '46': 3923, 'star': 3924, 'dropped': 3925, 'owns': 3926, 'mtbe': 3927, 'angered': 3928, 'experience': 3929, 'third': 3930, 'edition': 3931, 'z': 3932, 'availability': 3933, 'zealand': 3934, 'portion': 3935, 'investigation': 3936, 'interests': 3937, 'arrived': 3938, 'ponderosa': 3939, 'far': 3940, '470': 3941, 'eliminate': 3942, 'push': 3943, 'canion': 3944, 'investigations': 3945, '700': 3946, 'introduced': 3947, 'undisclosed': 3948, 'indirect': 3949, 'significant': 3950, 'member': 3951, 'thus': 3952, 'details': 3953, 'oy': 3954, 'characterized': 3955, 'outlays': 3956, 'diw': 3957, 'brazil': 3958, 'marked': 3959, 'pall': 3960, 'stock': 3961, 'contravention': 3962, 'changed': 3963, 'businesses': 3964, 'forrest': 3965, 'settled': 3966, 'placing': 3967, 'farmers': 3968, 'graan': 3969, '985': 3970, 'met': 3971, 'supplier': 3972, 'pipe': 3973, 'cayb': 3974, 'blocks': 3975, '575': 3976, 'circulation': 3977, 'morning': 3978, 'restructuring': 3979, 'mortgage': 3980, 'valued': 3981, 'shares': 3982, 'fruit': 3983, '594': 3984, 'trillions': 3985, 'reuters': 3986, 'money': 3987, 'might': 3988, 'aim': 3989, 'hrs': 3990, 'attract': 3991, 'rollover': 3992, 'discuss': 3993, '544': 3994, 'n': 3995, 'computer': 3996, 'acmb': 3997, 'about': 3998, '073': 3999, 'bodes': 4000, 'inflow': 4001, 'sustained': 4002, 'deposit': 4003, 'movements': 4004, '26': 4005, 'delivered': 4006, 'underlying': 4007, 'scale': 4008, ',': 4009, 'quarter': 4010, '185': 4011, 'warm': 4012, 'kenneth': 4013, '25p': 4014, 'canadian': 4015, 'controversy': 4016, 'eastern': 4017, 'g': 4018, 'facts': 4019, 'package': 4020, 'creation': 4021, 'extra': 4022, 'acting': 4023, 'remained': 4024, 'operating': 4025, '28': 4026, 'hectare': 4027, 'selected': 4028, 'prospective': 4029, 'appreciate': 4030, 'gmbh': 4031, 'marketing': 4032, 'creek': 4033, 'tested': 4034, 'exchequer': 4035, '22': 4036, 'footwear': 4037, '231': 4038, 'staple': 4039, 'bor': 4040, 'mpmts': 4041, 'states': 4042, 'cojuangco': 4043, 'payments': 4044, 'preside': 4045, 'outflow': 4046, 'state': 4047, 'gerard': 4048, 'traded': 4049, 'restitution': 4050, 'earning': 4051, '165': 4052, 'merchant': 4053, 'storage': 4054, '468p': 4055, 'linens': 4056, 'referral': 4057, 'else': 4058, '276': 4059, 'hogg': 4060, '58': 4061, 'blame': 4062, 'deregulation': 4063, '833': 4064, 'uk': 4065, 'cases': 4066, 'protected': 4067, '446': 4068, 'launched': 4069, 'town': 4070, 'linked': 4071, 'indirectly': 4072, 'additives': 4073, '201p': 4074, 'spend': 4075, 'cra': 4076, 'padaeng': 4077, '784': 4078, 'corp': 4079, 'p': 4080, 'providence': 4081, 'hopes': 4082, 'debtors': 4083, '137': 4084, 'procedures': 4085, '078': 4086, 'mea': 4087, '13': 4088, 'rbd': 4089, 'responsible': 4090, 'brought': 4091, 'portfolio': 4092, 'handling': 4093, 'significantly': 4094, 'reorganized': 4095, 'serious': 4096, 'attributed': 4097, 'streamlined': 4098, 'grains': 4099, 'misiones': 4100, 'aid': 4101, '371': 4102, 'texas': 4103, 'charges': 4104, 'crucial': 4105, 'cautious': 4106, 'hearings': 4107, 'unbleached': 4108, 'worry': 4109, 'promotion': 4110, 'containing': 4111, 'combined': 4112, 'believes': 4113, 'mistake': 4114, 'latest': 4115, 'ruled': 4116, 'crude': 4117, 'curbs': 4118, 'mentioned': 4119, 'phone': 4120, 'pact': 4121, 'with': 4122, 'accurate': 4123, 'buildings': 4124, 'the': 4125, 'weis': 4126, 'custom': 4127, 'man': 4128, 'dry': 4129, 'limiting': 4130, 'expansion': 4131, 'firming': 4132, 'gradually': 4133, 'mine': 4134, 'growth': 4135, 'less': 4136, 'mean': 4137, 'southmark': 4138, 'afternoon': 4139, 'faces': 4140, 'tax': 4141, 'leaves': 4142, 'international': 4143, '61': 4144, 'fourth': 4145, 'panel': 4146, 'debit': 4147, \"''\": 4148, 'months': 4149, 'reporting': 4150, 'estimate': 4151, '<UNK>': 4152}\n",
      "\n",
      "Index to Word Dictionary:\n",
      "{'0': 'deposits', '1': 'ggfh', '2': '854', '3': 'door', '4': 'consortium', '5': 'knowing', '6': 'higher', '7': 'opportunities', '8': 'insider', '9': 'willing', '10': 'repeating', '11': 'trade', '12': 'discord', '13': 'beverage', '14': '5', '15': 'bills', '16': 'week', '17': 'most', '18': 'productions', '19': 'seen', '20': 'led', '21': 'semiconductor', '22': 'bail', '23': 'probably', '24': 'tolerating', '25': 'choose', '26': 'attend', '27': 'fresh', '28': 'reaching', '29': 'pampa', '30': 'thomas', '31': 'clothing', '32': 'charged', '33': 'promised', '34': 'threatens', '35': 'just', '36': 'mayfair', '37': 'dcn', '38': 'compensation', '39': 'hasrul', '40': 'known', '41': 'bmy', '42': 'concerns', '43': 'operate', '44': 'condition', '45': 'stvtf', '46': '79', '47': 'tennis', '48': 'located', '49': 'charge', '50': 'pull', '51': 'industrywide', '52': 'revenues', '53': 'interstate', '54': 'imports', '55': 'affecting', '56': 'metalurgicos', '57': 'forward', '58': 'takeovers', '59': 'intend', '60': 'weather', '61': 'watered', '62': 'agent', '63': 'presently', '64': 'transporting', '65': 'proposing', '66': 'excellent', '67': 'l', '68': 'stop', '69': 'britain', '70': 'vessels', '71': 'drought', '72': 'extended', '73': 'chances', '74': 'acquired', '75': 'group', '76': 'crowns', '77': 'intended', '78': 'glut', '79': '392', '80': 'virtual', '81': 'describes', '82': 'lawsuits', '83': 'fid', '84': 'by', '85': 'defense', '86': 'amaa', '87': 'director', '88': 'jewelry', '89': 'brito', '90': 'ditch', '91': 'u', '92': 'fall', '93': 'lehman', '94': 'styrene', '95': 'peak', '96': 'helen', '97': 'legislation', '98': 'trillion', '99': '646', '100': 'a', '101': 'boom', '102': 'kuwait', '103': 'francisco', '104': 'coast', '105': 'plant', '106': 'treasury', '107': 'full', '108': 'without', '109': 'divesting', '110': 'safely', '111': 'controlled', '112': 'cheap', '113': 'wood', '114': 'levels', '115': 'caused', '116': 'protectionist', '117': 'saw', '118': 'ensure', '119': 'you', '120': '427', '121': 'terminal', '122': 'prior', '123': 'purchase', '124': 'resolved', '125': 'agrees', '126': 'wouldn', '127': 'accelerated', '128': 'years', '129': 'items', '130': 'celt', '131': 'something', '132': '3rd', '133': 'risky', '134': 'locke', '135': 'holdings', '136': 'cold', '137': 'china', '138': 'petitioning', '139': 'jump', '140': 'malaysia', '141': 'building', '142': 'targeted', '143': 'miyazawa', '144': 'oslo', '145': 'advertisement', '146': 'quick', '147': 'reducing', '148': 'rolling', '149': 'coming', '150': '087', '151': 'overshoot', '152': 'display', '153': 'data', '154': '/', '155': 'intermittently', '156': '60', '157': 'br', '158': 'infant', '159': 'look', '160': 'or', '161': 'territory', '162': 'embraced', '163': 'amicable', '164': '520', '165': 'increase', '166': 'history', '167': '551', '168': 'ruling', '169': '>', '170': 'saying', '171': '393', '172': 'inaccurate', '173': 'pulp', '174': 'tourism', '175': 'several', '176': 'labour', '177': 'commissions', '178': 'wall', '179': 'lifeline', '180': 'allocated', '181': 'broadcast', '182': 'amortization', '183': 'fed', '184': '&', '185': '(', '186': 'disposed', '187': 'entre', '188': 'stauffer', '189': '2315', '190': 'orders', '191': 'tunisia', '192': 'noting', '193': '169', '194': 'product', '195': 'site', '196': 'number', '197': 'present', '198': 'cardiovascular', '199': 'gain', '200': 'stagnated', '201': '117', '202': 'need', '203': 'alleged', '204': 'flow', '205': 'financed', '206': 'junior', '207': '125', '208': 'london', '209': 'rtn', '210': 'officers', '211': '41', '212': 'selling', '213': 'widely', '214': 'finished', '215': 'swell', '216': 'feb', '217': 'greener', '218': 'officer', '219': 'measures', '220': 'gradual', '221': 'pass', '222': 'allotted', '223': 'stimulation', '224': 'parliament', '225': 'border', '226': 'consider', '227': 'communities', '228': 'alberta', '229': 'investors', '230': 'retailing', '231': 'level', '232': 'draw', '233': 'gianfranco', '234': 'pressure', '235': 'proposes', '236': 'usually', '237': 'trump', '238': 'prime', '239': 'incorrect', '240': 'run', '241': 'eight', '242': 'maker', '243': 'francs', '244': 'weakness', '245': 'decreasing', '246': 'british', '247': 'commenting', '248': 'hold', '249': '620', '250': 'had', '251': 'mt', '252': 'instrument', '253': 'soil', '254': '88', '255': 'complete', '256': 'soriano', '257': 'propose', '258': 'european', '259': 'contracts', '260': 'game', '261': 'troy', '262': 'leeway', '263': 'paxar', '264': 'commerce', '265': 'rights', '266': 'erosion', '267': 'industry', '268': 'leading', '269': 'burlington', '270': 'stocks', '271': 'granted', '272': 'zambian', '273': '42', '274': '4thh', '275': 'does', '276': 'mln', '277': 'grades', '278': 'ways', '279': 'situation', '280': 'stage', '281': 'cpq', '282': 'stabilize', '283': 'production', '284': 'lower', '285': 'lead', '286': 'even', '287': '1000', '288': 'problems', '289': 'bidding', '290': 'augurs', '291': 'law', '292': 'died', '293': 'preferred', '294': 'harvest', '295': 'incurring', '296': 'imf', '297': '92', '298': 'disappear', '299': 'citytrust', '300': 'facilities', '301': 'sloshing', '302': 'national', '303': 'loose', '304': 'into', '305': 'answering', '306': 'hefty', '307': 'groups', '308': 'mills', '309': 'unchanged', '310': '925', '311': 'referred', '312': 'another', '313': 'slow', '314': 'eat', '315': 'incoming', '316': 'usual', '317': 'daily', '318': 'line', '319': 'doorstep', '320': 'biggest', '321': 'being', '322': 'thermo', '323': 'fiber', '324': 'div', '325': 'part', '326': 'sanctioned', '327': 'equity', '328': 'datron', '329': 'declined', '330': 'heiwa', '331': 'fsb', '332': 'budget', '333': 'people', '334': 'bright', '335': 'right', '336': 'around', '337': 'gottardo', '338': 'related', '339': 'insists', '340': '275', '341': '90', '342': 'advised', '343': 'against', '344': 'hawaii', '345': 'system', '346': 'length', '347': '017', '348': 'elevator', '349': 'favour', '350': 'end', '351': 'sheen', '352': 'saturday', '353': 'wet', '354': 'coarse', '355': '64', '356': 'fixed', '357': 'publishing', '358': 'movement', '359': 'sale', '360': 'cumulative', '361': 'philippine', '362': '530', '363': 'applying', '364': 'hoped', '365': 'property', '366': 'meeting', '367': 'olii', '368': 'chief', '369': 'off', '370': 'seven', '371': 'reduction', '372': 'kilolitres', '373': 'japanese', '374': 'persuading', '375': 'cxrl', '376': 'buffer', '377': 'electric', '378': 'lifted', '379': 'october', '380': 'troubled', '381': 'exporting', '382': 'thai', '383': 'expanding', '384': 'vegetables', '385': 'downstream', '386': 'england', '387': 'already', '388': 'obstacle', '389': 'diebold', '390': 'programme', '391': '386', '392': '750', '393': 'least', '394': 'serving', '395': 'inefficient', '396': '113', '397': 'farmlands', '398': 'ferruzzi', '399': 'retailer', '400': 'tightness', '401': 'iv', '402': 'speed', '403': 'isum', '404': 'likely', '405': 'island', '406': 'involvement', '407': 'entering', '408': 'proposals', '409': 'higest', '410': 'written', '411': 'actually', '412': 'steady', '413': 'annoucement', '414': 'piecemeal', '415': 'sheikh', '416': 'optimistic', '417': 'specialty', '418': 'complicated', '419': 'johnstown', '420': 'alan', '421': 'cayuga', '422': '477', '423': 'shortly', '424': 'luck', '425': 'rumour', '426': 'offs', '427': 'b', '428': 'cost', '429': 'certainly', '430': 'yield', '431': 'reports', '432': 'be', '433': 'cut', '434': '30', '435': 'harahap', '436': 'mediator', '437': 'motor', '438': 'bob', '439': 'home', '440': 'employers', '441': 'improvement', '442': 'beds', '443': 'carbide', '444': 'letter', '445': 'offer', '446': 'disclosed', '447': 'currently', '448': 'change', '449': 'reliant', '450': 'normally', '451': 'flevoland', '452': 'jacksons', '453': 'r', '454': 'developing', '455': 'monobloc', '456': 'officially', '457': 'kind', '458': 'holds', '459': 'largely', '460': 'minimise', '461': 'sickly', '462': 'debt', '463': 'cash', '464': 'pipeline', '465': 'loses', '466': 'tender', '467': 'assets', '468': 'aggressively', '469': 'economics', '470': 'recently', '471': 'waf', '472': 'investment', '473': 'poor', '474': 'rosario', '475': 'bruce', '476': 'aborted', '477': 'tariffs', '478': 'moves', '479': 'overall', '480': 'seeking', '481': 'raw', '482': 'juice', '483': '144', '484': 'meal', '485': 'quantities', '486': 'enact', '487': 'inches', '488': '782', '489': 'del', '490': 'potential', '491': 'benefited', '492': 'mi', '493': 'revoked', '494': 'cereal', '495': 'firstbanc', '496': 'called', '497': 'nations', '498': 'act', '499': 'recovery', '500': '49', '501': 'short', '502': 'enjoyed', '503': 'entourage', '504': 'rowe', '505': 'barwon', '506': 'instruments', '507': 'plans', '508': 'beach', '509': 'asher', '510': 'wheat', '511': 'my', '512': 'colt', '513': 'only', '514': '109', '515': '147', '516': 'coupons', '517': '78', '518': 'quarters', '519': 'uct', '520': 'earlier', '521': 'methods', '522': 'jovanovich', '523': 'few', '524': 'losses', '525': '890', '526': 'powerhouse', '527': 'signficant', '528': 'effect', '529': 'france', '530': 'team', '531': 'atekf', '532': 'kaunda', '533': '4', '534': 'would', '535': 'trucking', '536': 'gold', '537': 'finally', '538': 'restricted', '539': 'monitoring', '540': 'technical', '541': 'trying', '542': 'ettore', '543': 'regent', '544': 'plc', '545': 'dana', '546': 'agreement', '547': 'cabinet', '548': 'continued', '549': 'initiatives', '550': 'west', '551': 'agricultural', '552': 'doubling', '553': 'expenses', '554': 'matter', '555': 'atlas', '556': 'ali', '557': 'agree', '558': '17', '559': 'depreciation', '560': 'greatest', '561': 'except', '562': 'belgium', '563': '508', '564': 'branch', '565': 'juices', '566': 'manila', '567': 'world', '568': 't', '569': 'appreciation', '570': 'telling', '571': 'attempt', '572': 'completed', '573': 'itself', '574': 'suger', '575': '25', '576': 'cxr', '577': 'absorption', '578': 'darlington', '579': 'nza', '580': 'sells', '581': 'customers', '582': 'pretax', '583': 'stem', '584': 'totalled', '585': 'keep', '586': 'formal', '587': 'case', '588': 'jones', '589': 'boosted', '590': 'themselves', '591': 'jan', '592': 'ones', '593': 'rumors', '594': 'whose', '595': 'our', '596': 'commodity', '597': 'aren', '598': 'believe', '599': 'matures', '600': 'she', '601': '758', '602': 'fluctuate', '603': '810', '604': 'i', '605': 'occur', '606': 'fasting', '607': 'excluded', '608': 'important', '609': 'security', '610': 'unavailable', '611': 'expects', '612': 'sept', '613': 'filipino', '614': 'rebates', '615': '828', '616': 'lawrence', '617': 'finance', '618': 'stimulate', '619': 'placed', '620': '558', '621': 'chancellor', '622': 'fell', '623': 'timing', '624': 'spending', '625': 'weekend', '626': 'hard', '627': 'producer', '628': 'ended', '629': 'kl', '630': 'comparable', '631': 'architectural', '632': '358', '633': 'focus', '634': 'represented', '635': 'abe', '636': 'brothers', '637': 'company', '638': 'what', '639': 'advisory', '640': 'italy', '641': 'icch', '642': '838', '643': 'metals', '644': '89', '645': 'underground', '646': 'achievement', '647': 'johnston', '648': 'ucpb', '649': 'conditioned', '650': 'currencies', '651': '83', '652': 'aluminum', '653': 'rtrs', '654': 'series', '655': 'then', '656': '357', '657': 'vermin', '658': 'maintain', '659': 'spotlight', '660': 'sequestered', '661': '56', '662': 'live', '663': 'yankee', '664': 'but', '665': 'polyester', '666': 'lived', '667': 'senate', '668': 'manufacturer', '669': 'absence', '670': 'countries', '671': 'slackens', '672': 'rdld', '673': 'sul', '674': 'suffering', '675': 'fiduciary', '676': 'neighbourhood', '677': 'september', '678': 'neoy', '679': 'mn', '680': 'diligence', '681': 'compares', '682': 'equivalent', '683': 'marketer', '684': 'gasoline', '685': 'turned', '686': '29', '687': 'loading', '688': 'better', '689': '81', '690': 'times', '691': 'sold', '692': 'getting', '693': 'processor', '694': '118', '695': 'attracting', '696': 'expire', '697': 'flurry', '698': 'honored', '699': 'are', '700': 'quality', '701': 'affairs', '702': 'foresaw', '703': 'millimetres', '704': 'makoto', '705': 'tomato', '706': 'show', '707': 'requirments', '708': 'honduras', '709': 'fly', '710': '730', '711': 'well', '712': 'entirely', '713': 'australia', '714': 'motives', '715': 'increases', '716': '946', '717': 'improved', '718': '628', '719': '150', '720': 'relations', '721': 'board', '722': 'accepted', '723': 'rises', '724': 'brace', '725': 'dosher', '726': 'denmark', '727': 'project', '728': 'northeast', '729': 'tree', '730': 'guaranteed', '731': 'swhi', '732': 'falling', '733': 'carrying', '734': 'enforced', '735': 'banker', '736': 'subsidies', '737': '008', '738': 'than', '739': 'five', '740': 'capacity', '741': 'crisis', '742': 'topics', '743': '617', '744': 'exceptional', '745': 'mc', '746': 'stronger', '747': 'sole', '748': 'acquires', '749': 'split', '750': 'guard', '751': 'resources', '752': '379', '753': 'headed', '754': '378', '755': 'forbidden', '756': 'florida', '757': 'extension', '758': 'mainichi', '759': 'addition', '760': 'strengthening', '761': 'summer', '762': 'peso', '763': 'filipinos', '764': 'use', '765': 'rains', '766': 'official', '767': 'reduce', '768': '67', '769': 'mutsuki', '770': 'real', '771': 'generally', '772': 'rapeseed', '773': 'anything', '774': 'awards', '775': 'wiped', '776': 'anderson', '777': 'poised', '778': 'monsanto', '779': 'dumping', '780': '317', '781': 'ferrous', '782': 'now', '783': '559', '784': 'changes', '785': 'associations', '786': 'atlc', '787': 'neptunia', '788': '3489', '789': 'ibcp', '790': 'safe', '791': 'chance', '792': 'sheer', '793': 'pepper', '794': 'booming', '795': 'declared', '796': 'issued', '797': 'alexanders', '798': 'campaign', '799': 'cause', '800': 'supply', '801': 'second', '802': '515', '803': '213', '804': 'regarding', '805': 'datr', '806': 'demonstrate', '807': 'war', '808': 'hotel', '809': '18', '810': 'forced', '811': 'diaz', '812': 'manhattan', '813': 'unusual', '814': 'elements', '815': '99', '816': 'funds', '817': 'workers', '818': 'management', '819': 'controls', '820': 'projection', '821': '400', '822': 'reconsider', '823': 'representative', '824': 'community', '825': 'geodynamics', '826': 'service', '827': 'biotech', '828': 'builders', '829': 'each', '830': 'modest', '831': 'pouring', '832': 'lose', '833': 'recoveries', '834': 'ordinary', '835': 'kuroda', '836': 'award', '837': 'excessive', '838': 'experts', '839': 'appointed', '840': 'local', '841': 'export', '842': 'can', '843': 'chartered', '844': 'undergoing', '845': 'danger', '846': 'attention', '847': 'violated', '848': 'fields', '849': 'coated', '850': 'enterprises', '851': 'kiichi', '852': 'dupont', '853': 'marble', '854': 'enhance', '855': '155', '856': 'when', '857': 'result', '858': 'demands', '859': 'has', '860': 'above', '861': '21', '862': 'harmoko', '863': 'were', '864': 'fiscal', '865': 'role', '866': 'involved', '867': '680', '868': 'published', '869': 'adhere', '870': 'janunary', '871': 'unit', '872': 'thomson', '873': 'cci', '874': 'metal', '875': 'scaled', '876': 'percentage', '877': '206p', '878': 'par', '879': 'shed', '880': 'eridania', '881': '188', '882': 'calm', '883': 'index', '884': 'partnership', '885': '294', '886': 'vote', '887': '642', '888': 'clients', '889': 'gra', '890': 'authorised', '891': 'deterioration', '892': 'pre', '893': 'volatility', '894': 'smithson', '895': 'entg', '896': 'citr', '897': 'divested', '898': 'lammers', '899': 'wide', '900': '579', '901': 'administrative', '902': 'weak', '903': 'alone', '904': 'setbacks', '905': 'discover', '906': 'receiving', '907': 'manager', '908': 'europe', '909': 'managing', '910': 'soft', '911': 'accelerate', '912': 'challenge', '913': 'owned', '914': 'j', '915': 'book', '916': 'focused', '917': 'geared', '918': '785', '919': 'general', '920': 'rotting', '921': 'seoul', '922': 'male', '923': 'engineers', '924': 'designed', '925': 'head', '926': 'derivative', '927': '65', '928': 'bond', '929': 'hong', '930': 'opens', '931': 'ronald', '932': '249', '933': '020', '934': 'slight', '935': 'shrs', '936': 'nickel', '937': '815', '938': 'spain', '939': 'post', '940': 'unless', '941': '16', '942': 'barge', '943': 'repeatedly', '944': 'runs', '945': 'duck', '946': 'farm', '947': 'producing', '948': '114', '949': 'lme', '950': 'hawaiian', '951': '182', '952': 'fld', '953': '924', '954': 'reason', '955': 'media', '956': '45', '957': 'consumer', '958': 'leonardo', '959': '05', '960': 'polled', '961': 'smls', '962': 'pepperell', '963': 'turn', '964': 'move', '965': 'transfer', '966': 'owners', '967': 'pineapples', '968': 'philippines', '969': 'forestall', '970': 'putting', '971': 'deteriorated', '972': 'mines', '973': 'bwtr', '974': 'bud', '975': 'research', '976': '790', '977': 'damages', '978': 'dollars', '979': 'telephone', '980': 'replacing', '981': 'six', '982': 'found', '983': 'stagnating', '984': 'tries', '985': 'loan', '986': 's', '987': 'record', '988': 'announcement', '989': 'formosa', '990': 'saleh', '991': 'debts', '992': 'hackensack', '993': 'growers', '994': 'neste', '995': 'method', '996': 'wtc', '997': 'accompanying', '998': 'robin', '999': '583', '1000': 'insure', '1001': 'county', '1002': 'correct', '1003': 'monopolies', '1004': 'strong', '1005': 'status', '1006': 'icahn', '1007': 'surprise', '1008': 'ixl', '1009': 'approximately', '1010': 'task', '1011': 'various', '1012': 'submit', '1013': 'energy', '1014': 'whim', '1015': '550', '1016': 'activities', '1017': 'predicted', '1018': 'sources', '1019': 'agriculture', '1020': 'provinces', '1021': 'disrupted', '1022': 'decreases', '1023': 'oper', '1024': 'shown', '1025': 'settle', '1026': 'devote', '1027': 'certified', '1028': 'allocates', '1029': 'mexico', '1030': 'attraction', '1031': 'office', '1032': 'firm', '1033': 'jumps', '1034': '474', '1035': 'ohio', '1036': 'helping', '1037': 'easily', '1038': 'earnings', '1039': 'aircraft', '1040': 'relieved', '1041': '485', '1042': '264', '1043': 'coface', '1044': 'warehouse', '1045': 'sait', '1046': 'restart', '1047': '272', '1048': 'copper', '1049': 'delivery', '1050': '194', '1051': 'capitals', '1052': 'which', '1053': 'minimum', '1054': 'picker', '1055': 'follows', '1056': 'benefit', '1057': 'withdraw', '1058': 'quoted', '1059': 'cpa', '1060': 'low', '1061': '35', '1062': 'cities', '1063': 'startup', '1064': 'periods', '1065': 'tightening', '1066': 'came', '1067': 'accompanied', '1068': 'maximum', '1069': '929', '1070': 'power', '1071': 'gdyn', '1072': 'ct', '1073': 'president', '1074': 'gnp', '1075': 'not', '1076': 'quarterly', '1077': 'interim', '1078': '453', '1079': 'infringement', '1080': 'citizen', '1081': 'notificaton', '1082': 'estimates', '1083': 'preparing', '1084': 'edouard', '1085': 'petrol', '1086': 'headquarters', '1087': 'margins', '1088': 'slump', '1089': 'withdrawing', '1090': 'combat', '1091': '081', '1092': 'according', '1093': 'rice', '1094': 'vowg', '1095': 'effectiveness', '1096': '595', '1097': 'creditors', '1098': 'weaker', '1099': '14', '1100': 'almost', '1101': 'kent', '1102': 'sa', '1103': 'saunders', '1104': 'reorganization', '1105': '126', '1106': 'january', '1107': 'reasonable', '1108': 'emirate', '1109': 'subject', '1110': 'containers', '1111': 'scattered', '1112': '105', '1113': 'limit', '1114': 'during', '1115': 'markets', '1116': 'effective', '1117': 'replacement', '1118': 'enormous', '1119': 'ride', '1120': 'infusion', '1121': '874', '1122': 'laid', '1123': '746', '1124': '50', '1125': 'professionals', '1126': 'comments', '1127': 'undervalued', '1128': 'awarded', '1129': 'buoyant', '1130': 'confident', '1131': 'pty', '1132': 'bank', '1133': 'fitzwater', '1134': 'old', '1135': 'pacts', '1136': 'storing', '1137': 'us', '1138': 'represent', '1139': 'claim', '1140': 'entered', '1141': 'ceroni', '1142': 'purchases', '1143': 'fairer', '1144': 'dealers', '1145': 'customer', '1146': 'clarify', '1147': 'reuter', '1148': 'sign', '1149': 'waiting', '1150': 'otto', '1151': 'approval', '1152': 'unnoticed', '1153': '27', '1154': 'preliminary', '1155': 'rationalise', '1156': 'refiner', '1157': 'natural', '1158': 'resulted', '1159': 'new', '1160': 'band', '1161': '412', '1162': 'response', '1163': 'domestically', '1164': 'outgoing', '1165': 'began', '1166': 'pension', '1167': 'financing', '1168': 'compaq', '1169': '957', '1170': '800', '1171': '132', '1172': 'whom', '1173': 'looking', '1174': 'sectors', '1175': 'swing', '1176': 'reliable', '1177': 'strategic', '1178': 'needs', '1179': 'cartel', '1180': 'hk', '1181': 'once', '1182': 'astin', '1183': 'accruing', '1184': 'kg', '1185': 'rapid', '1186': '765', '1187': 'allowed', '1188': 'diversification', '1189': 'sown', '1190': 'cos', '1191': 'subroto', '1192': 'ground', '1193': 'planting', '1194': 'larosiere', '1195': 'questioned', '1196': 'citibank', '1197': 'overdue', '1198': 'stowe', '1199': 'walls', '1200': 'essentially', '1201': 'purpose', '1202': 'expressed', '1203': 'downtrend', '1204': 'wpm', '1205': 'montreal', '1206': 'commission', '1207': 'contempory', '1208': 'proxy', '1209': 'initial', '1210': 'paperboard', '1211': 'widens', '1212': 'arbitragers', '1213': 'lines', '1214': 'shimbun', '1215': 'sugar', '1216': 'wales', '1217': 'study', '1218': 'racket', '1219': 'dlrs', '1220': 'fears', '1221': 'button', '1222': 'goria', '1223': 'performance', '1224': '91', '1225': '286', '1226': 'carpets', '1227': 'considerably', '1228': 'desire', '1229': 'contribute', '1230': 'serves', '1231': 'carolina', '1232': 'extremely', '1233': '183', '1234': 'dated', '1235': '736', '1236': 'jumping', '1237': 'isola', '1238': 'dd', '1239': 'melbourne', '1240': 'futures', '1241': 'at', '1242': 'ashland', '1243': 'machines', '1244': '556', '1245': 'rift', '1246': 'models', '1247': 'rightful', '1248': 'restructured', '1249': 'insurance', '1250': 'get', '1251': 'deal', '1252': '935', '1253': 'e', '1254': 'food', '1255': 'position', '1256': 'confidential', '1257': '2', '1258': '976', '1259': 'from', '1260': '915', '1261': 'how', '1262': 'require', '1263': 'listed', '1264': 'wis', '1265': 'leap', '1266': 'alliance', '1267': 'disruption', '1268': 'progressed', '1269': 'was', '1270': 'won', '1271': 'needed', '1272': 'spokeswoman', '1273': '104', '1274': 'milan', '1275': 'reform', '1276': 'targeting', '1277': '1', '1278': 'like', '1279': 'users', '1280': '616', '1281': 'parent', '1282': 'repoprt', '1283': '24', '1284': 'reagan', '1285': 'continental', '1286': 'packaged', '1287': 'looked', '1288': 'ita', '1289': 'korean', '1290': 'don', '1291': 'rest', '1292': 'distribution', '1293': 'want', '1294': 'place', '1295': 'leaving', '1296': 'stability', '1297': 'drain', '1298': 'activity', '1299': 'closure', '1300': 'ago', '1301': 'repurchases', '1302': 'sense', '1303': '656', '1304': '652', '1305': 'cheaply', '1306': 'wilson', '1307': 'elrc', '1308': 'liberalisation', '1309': 'yasuhiro', '1310': 'regular', '1311': 'approaching', '1312': '157', '1313': 'inadequate', '1314': 'broke', '1315': 'programs', '1316': 'within', '1317': 'parity', '1318': 'spite', '1319': 'trim', '1320': 'blunt', '1321': 'roberts', '1322': '021', '1323': '500', '1324': 'mm', '1325': '123', '1326': 'price', '1327': 'care', '1328': 'version', '1329': 'among', '1330': 'failure', '1331': 'disclosure', '1332': 'revaluation', '1333': 'days', '1334': 'investigate', '1335': 'versus', '1336': 'ratified', '1337': 'craa', '1338': 'violate', '1339': 'terence', '1340': 'collateral', '1341': '97', '1342': 'los', '1343': 'arrive', '1344': 'edt', '1345': 'qtr', '1346': 'legality', '1347': 'malaysian', '1348': 'puts', '1349': 'make', '1350': 'ease', '1351': '684', '1352': '115', '1353': 'electronic', '1354': 'sentiment', '1355': 'ours', '1356': 'kim', '1357': 'white', '1358': 'ecus', '1359': 'giovanni', '1360': '95', '1361': 'region', '1362': 'squeeze', '1363': '494', '1364': 'development', '1365': 'signed', '1366': 'yeutter', '1367': 'rose', '1368': 'metropolitan', '1369': 'seem', '1370': '51', '1371': 'disappearing', '1372': 'meiko', '1373': '910', '1374': 'chairman', '1375': 'ore', '1376': 'raised', '1377': 'dominion', '1378': 'digest', '1379': 'parties', '1380': 'dinar', '1381': 'turning', '1382': 'baton', '1383': 'expenditures', '1384': 'bidders', '1385': '440', '1386': 'profit', '1387': 'rules', '1388': 'meet', '1389': 'depressing', '1390': 'effects', '1391': 'croesus', '1392': '882', '1393': 'sides', '1394': 'treatment', '1395': 'talks', '1396': 'diversified', '1397': '754', '1398': 'balances', '1399': '174', '1400': 'grain', '1401': 'avoiding', '1402': 'highest', '1403': 'comment', '1404': 'makes', '1405': 'reluctant', '1406': 'susbidiaries', '1407': 'ash', '1408': 'through', '1409': 'option', '1410': 'wayne', '1411': 'sends', '1412': 'protective', '1413': '1990', '1414': 'running', '1415': 'maturing', '1416': 'suit', '1417': 'comparisons', '1418': 'joined', '1419': '525', '1420': 'tighter', '1421': 'action', '1422': '000', '1423': 'tile', '1424': 'mij', '1425': 'note', '1426': 'article', '1427': '36', '1428': 'reach', '1429': 'alexander', '1430': 'much', '1431': 'sawn', '1432': 'stand', '1433': '320', '1434': 'lapse', '1435': 'asian', '1436': 'jsbk', '1437': 'tom', '1438': '528', '1439': 'element', '1440': 'federation', '1441': 'waves', '1442': '948', '1443': 'stabilizing', '1444': 'alex', '1445': 'authorities', '1446': 'tokyo', '1447': 'awaiting', '1448': 'trend', '1449': 'asia', '1450': 'south', '1451': 'east', '1452': 'harvested', '1453': 'soybeans', '1454': 'considers', '1455': 'time', '1456': 'explaining', '1457': 'report', '1458': 'recommended', '1459': 'outweighed', '1460': 'base', '1461': 'depends', '1462': 'paper', '1463': 'grl', '1464': 'prompt', '1465': 'best', '1466': 'owed', '1467': 'suspend', '1468': 'average', '1469': 'poison', '1470': 'afterwards', '1471': 'prepared', '1472': 'out', '1473': 'factors', '1474': '050', '1475': 'ferdinand', '1476': 'niche', '1477': 'sapped', '1478': 'representatives', '1479': 'h', '1480': 'direction', '1481': '20', '1482': 'bonus', '1483': 'cbs', '1484': 'huge', '1485': 'cincinnati', '1486': 'injection', '1487': 'semiconductors', '1488': 'tough', '1489': 'could', '1490': 'ports', '1491': 'western', '1492': 'undermine', '1493': 'flag', '1494': 'journalists', '1495': 'universal', '1496': '12', '1497': 'posted', '1498': 'expanded', '1499': 'unrecoverable', '1500': '73', '1501': 'communications', '1502': 'franc', '1503': 'congress', '1504': '953', '1505': 'expense', '1506': 'worried', '1507': 'bowater', '1508': 'tiered', '1509': '48', '1510': 'democratic', '1511': 'giving', '1512': '776', '1513': 'governments', '1514': 'shield', '1515': 'candidate', '1516': 'groundwork', '1517': 'extensive', '1518': 'entire', '1519': 'detailed', '1520': 'employed', '1521': 'businessmen', '1522': 'hand', '1523': 'signs', '1524': 'spring', '1525': 'bancorp', '1526': 'lame', '1527': 'likelihood', '1528': 'anymore', '1529': 'individuals', '1530': 'flight', '1531': 'planned', '1532': 'hsld', '1533': '504', '1534': 'granaries', '1535': 'kong', '1536': 'talking', '1537': 'thirds', '1538': 'blla', '1539': 'vmnb', '1540': 'sums', '1541': 'paian', '1542': '101', '1543': 'york', '1544': 'scheme', '1545': 'ships', '1546': 'introduction', '1547': 'ec', '1548': 'ccl', '1549': '15', '1550': '905', '1551': 'exchange', '1552': '6', '1553': 'expansionary', '1554': 'spread', '1555': 'unsuccessful', '1556': 'taking', '1557': 'including', '1558': 'armacost', '1559': 'committed', '1560': 'cautiously', '1561': 'fund', '1562': 'payable', '1563': 'meaningful', '1564': 'semi', '1565': 'representing', '1566': 'province', '1567': 'biotechnology', '1568': 'd', '1569': 'remarkable', '1570': 'reduced', '1571': 'spokesmen', '1572': 'hele', '1573': 'avg', '1574': 'smaller', '1575': '256', '1576': 'rising', '1577': 'consolidated', '1578': 'query', '1579': 'gecl', '1580': 'if', '1581': 'produce', '1582': 'fuller', '1583': 'night', '1584': 'averaged', '1585': 'eyes', '1586': 'jax', '1587': 'll', '1588': 'supports', '1589': 'swiss', '1590': '067', '1591': 'forcing', '1592': '883', '1593': 'remove', '1594': 'packaging', '1595': 'washington', '1596': 'stick', '1597': 'je', '1598': 'objection', '1599': 'raise', '1600': '.-', '1601': 'must', '1602': 'lanka', '1603': 'unemployment', '1604': 'seasonally', '1605': 'operations', '1606': 'registered', '1607': 'contacts', '1608': 'unstable', '1609': 'miguel', '1610': 'small', '1611': 'iraq', '1612': 'chesebrough', '1613': '103', '1614': 'social', '1615': '742', '1616': 'receive', '1617': 'concerned', '1618': 'savings', '1619': 'manufacturers', '1620': 'however', '1621': 'brings', '1622': 'scandals', '1623': 'redeemable', '1624': 'solid', '1625': 'lean', '1626': 'purchased', '1627': 'barriers', '1628': 'container', '1629': 'telcom', '1630': '787', '1631': 'masland', '1632': 'aware', '1633': 'enough', '1634': 'tertiary', '1635': 'row', '1636': 'served', '1637': 'street', '1638': 'centred', '1639': 'got', '1640': 'southern', '1641': 'careful', '1642': 'all', '1643': '299', '1644': 'approach', '1645': '32', '1646': 'actions', '1647': 'improving', '1648': 'grande', '1649': 'touched', '1650': 'keen', '1651': 'fortunes', '1652': '045', '1653': 'indications', '1654': 'first', '1655': 'resulting', '1656': 'early', '1657': 'instead', '1658': '491p', '1659': 'significance', '1660': 'unable', '1661': 'represents', '1662': 'scaleup', '1663': 'speculation', '1664': 'strategy', '1665': 'expectations', '1666': 'exceed', '1667': 'de', '1668': 'elimination', '1669': 'claims', '1670': 'set', '1671': 'concrete', '1672': 'hayes', '1673': 'factor', '1674': 'communicate', '1675': '1989', '1676': 'starts', '1677': '-', '1678': 'outlines', '1679': 'seventh', '1680': 'estate', '1681': '454', '1682': 'currency', '1683': 'kept', '1684': 'credence', '1685': 'feedstocks', '1686': 'industrialized', '1687': 'notice', '1688': '481p', '1689': 'shrank', '1690': 'listings', '1691': 'directors', '1692': 'mark', '1693': 'impact', '1694': 'returning', '1695': 'unspecified', '1696': 'costs', '1697': 'participating', '1698': 'rescheduling', '1699': 'declare', '1700': 'dividends', '1701': 'extraordinary', '1702': 'communique', '1703': 'affair', '1704': 'cooperative', '1705': 'emergency', '1706': 'canned', '1707': 'steering', '1708': 'put', '1709': 'purees', '1710': 'outflows', '1711': 'together', '1712': '499', '1713': 'christopher', '1714': 'adverse', '1715': 'amsterdam', '1716': 'pills', '1717': 'sun', '1718': 'dairy', '1719': 'cutting', '1720': 'answer', '1721': 'revalue', '1722': '926', '1723': 'assurances', '1724': '432', '1725': 'paul', '1726': 'juggling', '1727': 'limited', '1728': 'beef', '1729': 'tissue', '1730': 'plantings', '1731': '281', '1732': 'harcourt', '1733': 'crews', '1734': 'urged', '1735': 'believed', '1736': 'wmng', '1737': 'equipment', '1738': 'term', '1739': 'indonesian', '1740': 'karl', '1741': 'objections', '1742': 'recording', '1743': 'therefore', '1744': 'zambia', '1745': 'planters', '1746': 'eligible', '1747': 'nominal', '1748': 'sep', '1749': '138', '1750': 'import', '1751': 'feared', '1752': 'confirms', '1753': 'pickens', '1754': 'rumor', '1755': 'bybee', '1756': 'clear', '1757': 'fidata', '1758': 'creating', '1759': 'mrbl', '1760': 'uninsured', '1761': 'chemicals', '1762': 'welsh', '1763': 'recorded', '1764': 'considering', '1765': 'hearing', '1766': 'fayetteville', '1767': 'walk', '1768': 'enables', '1769': 'keidanren', '1770': 'tenn', '1771': 'explanation', '1772': 'erskine', '1773': 'commodities', '1774': 'shareholkders', '1775': 'weighted', '1776': 'david', '1777': 'settlement', '1778': 'meta', '1779': '74', '1780': 'reflects', '1781': 'wish', '1782': '250', '1783': 'datx', '1784': 'latin', '1785': 'rashid', '1786': 'statistics', '1787': 'purchasing', '1788': 'ends', '1789': 'glamorous', '1790': 'compared', '1791': 'unilever', '1792': 'corporation', '1793': 'aug', '1794': 'absorbing', '1795': 'mnra', '1796': 'retractable', '1797': 'possibly', '1798': 'combination', '1799': 'amadeus', '1800': 'impose', '1801': 'unfavourable', '1802': 'australian', '1803': 'aimed', '1804': 'similarly', '1805': 'tolerated', '1806': '19', '1807': '85', '1808': 'mineral', '1809': 'economic', '1810': 'stockholders', '1811': 'diluting', '1812': 'avert', '1813': 'area', '1814': 'possible', '1815': 'lot', '1816': 'exported', '1817': 'dilemma', '1818': 'california', '1819': 'mildly', '1820': 'exporter', '1821': 'unie', '1822': '692', '1823': 'evening', '1824': 'particular', '1825': 'servicing', '1826': 'acquiring', '1827': 'exceeds', '1828': 'ny', '1829': 'poehl', '1830': 'increased', '1831': 'access', '1832': 'tradevest', '1833': '33', '1834': 'fob', '1835': 'season', '1836': 'smith', '1837': 'cpo', '1838': 'order', '1839': 'developments', '1840': 'breakdown', '1841': 'liquidity', '1842': 'perhaps', '1843': 'curb', '1844': 'both', '1845': 'heyman', '1846': 'annually', '1847': 'am', '1848': 'interview', '1849': 'colleagues', '1850': 'personal', '1851': 'reverse', '1852': 'warns', '1853': 'iu', '1854': 'maize', '1855': 'relatively', '1856': 'watch', '1857': 'inventory', '1858': 'computers', '1859': 'near', '1860': 'fast', '1861': 'provide', '1862': 'ministry', '1863': 'bad', '1864': 'emotional', '1865': 'some', '1866': 'sheets', '1867': 'steelmaking', '1868': 'existing', '1869': 'industries', '1870': 'scandal', '1871': 'gordon', '1872': 'marcos', '1873': '739', '1874': 'outcome', '1875': 'santa', '1876': 'offices', '1877': 'depending', '1878': 'profitability', '1879': 'vieille', '1880': '84', '1881': 'independent', '1882': '741', '1883': 'wlbk', '1884': 'bona', '1885': 'stabilise', '1886': 'kilos', '1887': 'sachs', '1888': 'dsmn', '1889': 'nl', '1890': 'delegation', '1891': 'buttrose', '1892': 'used', '1893': 'carryforwards', '1894': 'says', '1895': 'margin', '1896': 'tcjc', '1897': 'that', '1898': 'buenos', '1899': 'economist', '1900': 'reasonably', '1901': 'rank', '1902': 'participate', '1903': 'acquisition', '1904': 'nstc', '1905': 'terminating', '1906': '234', '1907': 'repaid', '1908': 'publish', '1909': 'widened', '1910': 'free', '1911': 'closing', '1912': 'propel', '1913': 'offshore', '1914': 'it', '1915': 'rent', '1916': 'reynolds', '1917': 'fabrics', '1918': 'so', '1919': 'units', '1920': 'economies', '1921': 'unsuccessfully', '1922': 'buys', '1923': 'calculate', '1924': '110', '1925': 'carson', '1926': 'conventional', '1927': 'sauce', '1928': 'favourable', '1929': 'myrtle', '1930': 'applicable', '1931': 'face', '1932': 'barrel', '1933': 'holders', '1934': '3', '1935': 'route', '1936': 'supervisory', '1937': 'delegate', '1938': 'trading', '1939': 'pushed', '1940': 'legal', '1941': 'smc', '1942': 'apr', '1943': 'agenda', '1944': '173', '1945': 'boost', '1946': 'locating', '1947': '1987', '1948': 'indonesia', '1949': '100', '1950': 'democrats', '1951': 'intentions', '1952': '159', '1953': 'circumstances', '1954': 'visits', '1955': 'grow', '1956': 'furniture', '1957': '116', '1958': 'advantages', '1959': 'obvious', '1960': 'presidential', '1961': 'grounds', '1962': 'disappointing', '1963': 'yen', '1964': 'pit', '1965': 'fieldcrest', '1966': 'invest', '1967': 'oct', '1968': 'told', '1969': 'scheduled', '1970': '468', '1971': 'intent', '1972': 'unofficial', '1973': 'lots', '1974': 'profits', '1975': 'little', '1976': 'golden', '1977': 'ivb', '1978': 'homes', '1979': 'domestic', '1980': 'umbiz', '1981': 'samuel', '1982': 'block', '1983': 'picco', '1984': 'systems', '1985': 'cot', '1986': 'cane', '1987': 'employee', '1988': '900', '1989': 'kato', '1990': 'code', '1991': 'microchip', '1992': 'outright', '1993': 'contain', '1994': '476', '1995': 'reasons', '1996': 'completes', '1997': '834', '1998': 'beans', '1999': 'invested', '2000': 'non', '2001': 'your', '2002': 'ratio', '2003': 'play', '2004': 'amount', '2005': 'hamley', '2006': 'inaction', '2007': 'see', '2008': 'locally', '2009': 'formed', '2010': '496', '2011': 'pressures', '2012': 'cover', '2013': 'isuzu', '2014': 'control', '2015': 'woolworth', '2016': 'unrelated', '2017': 'liquefied', '2018': 'equities', '2019': 'hins', '2020': 'projections', '2021': 'bur', '2022': 'incurred', '2023': 'murtha', '2024': 'lb', '2025': 'zeebregts', '2026': 'teams', '2027': 'doubt', '2028': 'abuses', '2029': 'finns', '2030': '54', '2031': 'crops', '2032': 'rate', '2033': 'adds', '2034': 'exile', '2035': 'transaction', '2036': 'context', '2037': 'bundesbank', '2038': 'sumitomo', '2039': 'eskey', '2040': 'materials', '2041': 'everything', '2042': 'upon', '2043': 'february', '2044': 'redland', '2045': '210', '2046': 'beet', '2047': 'lt', '2048': 'stake', '2049': 'to', '2050': 'earned', '2051': 'ethylene', '2052': 'credible', '2053': 'sharply', '2054': '764', '2055': 'michael', '2056': 'stubborn', '2057': 'weekly', '2058': 'petrochemical', '2059': 'shareholders', '2060': 'under', '2061': '71', '2062': 'supplying', '2063': 'here', '2064': 'ailing', '2065': '206', '2066': 'gormley', '2067': 'calling', '2068': '52', '2069': 'requirement', '2070': 'brewing', '2071': 'indicative', '2072': ';', '2073': 'actively', '2074': 'eased', '2075': 'title', '2076': 'immediately', '2077': 'consultants', '2078': 'meyer', '2079': 'backlog', '2080': 'expiry', '2081': '259', '2082': 'bulk', '2083': 'sub', '2084': 'injured', '2085': 'waltham', '2086': 'holt', '2087': '316', '2088': 'distributions', '2089': 'imposition', '2090': 'continues', '2091': 'natg', '2092': 'distributed', '2093': '76', '2094': 'chinese', '2095': 'projected', '2096': 'leave', '2097': '270', '2098': \"'\", '2099': 'crash', '2100': 'point', '2101': 'range', '2102': 'makers', '2103': 'argimont', '2104': 'perfume', '2105': '690', '2106': 'bold', '2107': '.', '2108': 'trees', '2109': 'reported', '2110': 'healthy', '2111': 'explained', '2112': 'fulfilled', '2113': 'gmt', '2114': 'madeira', '2115': 'socialist', '2116': 'canada', '2117': 'traders', '2118': 'shape', '2119': 'intense', '2120': 'disclose', '2121': 'lucky', '2122': '5571', '2123': 'measured', '2124': 'contracted', '2125': '53', '2126': 'discontinued', '2127': 'partly', '2128': 'f', '2129': 'away', '2130': 'further', '2131': 'shift', '2132': 'assistance', '2133': 'quotas', '2134': 'required', '2135': 'scapegoat', '2136': 'judgment', '2137': 'true', '2138': '1980', '2139': 'standing', '2140': 'refined', '2141': 'sunflowers', '2142': 'yale', '2143': 'portugal', '2144': 'prospects', '2145': 'overseas', '2146': 'scratch', '2147': 'in', '2148': 'steps', '2149': 'introduce', '2150': 'mistakes', '2151': 'yielding', '2152': 'sharp', '2153': 'cathode', '2154': 'lyon', '2155': 'redundancy', '2156': 'correspondents', '2157': 'added', '2158': 'bid', '2159': '612', '2160': 'amounted', '2161': 'mothball', '2162': 'execution', '2163': 'park', '2164': 'assumes', '2165': 'vs', '2166': 'dinars', '2167': 'welcomed', '2168': 'bpd', '2169': 'substantially', '2170': 'fraud', '2171': 'rumours', '2172': 'yes', '2173': 'wearhouse', '2174': 'cargo', '2175': 'as', '2176': 'terms', '2177': '2nd', '2178': 'spent', '2179': 'will', '2180': 'boosts', '2181': '187', '2182': 'favorable', '2183': 'stg', '2184': 'investments', '2185': 'urges', '2186': '436', '2187': 'aggregate', '2188': 'sanctions', '2189': 'last', '2190': 'steadier', '2191': 'electrolysis', '2192': 'conoco', '2193': 'take', '2194': 'outpaced', '2195': 'forecasting', '2196': 'recession', '2197': 'over', '2198': 'ivory', '2199': 'moslem', '2200': 'gets', '2201': 'whole', '2202': '539', '2203': '145', '2204': '0', '2205': 'although', '2206': 'pacific', '2207': 'said', '2208': 'jacques', '2209': 'threatened', '2210': 'la', '2211': 'pcgg', '2212': 'competition', '2213': 'health', '2214': '300', '2215': 'left', '2216': 'committee', '2217': 'negotiations', '2218': 'shortfall', '2219': 'revs', '2220': 'demand', '2221': 'separate', '2222': 'corazon', '2223': '200', '2224': 'auto', '2225': 'central', '2226': 'keswick', '2227': 'borg', '2228': 'business', '2229': 'tetra', '2230': 'hoechst', '2231': '872', '2232': '44', '2233': '107', '2234': '77', '2235': 'protesting', '2236': 'billion', '2237': 'suitable', '2238': 'common', '2239': 'stance', '2240': '06', '2241': '047', '2242': 'figures', '2243': 'suiker', '2244': 'helped', '2245': 'held', '2246': 'dean', '2247': 'journal', '2248': 'exceeded', '2249': 'entities', '2250': 'diversify', '2251': 'alarm', '2252': 'buyer', '2253': 'wedgestone', '2254': 'appliances', '2255': 'consume', '2256': 'sri', '2257': 'sufficient', '2258': 'others', '2259': 'pledged', '2260': 'policy', '2261': 'session', '2262': 'outcry', '2263': 'suspected', '2264': 'inflict', '2265': 'blamed', '2266': '111', '2267': '37', '2268': 'complained', '2269': 'started', '2270': 'party', '2271': 'vehicles', '2272': 'discussions', '2273': 'unaudited', '2274': 'approvals', '2275': 'slowing', '2276': 'particularly', '2277': 'reversal', '2278': 'television', '2279': 'target', '2280': 'asking', '2281': 'absb', '2282': 'leduc', '2283': 'class', '2284': 'opportunity', '2285': 'steel', '2286': 'questionable', '2287': 'monier', '2288': 'goodall', '2289': 'named', '2290': 'ariadne', '2291': 'increasingly', '2292': 'rachmat', '2293': 'komatsu', '2294': 'nothing', '2295': 'gallon', '2296': 'green', '2297': 'thailand', '2298': 'plentiful', '2299': 'discouraged', '2300': 'argue', '2301': 'stood', '2302': 'filed', '2303': 'mahn', '2304': 'publicly', '2305': 'dealing', '2306': 'exploration', '2307': '484', '2308': '2743', '2309': 'wmk', '2310': 'single', '2311': 'licences', '2312': 'decline', '2313': 'month', '2314': 'seriously', '2315': 'predict', '2316': 'reiterated', '2317': 'editions', '2318': 'payout', '2319': 'bundaberg', '2320': '72', '2321': 'slightly', '2322': '09', '2323': 'court', '2324': '139', '2325': '655', '2326': 'discussed', '2327': 'agreements', '2328': 'mr', '2329': 'guardian', '2330': 'oreffice', '2331': 'fidelcor', '2332': 'mckinnon', '2333': 'brokers', '2334': 'soybean', '2335': 'threat', '2336': 'pointed', '2337': '839', '2338': 'fabric', '2339': 'tonnes', '2340': 'williams', '2341': 'inflation', '2342': 'call', '2343': 'laws', '2344': 'next', '2345': 'matheson', '2346': 'capel', '2347': '255', '2348': 'residual', '2349': 'following', '2350': 'moving', '2351': '224', '2352': 'kleinwort', '2353': 'advantage', '2354': 'successfully', '2355': 'lack', '2356': 'paks', '2357': 'weakened', '2358': 'badly', '2359': '345', '2360': 'delaying', '2361': 'have', '2362': 'imbalance', '2363': 'boards', '2364': 'spurred', '2365': 'textiles', '2366': 'network', '2367': '1982', '2368': 'shopping', '2369': 'parts', '2370': 'ounces', '2371': 'dispose', '2372': '98', '2373': 'offset', '2374': 'active', '2375': 'traditional', '2376': 'germany', '2377': 'retail', '2378': 'contend', '2379': 'steagall', '2380': 'kentucky', '2381': 'strike', '2382': 'speech', '2383': 'deskpro', '2384': 'housing', '2385': 'very', '2386': 'denies', '2387': '763', '2388': 're', '2389': 'harm', '2390': 'assumption', '2391': 'press', '2392': 'included', '2393': '1993', '2394': 'tube', '2395': 'operators', '2396': '977', '2397': 'merge', '2398': 'dollar', '2399': 'dns', '2400': 'mostly', '2401': 'stn', '2402': 'depositors', '2403': 'depressed', '2404': 'bankers', '2405': '280', '2406': 'ag', '2407': 'transport', '2408': 'century', '2409': '31', '2410': 'associated', '2411': 'wrong', '2412': '1988', '2413': 'ingot', '2414': 'looks', '2415': 'japan', '2416': 'auxt', '2417': 'noted', '2418': 'brisbane', '2419': 'attractive', '2420': 'reserves', '2421': 'sci', '2422': 'given', '2423': '034', '2424': 'inc', '2425': 'reflecting', '2426': 'ashai', '2427': 'based', '2428': '55', '2429': 'optimism', '2430': 'country', '2431': 'taiwan', '2432': 'imposed', '2433': 'ending', '2434': 'grace', '2435': 'solve', '2436': 'hemisphere', '2437': 'proximity', '2438': 'able', '2439': 'acquistion', '2440': 'trouble', '2441': '43', '2442': 'values', '2443': 'rotterdam', '2444': 'entry', '2445': 'declaration', '2446': 'adversely', '2447': 'back', '2448': 'via', '2449': 'tell', '2450': 'one', '2451': 'illustrated', '2452': 'considered', '2453': 'moisture', '2454': 'review', '2455': 'northern', '2456': 'wait', '2457': 'insurer', '2458': 'tug', '2459': '68', '2460': 'osaka', '2461': 'rationalisation', '2462': 'produces', '2463': 'formalise', '2464': 'total', '2465': 'refining', '2466': '175', '2467': 'hour', '2468': 'hectares', '2469': 'rhd', '2470': 'feasibility', '2471': 'ether', '2472': 'basic', '2473': '166', '2474': '120', '2475': 'dbd', '2476': 'withdrawal', '2477': 'hope', '2478': 'approved', '2479': 'previously', '2480': '826', '2481': 'unadjusted', '2482': 'been', '2483': '163', '2484': 'cheques', '2485': 'give', '2486': '486', '2487': 'whites', '2488': 'calls', '2489': '865', '2490': 'mellon', '2491': '505', '2492': 'convincing', '2493': '80', '2494': 'citrus', '2495': 'li', '2496': 'defuse', '2497': 'buyers', '2498': 'return', '2499': 'wdg', '2500': 'friendly', '2501': 'rather', '2502': 'current', '2503': 'pace', '2504': 'korea', '2505': 'mercantile', '2506': 'participation', '2507': 'asahi', '2508': 'denied', '2509': 'threshold', '2510': 'audit', '2511': 'fondiaria', '2512': 'late', '2513': 'regulations', '2514': 'preservation', '2515': 'stopped', '2516': '07', '2517': 'injunction', '2518': 'downturn', '2519': 'producers', '2520': 'open', '2521': 'unobtainable', '2522': 'credited', '2523': 'complaint', '2524': 'financial', '2525': '63', '2526': 'concentrate', '2527': 'benchmark', '2528': 'warning', '2529': 'dow', '2530': 'interesting', '2531': '0p', '2532': 'assurance', '2533': '40', '2534': 'burdekin', '2535': 'broker', '2536': '226', '2537': 'rinehart', '2538': 'ringgit', '2539': 'public', '2540': 'aires', '2541': 'long', '2542': 'continue', '2543': 'w', '2544': 'vice', '2545': 'brands', '2546': 'mid', '2547': 'realized', '2548': ':', '2549': '204', '2550': 'bag', '2551': 'those', '2552': 'go', '2553': 'payment', '2554': 'decade', '2555': 'adjust', '2556': 'ill', '2557': 'subsidiaries', '2558': 'fe', '2559': 'grade', '2560': 'altogether', '2561': 'underwriting', '2562': 'origins', '2563': 'manoeuvres', '2564': 'of', '2565': 'unnamed', '2566': 'damage', '2567': 'any', '2568': 'mining', '2569': 'nursing', '2570': 'murray', '2571': 'deputy', '2572': 'date', '2573': 'fledgling', '2574': 'laydays', '2575': 'buyout', '2576': 'vancouver', '2577': 'agrimont', '2578': 'sifi', '2579': 'seek', '2580': '402', '2581': 'corrientes', '2582': 'same', '2583': '21st', '2584': 'rio', '2585': 'an', '2586': 'appoint', '2587': 'honoring', '2588': 'workforce', '2589': '184', '2590': 'suits', '2591': 'institute', '2592': 'portable', '2593': 'morgan', '2594': 'inventories', '2595': 'seemed', '2596': 'appreciating', '2597': 'merged', '2598': 'grew', '2599': '773', '2600': 'undeveloped', '2601': 'favoured', '2602': 'resume', '2603': 'previous', '2604': 'try', '2605': '130', '2606': 'proposed', '2607': 'repos', '2608': 'issuing', '2609': 'approve', '2610': 'material', '2611': 'requirements', '2612': 'climate', '2613': 'exporters', '2614': 'enter', '2615': 'revenue', '2616': 'adjusted', '2617': 'memorandum', '2618': 'leigh', '2619': 'meetings', '2620': 'restore', '2621': 'fertlizer', '2622': 'clearing', '2623': 'risen', '2624': 'annum', '2625': 'swedish', '2626': 'technology', '2627': 'falls', '2628': 'emergence', '2629': 'arrival', '2630': 'future', '2631': 'flat', '2632': '82', '2633': '39', '2634': 'bring', '2635': 'think', '2636': 'ordinaries', '2637': 'print', '2638': 'liberal', '2639': '673', '2640': 'uses', '2641': '8', '2642': 'tobacco', '2643': 'ecu', '2644': 'salem', '2645': 'august', '2646': 'spree', '2647': 'guilders', '2648': '198', '2649': 'structural', '2650': 'heated', '2651': 'they', '2652': 'loss', '2653': 'constraints', '2654': 'bell', '2655': 'rios', '2656': 'medium', '2657': 'flows', '2658': 'blown', '2659': 'confidence', '2660': '1985', '2661': '864', '2662': 'account', '2663': 'association', '2664': 'angeles', '2665': 'roughly', '2666': 'dell', '2667': 'paris', '2668': 'initially', '2669': 'freer', '2670': 'direct', '2671': 'exaggerated', '2672': 'feet', '2673': 'arabia', '2674': 'fleet', '2675': 'other', '2676': 'pushing', '2677': 'calendar', '2678': 'chip', '2679': '342', '2680': '450', '2681': 'crop', '2682': 'hike', '2683': 'weakening', '2684': 'prices', '2685': 'plants', '2686': 'while', '2687': 'information', '2688': 'riots', '2689': 'walgreen', '2690': 'diluted', '2691': 'telecomputing', '2692': 'expand', '2693': 'ltd', '2694': 'manufacturing', '2695': 'may', '2696': 'fails', '2697': 'division', '2698': 'core', '2699': 'les', '2700': 'broadcasting', '2701': 'celanese', '2702': 'dlr', '2703': 'wheats', '2704': 'succed', '2705': 'marks', '2706': '871', '2707': 'matsushita', '2708': '02', '2709': 'registering', '2710': 'mtc', '2711': 'survey', '2712': 'effectively', '2713': 'period', '2714': 'medical', '2715': 'banca', '2716': 'discounted', '2717': 'seasonal', '2718': 'per', '2719': 'standard', '2720': '180', '2721': 'telecommunications', '2722': 'managements', '2723': 'someone', '2724': 'theoretically', '2725': 'balance', '2726': 'friction', '2727': 'merchanting', '2728': 'florence', '2729': 'contacted', '2730': 'hanover', '2731': 'many', '2732': 'similar', '2733': 'sydney', '2734': 'accrual', '2735': 'table', '2736': 'large', '2737': '273', '2738': 'lorries', '2739': 'accord', '2740': 'nil', '2741': 'inquiries', '2742': 'attempts', '2743': 'formality', '2744': 'volatile', '2745': '219', '2746': '242', '2747': 'paid', '2748': 'expressing', '2749': 'bringing', '2750': 'hurt', '2751': 'sized', '2752': 'briefcase', '2753': 'benefits', '2754': 'say', '2755': 'faster', '2756': 'ridden', '2757': 'pct', '2758': 'blue', '2759': 'plastics', '2760': 'unnecessary', '2761': 'sao', '2762': 'vacancies', '2763': 'jardine', '2764': 'eduardo', '2765': 'restaurant', '2766': 'meanwhile', '2767': 'him', '2768': 'ship', '2769': 'principles', '2770': 'services', '2771': 'carefully', '2772': 'italian', '2773': '303', '2774': 'rot', '2775': 'industrial', '2776': 'buying', '2777': 'determine', '2778': 'nominee', '2779': 'alava', '2780': 'conrac', '2781': 'commented', '2782': 'opened', '2783': 'because', '2784': 'chemical', '2785': '362', '2786': 'german', '2787': 'peanuts', '2788': '842', '2789': '122', '2790': 'laboratories', '2791': 'across', '2792': 'union', '2793': 'ptrk', '2794': 'dutch', '2795': 'moment', '2796': 'translation', '2797': 'auxton', '2798': '912', '2799': 'ban', '2800': 'his', '2801': 've', '2802': 'ingots', '2803': 'house', '2804': 'richard', '2805': 'strikes', '2806': 'pledges', '2807': 'river', '2808': 'such', '2809': 'regions', '2810': 'outlined', '2811': 'elxa', '2812': 'miti', '2813': 'saudi', '2814': 'chicago', '2815': 'accounting', '2816': 'oil', '2817': 'question', '2818': 'norway', '2819': 'amatil', '2820': 'recovered', '2821': '685', '2822': 'fair', '2823': 'describing', '2824': 'there', '2825': 'dsm', '2826': 'sunflowerseed', '2827': 'koh', '2828': 'commercialize', '2829': 'done', '2830': 'deficit', '2831': 'french', '2832': '1983', '2833': 'gulf', '2834': 'satoshi', '2835': 'ethyl', '2836': '975', '2837': 'reactivate', '2838': 'soliciation', '2839': 'high', '2840': 'notification', '2841': 'decisions', '2842': 'recieve', '2843': 'nearly', '2844': 'former', '2845': '537', '2846': 'way', '2847': 'top', '2848': 'redundancies', '2849': 'processed', '2850': 'med', '2851': '1900', '2852': '635', '2853': 'euromarket', '2854': 'tuesday', '2855': 'nainggolan', '2856': 'life', '2857': 'textile', '2858': 'canberra', '2859': 'rubber', '2860': 'naphtha', '2861': 'prevented', '2862': 'yesterday', '2863': 'octane', '2864': 'worth', '2865': 'surpluses', '2866': '38', '2867': 'aquire', '2868': 'lands', '2869': '...', '2870': 'paying', '2871': 'beyond', '2872': 'reaction', '2873': 'upper', '2874': 'bristol', '2875': 'ghana', '2876': 'propsective', '2877': 'johnson', '2878': 'definitive', '2879': 'credit', '2880': 'cts', '2881': 'apparently', '2882': 'who', '2883': 'elders', '2884': 'this', '2885': 'monetary', '2886': 'federal', '2887': 'include', '2888': 'whether', '2889': '233', '2890': 'type', '2891': 'sec', '2892': 'good', '2893': 'hikes', '2894': 'victoria', '2895': 'is', '2896': 'authorisations', '2897': 'aggressive', '2898': 'palms', '2899': 'netherlands', '2900': 'louisville', '2901': 'experimental', '2902': 'revise', '2903': '70', '2904': 'accelerating', '2905': 'ready', '2906': 'barring', '2907': 'nsw', '2908': 'congressional', '2909': 'cent', '2910': 'heavy', '2911': 'iii', '2912': 'notifying', '2913': 'rainfall', '2914': 'three', '2915': 'chaco', '2916': '86', '2917': 'nendick', '2918': 'competitors', '2919': 'program', '2920': 'physicals', '2921': 'station', '2922': 'sometime', '2923': '238', '2924': 'acted', '2925': 'causing', '2926': 'robert', '2927': 'exports', '2928': 'investor', '2929': '00', '2930': 'felt', '2931': 'increasing', '2932': 'elections', '2933': 'montagne', '2934': 'largest', '2935': 'regulated', '2936': 'enhancer', '2937': 'robusta', '2938': 'sunflower', '2939': 'benson', '2940': 'totalling', '2941': 'associates', '2942': 'favor', '2943': 'space', '2944': '23', '2945': 'edmonton', '2946': 'weight', '2947': 'council', '2948': 'boosting', '2949': 'redirect', '2950': 'paulo', '2951': 'along', '2952': 'mail', '2953': 'includes', '2954': 'volume', '2955': 'coconut', '2956': 'too', '2957': 'income', '2958': '143', '2959': 'soon', '2960': '725', '2961': 'story', '2962': 'normal', '2963': 'digesting', '2964': '706', '2965': 'tin', '2966': 'liberalise', '2967': 'gave', '2968': 'spokesman', '2969': 'floating', '2970': 'june', '2971': 'valley', '2972': '332', '2973': '634', '2974': 'railway', '2975': 'petition', '2976': 'ability', '2977': '970', '2978': 'agency', '2979': 'bt', '2980': 'red', '2981': 'effort', '2982': '66', '2983': 'persuade', '2984': '2200', '2985': 'myfra', '2986': 'realty', '2987': '--', '2988': '344', '2989': 'intervened', '2990': 'fertiliser', '2991': '022', '2992': '57', '2993': 'wants', '2994': 'size', '2995': 'notes', '2996': 'later', '2997': 'know', '2998': 'allows', '2999': 'major', '3000': 'gros', '3001': 'offers', '3002': 'women', '3003': 'revised', '3004': 'massive', '3005': 'described', '3006': 'reflect', '3007': '..', '3008': 'joint', '3009': '1991', '3010': 'sudden', '3011': 'kuwaiti', '3012': 'on', '3013': '868', '3014': 'patient', '3015': '69', '3016': 'seeks', '3017': 'sm', '3018': 'warburg', '3019': 'doubled', '3020': 'giant', '3021': 'physical', '3022': 'shareholder', '3023': 'carryforward', '3024': 'since', '3025': 'meant', '3026': 'prompted', '3027': 'sorts', '3028': 'estimated', '3029': 'means', '3030': '387', '3031': 'march', '3032': 'half', '3033': 'unions', '3034': '512', '3035': 'entitling', '3036': 'department', '3037': 'defensive', '3038': 'abolish', '3039': '7p', '3040': 'qtrly', '3041': 'inzi', '3042': 'quotes', '3043': 'wasn', '3044': 'rev', '3045': 'weeks', '3046': 'suppliers', '3047': 'recommendations', '3048': 'practice', '3049': 'bashaw', '3050': 'follow', '3051': 'brasilia', '3052': 'reader', '3053': 'name', '3054': 'welcome', '3055': 'marlin', '3056': 'mounting', '3057': 'enforcement', '3058': 'avoid', '3059': 'minority', '3060': 'balladur', '3061': '381', '3062': 'received', '3063': 'vw', '3064': 'hit', '3065': 'venture', '3066': 'constituents', '3067': 'shipping', '3068': 'taiwanese', '3069': 'enquiries', '3070': 'proper', '3071': 'sogo', '3072': 'prevent', '3073': 'become', '3074': 'drives', '3075': 'plannned', '3076': 'violating', '3077': 'cuts', '3078': 'outlook', '3079': 'having', '3080': 'took', '3081': 'private', '3082': 'plus', '3083': 'myers', '3084': 'spa', '3085': 'taxes', '3086': 'nv', '3087': 'governmental', '3088': 'consultation', '3089': 'setting', '3090': 'virtually', '3091': 'willingness', '3092': 'associate', '3093': 'zinc', '3094': 'america', '3095': 'rebate', '3096': 'institutional', '3097': 'benefitted', '3098': 'avondale', '3099': '47', '3100': 'convinced', '3101': '600', '3102': 'vastly', '3103': 'climbed', '3104': 'results', '3105': 'decision', '3106': 'throughout', '3107': 'subsidiary', '3108': 'deliberations', '3109': 'continuing', '3110': 'hopeful', '3111': 'divert', '3112': 'members', '3113': 'help', '3114': 'newsletter', '3115': 'takeover', '3116': 'coal', '3117': 'final', '3118': 'remain', '3119': 'preparation', '3120': 'main', '3121': 'two', '3122': 'consuming', '3123': 'bill', '3124': 'own', '3125': 'interpreted', '3126': 'lives', '3127': 'productive', '3128': 'payroll', '3129': 'ketchup', '3130': 'add', '3131': 'employer', '3132': 'ever', '3133': 'k', '3134': 'hostile', '3135': 'past', '3136': 'restrictions', '3137': 'damp', '3138': 'market', '3139': 'sought', '3140': 'm', '3141': 'despite', '3142': 'heavily', '3143': 'below', '3144': '490', '3145': 'analyst', '3146': 'plenty', '3147': 'feedgrain', '3148': 'output', '3149': 'amstutz', '3150': 'cain', '3151': 'allowance', '3152': 'negative', '3153': 'starting', '3154': 'opec', '3155': '171', '3156': 'political', '3157': 'expect', '3158': 'expires', '3159': 'dispute', '3160': 'excludes', '3161': 'down', '3162': 'hrw', '3163': 'work', '3164': 'kembla', '3165': 'insures', '3166': 'raytheon', '3167': 'permit', '3168': '5p', '3169': 'banking', '3170': 'default', '3171': 'yet', '3172': 'wells', '3173': 'begining', '3174': 'temporary', '3175': 'gains', '3176': 'mechanisms', '3177': 'jointly', '3178': 'detective', '3179': 'privately', '3180': 'downwards', '3181': 'unsuccesful', '3182': 'speculative', '3183': 'warner', '3184': 'officials', '3185': 'deliveries', '3186': 'severe', '3187': '?', '3188': 'loans', '3189': 'analysts', '3190': 'nakasone', '3191': 'plunge', '3192': 'resolve', '3193': 'create', '3194': 'renato', '3195': 'lyng', '3196': 'rain', '3197': 'recapitalization', '3198': 'stoltenberg', '3199': 'dig', '3200': 'acquisitions', '3201': 'retraction', '3202': 'discussing', '3203': 'properties', '3204': 'cooperation', '3205': 'cocoa', '3206': 'declares', '3207': 'problem', '3208': 'indicating', '3209': 'partners', '3210': 'outside', '3211': 'practices', '3212': 'cannon', '3213': 'abroad', '3214': 'routes', '3215': 'dependence', '3216': 'cax', '3217': 'majority', '3218': 'desposits', '3219': '849', '3220': '141', '3221': 'positive', '3222': 'replied', '3223': 'newspapers', '3224': 'contracting', '3225': '350', '3226': 'shipments', '3227': 'harvesting', '3228': 'hands', '3229': 'edict', '3230': 'replaces', '3231': 'lloyds', '3232': 'procedural', '3233': 'generate', '3234': 'securities', '3235': 'avowed', '3236': 'underway', '3237': 'suspicion', '3238': 'executives', '3239': 'adelaide', '3240': 'han', '3241': 'prolonged', '3242': 'wmc', '3243': 'san', '3244': 'winter', '3245': '588', '3246': 'transactions', '3247': 'portrayed', '3248': 'seriousness', '3249': 'decribes', '3250': 'paramus', '3251': 'viviez', '3252': 'he', '3253': 'either', '3254': 'specified', '3255': 'leach', '3256': 'basis', '3257': 'baker', '3258': 'tonnage', '3259': 'brewer', '3260': 'super', '3261': 'closed', '3262': 'queen', '3263': 'parana', '3264': 'audio', '3265': 'ns', '3266': 'view', '3267': 'provided', '3268': 'gdp', '3269': 'resumption', '3270': 'bd', '3271': 'armen', '3272': 'gaurd', '3273': 'african', '3274': 'fees', '3275': 'contract', '3276': 'acquire', '3277': 'stay', '3278': 'outstanding', '3279': 'timber', '3280': 'electro', '3281': 'arbitration', '3282': 'downward', '3283': 'gamble', '3284': 'victors', '3285': 'disregard', '3286': 'lowered', '3287': 'valid', '3288': 'cordoba', '3289': 'shipment', '3290': 'gives', '3291': 'merit', '3292': 'bjoern', '3293': 'retained', '3294': 'eventually', '3295': 'lending', '3296': 'simon', '3297': 'centre', '3298': 'before', '3299': 'united', '3300': 'apart', '3301': 'anheuser', '3302': 'sees', '3303': 'internal', '3304': 'declines', '3305': 'link', '3306': 'forces', '3307': 'fully', '3308': '498', '3309': 'edward', '3310': 'provision', '3311': 'spell', '3312': 'gaf', '3313': 'coffee', '3314': 'goods', '3315': 'monday', '3316': 'growing', '3317': 'drop', '3318': 'operation', '3319': 'stch', '3320': 'did', '3321': 'shearson', '3322': 'bullish', '3323': 'execute', '3324': 'areas', '3325': '153', '3326': 'trades', '3327': 'interested', '3328': 'garo', '3329': '240', '3330': 'timidity', '3331': 'redress', '3332': 'sejerstad', '3333': 'economists', '3334': 'wholly', '3335': 'refute', '3336': '01', '3337': 'pl', '3338': 'housecleaning', '3339': 'crumbling', '3340': 'lipstick', '3341': 'transportation', '3342': 'beginning', '3343': 'lire', '3344': 'followed', '3345': 'buildup', '3346': '1996', '3347': 'edge', '3348': 'them', '3349': 'bucking', '3350': 'certain', '3351': 'buy', '3352': 'witter', '3353': 'november', '3354': 'never', '3355': '62', '3356': 'personnel', '3357': 'repurchase', '3358': 'delay', '3359': 'happy', '3360': 'managers', '3361': '7', '3362': 'employment', '3363': 'disadvantage', '3364': 'and', '3365': 'backed', '3366': 'port', '3367': 'shintaro', '3368': 'conflict', '3369': 'confirmed', '3370': 'nation', '3371': 'companies', '3372': 'restated', '3373': 'value', '3374': 'winston', '3375': '852', '3376': 'counter', '3377': 'louvre', '3378': 'necessary', '3379': 'advanced', '3380': 'statement', '3381': '633', '3382': 'sunday', '3383': 'reached', '3384': 'big', '3385': 'envases', '3386': 'determining', '3387': 'government', '3388': 'ynk', '3389': 'measure', '3390': 'decrease', '3391': 'nine', '3392': 'amended', '3393': 'shared', '3394': 'recent', '3395': 'soviet', '3396': 'remaining', '3397': 'arrange', '3398': 'went', '3399': 'opening', '3400': 'aims', '3401': 'fee', '3402': 'iniziativa', '3403': 'michel', '3404': 'created', '3405': 'cif', '3406': 'protect', '3407': 'why', '3408': 'rupiah', '3409': 'fashions', '3410': 'where', '3411': 'things', '3412': 'planted', '3413': '271', '3414': 'petrodollar', '3415': 'correction', '3416': 'banks', '3417': 'regret', '3418': 'underestimated', '3419': 'overnight', '3420': 'permanent', '3421': 'pll', '3422': 'substantial', '3423': 'tomorrow', '3424': '625', '3425': 'sowing', '3426': 'middle', '3427': 'methyl', '3428': 'efforts', '3429': 'stricter', '3430': 'find', '3431': 'replace', '3432': '693', '3433': 'northwest', '3434': 'sales', '3435': 'request', '3436': '149', '3437': 'pemberton', '3438': 'sumi', '3439': 'co', '3440': 'john', '3441': 'grant', '3442': 'figure', '3443': 'moni', '3444': 'source', '3445': '653', '3446': 'restraining', '3447': 'its', '3448': 'indication', '3449': 'comprehensive', '3450': 'mead', '3451': 'comprising', '3452': 'nippon', '3453': 'fear', '3454': 'slowly', '3455': 'limits', '3456': 'arriving', '3457': 'form', '3458': 'sentence', '3459': 'brewery', '3460': 'pursuing', '3461': 'newcastle', '3462': 'brian', '3463': 'lengthy', '3464': 'barred', '3465': 'sir', '3466': 'interest', '3467': 'concern', '3468': 'aquino', '3469': 'excess', '3470': 'ownership', '3471': 'external', '3472': 'amertek', '3473': 'automobile', '3474': '952', '3475': 'cents', '3476': 'totaled', '3477': 'importance', '3478': 'pond', '3479': 'city', '3480': 'protein', '3481': 'expected', '3482': '419', '3483': 'agro', '3484': 'canadians', '3485': 'relied', '3486': 'economy', '3487': 'amendments', '3488': 'leveraged', '3489': 'qtly', '3490': 'upturn', '3491': 'mainly', '3492': 'preference', '3493': 'ramadan', '3494': 'holmes', '3495': '9', '3496': 'stable', '3497': 'soya', '3498': 'covered', '3499': 'sixth', '3500': 'evident', '3501': 'divided', '3502': 'successive', '3503': 'distributor', '3504': 'strengthen', '3505': 'also', '3506': 'usda', '3507': 'bids', '3508': 'eileen', '3509': 'commercial', '3510': 'sumatran', '3511': 'informal', '3512': 'retaliation', '3513': 'al', '3514': 'diplomatic', '3515': 'trust', '3516': 'petrochemicals', '3517': '59', '3518': 'jewellery', '3519': 'still', '3520': 'more', '3521': 'bottoming', '3522': 'sumita', '3523': 'showing', '3524': 'utilization', '3525': 'gained', '3526': '``', '3527': '2000', '3528': '937', '3529': 'houston', '3530': 'jpm', '3531': 'sabah', '3532': 'speaking', '3533': 'intervenes', '3534': 'lfdi', '3535': 'stevens', '3536': 'succeeds', '3537': 'products', '3538': 'corporate', '3539': 'showers', '3540': 'operates', '3541': 'concentrated', '3542': 'appear', '3543': 'proposal', '3544': 'share', '3545': '102', '3546': 'disposition', '3547': '129', '3548': 'finland', '3549': '775', '3550': 'encourage', '3551': 'stepped', '3552': 'fla', '3553': '164', '3554': 'membership', '3555': 'edgy', '3556': 'vicious', '3557': 'gerhard', '3558': 'compiled', '3559': 'allen', '3560': 'arbitrager', '3561': 'towards', '3562': 'patent', '3563': 'kerosene', '3564': 'halt', '3565': 'secretary', '3566': '896', '3567': 'advisor', '3568': 'reserve', '3569': 'grower', '3570': 'primary', '3571': 'singapore', '3572': 'elsewhere', '3573': '1550', '3574': 'crush', '3575': '1st', '3576': 'completion', '3577': '4th', '3578': 'yemen', '3579': 'nuclear', '3580': 'khalifa', '3581': 'norwegian', '3582': '002', '3583': 'provisions', '3584': 'harbor', '3585': 'fluctuations', '3586': 'net', '3587': 'barrels', '3588': 'litigation', '3589': 'tendering', '3590': 'efficiency', '3591': 'due', '3592': 'quickly', '3593': 'holding', '3594': 'excluding', '3595': 'available', '3596': 'intervene', '3597': '87', '3598': 'issue', '3599': 'reductions', '3600': 'joins', '3601': 'stream', '3602': 'again', '3603': 'tonne', '3604': 'cheaper', '3605': 'ldp', '3606': 'should', '3607': '278', '3608': 'kill', '3609': 'conference', '3610': 'cmb', '3611': ')', '3612': 'friday', '3613': 'cbio', '3614': 'shortage', '3615': 'especially', '3616': 'difficult', '3617': 'working', '3618': 'nosedive', '3619': 'translated', '3620': 'donald', '3621': 'intervention', '3622': 'senior', '3623': 'warranted', '3624': 'burnell', '3625': 'adding', '3626': 'bti', '3627': '112', '3628': 'pay', '3629': 'ciif', '3630': 'supplies', '3631': 'peaks', '3632': 'breach', '3633': '866', '3634': 'dissemination', '3635': 'authorized', '3636': 'celltronics', '3637': 'understanding', '3638': 'nashville', '3639': 'redbook', '3640': 'their', '3641': 'year', '3642': 'volkswagen', '3643': 'worked', '3644': 'works', '3645': 'annual', '3646': 'competitive', '3647': 'support', '3648': 'bureau', '3649': 'do', '3650': 'brief', '3651': 'attitude', '3652': 'lohn', '3653': '162', '3654': 'csn', '3655': 'plan', '3656': 'ministers', '3657': 'separates', '3658': 'planning', '3659': 'glass', '3660': 'stimulating', '3661': 'favored', '3662': 'played', '3663': 'immediate', '3664': 'cable', '3665': 'lift', '3666': 'north', '3667': 'ask', '3668': 'fnv', '3669': 'foreign', '3670': 'sector', '3671': 'acknowledged', '3672': 'chase', '3673': 'affected', '3674': 'process', '3675': 'announced', '3676': 'autumn', '3677': 'april', '3678': 'enabled', '3679': 'day', '3680': 'reflected', '3681': 'fundamental', '3682': '480', '3683': 'negotiators', '3684': 'faced', '3685': 'ray', '3686': 'issues', '3687': '156', '3688': 'close', '3689': 'heating', '3690': 'contrast', '3691': 'fargo', '3692': 'clayton', '3693': 'colombo', '3694': 'supplementary', '3695': 'rebound', '3696': '876', '3697': 'maintenance', '3698': 'drying', '3699': '34', '3700': 'sell', '3701': 'wisdom', '3702': 'bundey', '3703': 'un', '3704': 'flt', '3705': '08', '3706': 'capital', '3707': 'offsetting', '3708': 'merger', '3709': 'duties', '3710': 'doesn', '3711': 'greater', '3712': 'allocation', '3713': 'subsidy', '3714': 'austwhim', '3715': '10', '3716': 'origin', '3717': 'succeed', '3718': 'gec', '3719': 'sterivet', '3720': 'visit', '3721': 'shr', '3722': 'stressed', '3723': 'profitable', '3724': 'jobless', '3725': 'taken', '3726': 'we', '3727': 'for', '3728': '410', '3729': 'insuring', '3730': 'field', '3731': 'allow', '3732': 'asked', '3733': 'busch', '3734': 'premiums', '3735': 'adversarial', '3736': 'offered', '3737': 'sound', '3738': 'voting', '3739': 'edelman', '3740': 'fertilizer', '3741': 'enlarged', '3742': 'up', '3743': 'contractionary', '3744': 'commissioner', '3745': '75', '3746': 'bought', '3747': 'brown', '3748': 'these', '3749': 'mackay', '3750': 'video', '3751': 'establish', '3752': 'agreed', '3753': 'pulled', '3754': 'gghf', '3755': 'purity', '3756': 'sets', '3757': 'firms', '3758': 'special', '3759': 'key', '3760': 'struggling', '3761': 'montedison', '3762': 'smart', '3763': 'minister', '3764': '598', '3765': 'accounts', '3766': 'kilowatt', '3767': 'bonds', '3768': 'eager', '3769': 'corn', '3770': 'supported', '3771': 'rod', '3772': 'until', '3773': 'roof', '3774': 'sent', '3775': 'telecrafter', '3776': 'newly', '3777': 'conditions', '3778': 'turnover', '3779': 'palm', '3780': 'gross', '3781': 'suspended', '3782': 'hbj', '3783': 'comes', '3784': 'ramon', '3785': 'equal', '3786': '495', '3787': 'masbate', '3788': 'executive', '3789': 'decided', '3790': 'governor', '3791': 'andres', '3792': 'queensland', '3793': '540', '3794': '154', '3795': '572', '3796': 'suspension', '3797': 'lenders', '3798': 'argentine', '3799': 'pesos', '3800': 'queues', '3801': '217', '3802': '1986', '3803': 'butyl', '3804': 'mths', '3805': 'lucrative', '3806': 'toiletry', '3807': 'cebu', '3808': 'takes', '3809': 'rise', '3810': 'pesticides', '3811': '11', '3812': 'receipt', '3813': 'bargain', '3814': 'oilseed', '3815': 'flexibility', '3816': 'aquired', '3817': 'surplus', '3818': 'assuming', '3819': 'proxmire', '3820': 'fruehauf', '3821': 'inevitable', '3822': 'between', '3823': 'properly', '3824': 'reporters', '3825': 'conserv', '3826': 'c', '3827': 'electronics', '3828': 'entails', '3829': 'made', '3830': 'electrical', '3831': 'spelled', '3832': 'sacks', '3833': 'negotiating', '3834': 'iran', '3835': 'american', '3836': 'vital', '3837': 'showed', '3838': 'today', '3839': 'overstressed', '3840': 'dufour', '3841': 'july', '3842': '060', '3843': 'laying', '3844': 'ahead', '3845': 'newspaper', '3846': 'ficr', '3847': 'no', '3848': 'gas', '3849': 'rhodes', '3850': 'james', '3851': 'sterling', '3852': 'mountain', '3853': 'december', '3854': 'fallen', '3855': 'embarked', '3856': 'generating', '3857': 'dramatically', '3858': 'kms', '3859': 'four', '3860': 'avialable', '3861': '429', '3862': '1980s', '3863': 'miscellaneous', '3864': 'goldman', '3865': 'chamber', '3866': 'preston', '3867': 'side', '3868': 'daniel', '3869': '569', '3870': 'carried', '3871': 'making', '3872': 'jard', '3873': 'exist', '3874': 'fboh', '3875': 'credits', '3876': '4p', '3877': 'rates', '3878': 'doubtful', '3879': 'prospectus', '3880': 'baht', '3881': 'extending', '3882': 'win', '3883': 'forecast', '3884': 'dividend', '3885': 'unlikely', '3886': 'recommends', '3887': 'variety', '3888': 'start', '3889': 'paints', '3890': 'rubbermaid', '3891': 'william', '3892': 'sanm', '3893': 'personally', '3894': 'italiana', '3895': 'accept', '3896': 'cautioned', '3897': 'tie', '3898': 'undertook', '3899': '121', '3900': '215', '3901': 'circle', '3902': 'sorghum', '3903': 'stores', '3904': 'self', '3905': 'exchanges', '3906': 'waste', '3907': 'regain', '3908': 'weighing', '3909': 'after', '3910': 'animal', '3911': 'monthly', '3912': 'strategies', '3913': '596', '3914': 'using', '3915': 'produced', '3916': 'begin', '3917': 'esk', '3918': 'quota', '3919': 'protest', '3920': 'termination', '3921': 'maintained', '3922': 'lost', '3923': '46', '3924': 'star', '3925': 'dropped', '3926': 'owns', '3927': 'mtbe', '3928': 'angered', '3929': 'experience', '3930': 'third', '3931': 'edition', '3932': 'z', '3933': 'availability', '3934': 'zealand', '3935': 'portion', '3936': 'investigation', '3937': 'interests', '3938': 'arrived', '3939': 'ponderosa', '3940': 'far', '3941': '470', '3942': 'eliminate', '3943': 'push', '3944': 'canion', '3945': 'investigations', '3946': '700', '3947': 'introduced', '3948': 'undisclosed', '3949': 'indirect', '3950': 'significant', '3951': 'member', '3952': 'thus', '3953': 'details', '3954': 'oy', '3955': 'characterized', '3956': 'outlays', '3957': 'diw', '3958': 'brazil', '3959': 'marked', '3960': 'pall', '3961': 'stock', '3962': 'contravention', '3963': 'changed', '3964': 'businesses', '3965': 'forrest', '3966': 'settled', '3967': 'placing', '3968': 'farmers', '3969': 'graan', '3970': '985', '3971': 'met', '3972': 'supplier', '3973': 'pipe', '3974': 'cayb', '3975': 'blocks', '3976': '575', '3977': 'circulation', '3978': 'morning', '3979': 'restructuring', '3980': 'mortgage', '3981': 'valued', '3982': 'shares', '3983': 'fruit', '3984': '594', '3985': 'trillions', '3986': 'reuters', '3987': 'money', '3988': 'might', '3989': 'aim', '3990': 'hrs', '3991': 'attract', '3992': 'rollover', '3993': 'discuss', '3994': '544', '3995': 'n', '3996': 'computer', '3997': 'acmb', '3998': 'about', '3999': '073', '4000': 'bodes', '4001': 'inflow', '4002': 'sustained', '4003': 'deposit', '4004': 'movements', '4005': '26', '4006': 'delivered', '4007': 'underlying', '4008': 'scale', '4009': ',', '4010': 'quarter', '4011': '185', '4012': 'warm', '4013': 'kenneth', '4014': '25p', '4015': 'canadian', '4016': 'controversy', '4017': 'eastern', '4018': 'g', '4019': 'facts', '4020': 'package', '4021': 'creation', '4022': 'extra', '4023': 'acting', '4024': 'remained', '4025': 'operating', '4026': '28', '4027': 'hectare', '4028': 'selected', '4029': 'prospective', '4030': 'appreciate', '4031': 'gmbh', '4032': 'marketing', '4033': 'creek', '4034': 'tested', '4035': 'exchequer', '4036': '22', '4037': 'footwear', '4038': '231', '4039': 'staple', '4040': 'bor', '4041': 'mpmts', '4042': 'states', '4043': 'cojuangco', '4044': 'payments', '4045': 'preside', '4046': 'outflow', '4047': 'state', '4048': 'gerard', '4049': 'traded', '4050': 'restitution', '4051': 'earning', '4052': '165', '4053': 'merchant', '4054': 'storage', '4055': '468p', '4056': 'linens', '4057': 'referral', '4058': 'else', '4059': '276', '4060': 'hogg', '4061': '58', '4062': 'blame', '4063': 'deregulation', '4064': '833', '4065': 'uk', '4066': 'cases', '4067': 'protected', '4068': '446', '4069': 'launched', '4070': 'town', '4071': 'linked', '4072': 'indirectly', '4073': 'additives', '4074': '201p', '4075': 'spend', '4076': 'cra', '4077': 'padaeng', '4078': '784', '4079': 'corp', '4080': 'p', '4081': 'providence', '4082': 'hopes', '4083': 'debtors', '4084': '137', '4085': 'procedures', '4086': '078', '4087': 'mea', '4088': '13', '4089': 'rbd', '4090': 'responsible', '4091': 'brought', '4092': 'portfolio', '4093': 'handling', '4094': 'significantly', '4095': 'reorganized', '4096': 'serious', '4097': 'attributed', '4098': 'streamlined', '4099': 'grains', '4100': 'misiones', '4101': 'aid', '4102': '371', '4103': 'texas', '4104': 'charges', '4105': 'crucial', '4106': 'cautious', '4107': 'hearings', '4108': 'unbleached', '4109': 'worry', '4110': 'promotion', '4111': 'containing', '4112': 'combined', '4113': 'believes', '4114': 'mistake', '4115': 'latest', '4116': 'ruled', '4117': 'crude', '4118': 'curbs', '4119': 'mentioned', '4120': 'phone', '4121': 'pact', '4122': 'with', '4123': 'accurate', '4124': 'buildings', '4125': 'the', '4126': 'weis', '4127': 'custom', '4128': 'man', '4129': 'dry', '4130': 'limiting', '4131': 'expansion', '4132': 'firming', '4133': 'gradually', '4134': 'mine', '4135': 'growth', '4136': 'less', '4137': 'mean', '4138': 'southmark', '4139': 'afternoon', '4140': 'faces', '4141': 'tax', '4142': 'leaves', '4143': 'international', '4144': '61', '4145': 'fourth', '4146': 'panel', '4147': 'debit', '4148': \"''\", '4149': 'months', '4150': 'reporting', '4151': 'estimate', '4152': '<UNK>'}\n"
     ]
    }
   ],
   "source": [
    "import json\n",
    "\n",
    "word2index_path = './model/word2index_skipgram_neg.json'  # Path to the JSON file containing word-to-index mappings\n",
    "index2word_path = './model/index2word_skipgram_neg.json'  # Path to the JSON file containing index-to-word mappings\n",
    "\n",
    "# Load word-to-index dictionary from JSON file\n",
    "with open(word2index_path, 'r') as file:\n",
    "    word2index = json.load(file)  # Load the word2index dictionary from the JSON file\n",
    "\n",
    "# Load index-to-word dictionary from JSON file\n",
    "with open(index2word_path, 'r') as file:\n",
    "    index2word = json.load(file)  # Load the index2word dictionary from the JSON file\n",
    "\n",
    "# Print loaded dictionaries\n",
    "print(\"Word to Index Dictionary:\")\n",
    "print(word2index)\n",
    "print(\"\\nIndex to Word Dictionary:\")\n",
    "print(index2word)\n"
   ]
  },
  {
   "cell_type": "code",
   "execution_count": 56,
   "metadata": {},
   "outputs": [],
   "source": [
    "path = './model/corpus_neg.txt' \n",
    "def corpus_infer(path):\n",
    "    corpus = []\n",
    "    with open(path, 'r', encoding='utf-8') as file:\n",
    "        for line in file:\n",
    "            line = line.strip()\n",
    "            if line:  \n",
    "                corpus.append(line)\n",
    "    return corpus\n",
    "\n",
    "corpus = corpus_infer(path)\n"
   ]
  },
  {
   "cell_type": "code",
   "execution_count": 58,
   "metadata": {},
   "outputs": [
    {
     "name": "stdout",
     "output_type": "stream",
     "text": [
      "Model loaded\n",
      "Search query:  the analysts agreed the bank was aggressive\n",
      "Top Similar Passages with similarity score\n",
      "1 payable may 11 record april 24 \t\t\t\t\t\t 17.347359657287598\n",
      "2 the payout of existing preferred shareholders will be completed just before next month ' s initial distribution to common shareholders , continental added . \t\t\t\t\t\t 15.829388797283173\n",
      "3 finally , there is a shortage of lorries to transport the crops . \t\t\t\t\t\t 15.648728609085083\n",
      "4 the analysts agreed the bank was aggressive . \t\t\t\t\t\t 15.28579443693161\n",
      "5 the annual shareholder meeting will be held in london on april 29 . \t\t\t\t\t\t 15.064595639705658\n",
      "6 some analysts today recommended clients not buy burlington at its current levels . \t\t\t\t\t\t 14.482024312019348\n",
      "7 the pay dispute went before a hearing of the arbitration commission today . \t\t\t\t\t\t 14.349552989006042\n",
      "8 the pay dispute went before a hearing of the arbitration commission today . \t\t\t\t\t\t 14.349552989006042\n",
      "9 rubbermaid inc 1st qtr shr 28 cts vs 22 cts rubbermaid inc 1st qtr shr 28 cts vs 22 cts \t\t\t\t\t\t 13.522811233997345\n",
      "10 trading in either crude palm oil ( cpo ) or refined palm oil may also be introduced . \t\t\t\t\t\t 13.428929448127747\n",
      "11 it said completion is expected to take place april 10 . \t\t\t\t\t\t 12.844645977020264\n",
      "12 annual ore capacity will be about 750 , 000 tonnes . \t\t\t\t\t\t 12.81026303768158\n",
      "13 two further pacts are likely this month over the next two weeks . \t\t\t\t\t\t 12.520056962966919\n",
      "14 top officials arrive at treasury for g - 5 talks top officials of leading industrial nations arrived at the u . s . treasury main building to begin a meeting of the group of five . \t\t\t\t\t\t 12.052075564861298\n",
      "15 economic spotlight - australian markets booming australian markets are booming as foreign fund managers redirect capital away from the united states and other traditional markets , analysts said . \t\t\t\t\t\t 11.929307132959366\n",
      "16 it had a 4 . 44 billion yen current profit in the first half of 1985 / 86 . \t\t\t\t\t\t 11.874280869960785\n",
      "17 saunders co of canada ltd and les editions hrw ltd by harcourt brace jovanovich canada inc . \t\t\t\t\t\t 11.744160950183868\n",
      "18 the growers expect palm oil prices to ease later this year due to pressure from south american and u . s . \t\t\t\t\t\t 11.551326513290405\n",
      "19 it gave no further details . \t\t\t\t\t\t 11.449459195137024\n",
      "20 it gave no further details . \t\t\t\t\t\t 11.449459195137024\n"
     ]
    }
   ],
   "source": [
    "# Load the word2vec model and its configuration\n",
    "def load_word2vec_model(model_path, config_path):\n",
    "    \"\"\"\n",
    "    Load the pre-trained word2vec model and its configuration.\n",
    "\n",
    "    Args:\n",
    "    - model_path (str): Path to the file containing the model state.\n",
    "    - config_path (str): Path to the file containing the model configuration.\n",
    "\n",
    "    Returns:\n",
    "    - loaded_model: The loaded word2vec model.\n",
    "    - voc_size (int): The vocabulary size.\n",
    "    - emb_size (int): The embedding size.\n",
    "    \"\"\"\n",
    "    # Load configuration\n",
    "    with open(config_path, 'r') as config_file:\n",
    "        config = json.load(config_file)\n",
    "    voc_size = config['voc_size']\n",
    "    emb_size = config['emb_size']\n",
    "\n",
    "    # Initialize model\n",
    "    loaded_model = SkipgramNeg(voc_size, emb_size)\n",
    "    \n",
    "    # Load model state\n",
    "    loaded_model.load_state_dict(torch.load(model_path))\n",
    "    \n",
    "    # Set model to evaluation mode\n",
    "    loaded_model.eval()\n",
    "\n",
    "    print(\"Model loaded\")\n",
    "    \n",
    "    return loaded_model, voc_size, emb_size\n",
    "\n",
    "# Preprocess the text\n",
    "def tokenize_text(text):\n",
    "    \"\"\"\n",
    "    Tokenize the input text into words.\n",
    "\n",
    "    Args:\n",
    "    - text (str): Input text to be tokenized.\n",
    "\n",
    "    Returns:\n",
    "    - tokens (list): List of tokens obtained from the input text.\n",
    "    \"\"\"\n",
    "    tokens = nltk.word_tokenize(text.lower())\n",
    "    return tokens\n",
    "\n",
    "# Get the embedding for a given text\n",
    "def get_text_embedding(text, model, word2index):\n",
    "    \"\"\"\n",
    "    Get the embedding for a given text using the word2vec model.\n",
    "\n",
    "    Args:\n",
    "    - text (str): Input text.\n",
    "    - model: Pre-trained word2vec model.\n",
    "    - word2index (dict): Word-to-index mapping.\n",
    "\n",
    "    Returns:\n",
    "    - text_embedding (np.array): Embedding vector for the input text.\n",
    "    \"\"\"\n",
    "    tokens = tokenize_text(text)\n",
    "    embeddings = []\n",
    "\n",
    "    for token in tokens:\n",
    "        index = word2index.get(token, word2index.get('<UNK>'))\n",
    "        word_tensor = torch.LongTensor([index])\n",
    "\n",
    "        embed_center = model.embedding_center(word_tensor)\n",
    "        embed_outside = model.embedding_outside(word_tensor)\n",
    "        embed = (embed_center + embed_outside) / 2\n",
    "        embeddings.append(embed.detach().numpy())\n",
    "    \n",
    "    if embeddings:\n",
    "        embeddings = np.array(embeddings)\n",
    "        text_embedding = np.mean(embeddings, axis=0)\n",
    "\n",
    "    text_embedding = text_embedding.flatten()  # Flatten the array to ensure it's 1-D\n",
    "    \n",
    "    return text_embedding\n",
    "\n",
    "# Retrieve top passages similar to the query\n",
    "def find_similar_passages(query, corpus, model, word2index, top_n=20):\n",
    "    \"\"\"\n",
    "    Find top passages similar to the input query from the corpus.\n",
    "\n",
    "    Args:\n",
    "    - query (str): Input query.\n",
    "    - corpus (list): List of passages in the corpus.\n",
    "    - model: Pre-trained word2vec model.\n",
    "    - word2index (dict): Word-to-index mapping.\n",
    "    - top_n (int): Number of top passages to retrieve.\n",
    "\n",
    "    Returns:\n",
    "    - top_passages (list): List of top passages along with their similarity scores.\n",
    "    \"\"\"\n",
    "    # Convert query to embedding\n",
    "    query_embedding = get_text_embedding(query, model, word2index)\n",
    "    similarities = []\n",
    "\n",
    "    # Compute similarity between query and each passage in corpus\n",
    "    for passage in corpus:\n",
    "        passage_embedding = get_text_embedding(passage, model, word2index)\n",
    "        similarity = np.dot(query_embedding, passage_embedding)\n",
    "        similarities.append(similarity)\n",
    "\n",
    "    # Sort passages based on similarity scores\n",
    "    sorted_indices = sorted(range(len(similarities)), key=lambda i: similarities[i], reverse=True)\n",
    "    top_indices = sorted_indices[:top_n]\n",
    "\n",
    "    # Retrieve top passages along with similarity scores\n",
    "    top_passages = [(corpus[idx], (similarities[idx]) * 100) for idx in top_indices]\n",
    "    \n",
    "    return top_passages\n",
    "\n",
    "\n",
    "# Load the word2vec model and its configuration\n",
    "loaded_model, voc_size, emb_size = load_word2vec_model(model_path, config_path)\n",
    "\n",
    "# Example usage with a different query\n",
    "new_query = \"the analysts agreed the bank was aggressive\"\n",
    "print('Search query: ', new_query)\n",
    "top_passages = find_similar_passages(new_query, corpus, loaded_model, word2index, top_n=20)\n",
    "i = 1\n",
    "print(\"Top Similar Passages with similarity score\")\n",
    "for passage, score in top_passages:\n",
    "    print(i, passage,'\\t\\t\\t\\t\\t\\t', score)\n",
    "    i += 1"
   ]
  },
  {
   "cell_type": "code",
   "execution_count": null,
   "metadata": {},
   "outputs": [],
   "source": []
  }
 ],
 "metadata": {
  "kernelspec": {
   "display_name": "dsai",
   "language": "python",
   "name": "python3"
  },
  "language_info": {
   "codemirror_mode": {
    "name": "ipython",
    "version": 3
   },
   "file_extension": ".py",
   "mimetype": "text/x-python",
   "name": "python",
   "nbconvert_exporter": "python",
   "pygments_lexer": "ipython3",
   "version": "3.10.4"
  },
  "orig_nbformat": 4,
  "vscode": {
   "interpreter": {
    "hash": "0f2c79af21be9d001248940c049b6176cf8bfb45cabf7aa85848f5cea0f590f6"
   }
  }
 },
 "nbformat": 4,
 "nbformat_minor": 2
}
